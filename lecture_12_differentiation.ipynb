{
 "cells": [
  {
   "cell_type": "markdown",
   "metadata": {},
   "source": [
    "## Numerical Differentiation"
   ]
  },
  {
   "cell_type": "code",
   "execution_count": 25,
   "metadata": {
    "collapsed": false
   },
   "outputs": [
    {
     "name": "stdout",
     "output_type": "stream",
     "text": [
      "The history saving thread hit an unexpected error (OperationalError('attempt to write a readonly database',)).History will not be written to the database.\n"
     ]
    }
   ],
   "source": [
    "%matplotlib inline"
   ]
  },
  {
   "cell_type": "code",
   "execution_count": 26,
   "metadata": {
    "collapsed": false
   },
   "outputs": [],
   "source": [
    "import numpy as np\n",
    "import matplotlib.pyplot as pl"
   ]
  },
  {
   "cell_type": "markdown",
   "metadata": {},
   "source": [
    "Applications:\n",
    "\n",
    "1. Derivative difficult to compute analytically\n",
    "2. Rate of change in a dataset\n",
    " - You have position data but you want to know velocity\n",
    "3. Finding extrema\n",
    " - Important for fitting models to data (**ASTR 3800**)\n",
    " - Maximum likelihood methods\n",
    " - Topology: finding peaks and valleys (place where slope is zero)"
   ]
  },
  {
   "cell_type": "markdown",
   "metadata": {},
   "source": [
    "### Topology Example: South Pole Aitken Basin (lunar farside)"
   ]
  },
  {
   "cell_type": "markdown",
   "metadata": {},
   "source": [
    "Interesting:\n",
    "    \n",
    "1. Oldest impact basin in the solar system\n",
    "  - Important for studies of solar system formation\n",
    "2. Permananently shadowed craters\n",
    "  - High concentration of hydrogen (e.g., LCROSS mission)!\n",
    "  - Good place for an observatory (e.g., the Lunar Radio Array concept)!"
   ]
  },
  {
   "cell_type": "code",
   "execution_count": 27,
   "metadata": {
    "collapsed": false
   },
   "outputs": [],
   "source": [
    "from IPython.display import Image"
   ]
  },
  {
   "cell_type": "code",
   "execution_count": 28,
   "metadata": {
    "collapsed": false
   },
   "outputs": [
    {
     "data": {
      "text/html": [
       "<img src=\"http://wordlesstech.com/wp-content/uploads/2011/11/New-Map-of-the-Moon-2.jpg\"/>"
      ],
      "text/plain": [
       "<IPython.core.display.Image object>"
      ]
     },
     "execution_count": 28,
     "metadata": {},
     "output_type": "execute_result"
    }
   ],
   "source": [
    "Image(url='http://wordlesstech.com/wp-content/uploads/2011/11/New-Map-of-the-Moon-2.jpg')"
   ]
  },
  {
   "cell_type": "markdown",
   "metadata": {},
   "source": [
    "### Question\n",
    "> Image you're planning a mission to the South Pole Aitken Basin and want to explore some permanently shadowed craters. What factors might you consider in planning out your rover's landing site and route?"
   ]
  },
  {
   "cell_type": "markdown",
   "metadata": {},
   "source": [
    "#### Most rovers can tolerate grades up to about 20%, For reference, the grade on I-70 near Eisenhower Tunnel is about 6%."
   ]
  },
  {
   "cell_type": "markdown",
   "metadata": {},
   "source": [
    "## Differentiation Review"
   ]
  },
  {
   "cell_type": "raw",
   "metadata": {},
   "source": [
    "Chalkboard!"
   ]
  },
  {
   "cell_type": "markdown",
   "metadata": {},
   "source": [
    "### Numerical Derivatives on a Grid (Text Appendix B.2)"
   ]
  },
  {
   "cell_type": "raw",
   "metadata": {},
   "source": [
    "This function and the one below will calculate derivatives between pairs of points."
   ]
  },
  {
   "cell_type": "code",
   "execution_count": 29,
   "metadata": {
    "collapsed": false
   },
   "outputs": [],
   "source": [
    "def forwardDifference(f, x, h):\n",
    "    \"\"\"\n",
    "    A first order differentiation technique.\n",
    "    \n",
    "    Parameters\n",
    "    ----------\n",
    "    f : function to be differentiated\n",
    "    x : point of interest\n",
    "    h : step-size to use in approximation\n",
    "    \"\"\"\n",
    "    return (f(x + h) - f(x)) / h   # From our notes"
   ]
  },
  {
   "cell_type": "raw",
   "metadata": {},
   "source": [
    "Beware of trying to calculate differences at the edges of arrays and creating index errors!\n",
    "\n",
    "Second-order numerical derivative:"
   ]
  },
  {
   "cell_type": "code",
   "execution_count": 30,
   "metadata": {
    "collapsed": false
   },
   "outputs": [],
   "source": [
    "def centralDifference(f, x, h):\n",
    "    \"\"\"\n",
    "    A second order differentiation technique.\n",
    "    \n",
    "    Also known as `symmetric difference quotient.\n",
    "    \n",
    "    Parameters\n",
    "    ----------\n",
    "    f : function to be differentiated\n",
    "    x : point of interest\n",
    "    h : step-size to use in approximation\n",
    "\n",
    "    \"\"\"\n",
    "    return (f(x + h) - f(x - h)) / (2.0 * h)  # From our notes"
   ]
  },
  {
   "cell_type": "raw",
   "metadata": {},
   "source": [
    "This function will calculate the derivative of functions on a uniformly spaced grid using either the first or second-order derivative functions (i.e., either forwardDifference or centralDifference)."
   ]
  },
  {
   "cell_type": "code",
   "execution_count": 31,
   "metadata": {
    "collapsed": false
   },
   "outputs": [
    {
     "data": {
      "text/plain": [
       "(100,)"
      ]
     },
     "execution_count": 31,
     "metadata": {},
     "output_type": "execute_result"
    }
   ],
   "source": [
    "np.linspace(1,10,100).shape"
   ]
  },
  {
   "cell_type": "code",
   "execution_count": 33,
   "metadata": {
    "collapsed": false
   },
   "outputs": [],
   "source": [
    "def derivative(formula, func, xLower, xUpper, n):  \n",
    "    \"\"\"\n",
    "    Differentiate func(x) at all points from xLower\n",
    "    to xUpper with n *equally spaced* points.\n",
    "    \n",
    "    The differentiation formula is given by \n",
    "    formula(func, x, h).\n",
    "    \"\"\"\n",
    "    h = (xUpper - xLower) / float(n)                 # Calculate the derivative step size\n",
    "    xArray = np.linspace(xLower, xUpper, n)          # Create an array of x values\n",
    "    derivArray = np.zeros(n)               # Create an empty array for the derivative values\n",
    "    \n",
    "    for index in range(1, n - 1):                   # xrange(start, stop, [step])\n",
    "        derivArray[index] = formula(func, xArray[index], h)    # Calculate the derivative for the current\n",
    "                                                               # x value using the formula passed in\n",
    "\n",
    "    return (xArray[1:-1], derivArray[1:-1])    # This returns TWO things:\n",
    "                                               # x values and the derivative values"
   ]
  },
  {
   "cell_type": "markdown",
   "metadata": {},
   "source": [
    "#### Notice that we don't calculate the derivative at the end points because there are no points beyond them to difference with."
   ]
  },
  {
   "cell_type": "markdown",
   "metadata": {},
   "source": [
    "#### Q. So, what would happen without the [1:-1] in the return statement?"
   ]
  },
  {
   "cell_type": "code",
   "execution_count": 32,
   "metadata": {
    "collapsed": false
   },
   "outputs": [],
   "source": [
    "def derivative2(formula, func, xLower, xUpper, n):  \n",
    "    \"\"\"\n",
    "    Differentiate func(x) at all points from xLower\n",
    "    to xUpper with n+1 *equally spaced* points.\n",
    "    The differentiation formula is given by \n",
    "    formula(func, x, h).\n",
    "    \"\"\"\n",
    "    h = (xUpper - xLower) / float(n)                 # Calculate the derivative step size\n",
    "    xArray = np.linspace(xLower, xUpper, n)          # Create an array of x values\n",
    "    derivArray = np.zeros(n)               # Create an empty array for the derivative values\n",
    "    \n",
    "    for index in range(0, n):                       # xrange(start, stop, [step])\n",
    "        derivArray[index] = formula(func, xArray[index], h)    # Calculate the derivative for the current\n",
    "                                                               # x value using the formula passed in\n",
    "\n",
    "    return (xArray, derivArray)    # This returns TWO things:\n",
    "                                               # x values and the derivative values"
   ]
  },
  {
   "cell_type": "markdown",
   "metadata": {},
   "source": [
    "### Example: Differentiate $\\sin(x)$"
   ]
  },
  {
   "cell_type": "markdown",
   "metadata": {},
   "source": [
    "We know the answer:\n",
    "\n",
    "$$\\frac{d}{dx} \\left[\\sin(x)\\right] = \\cos(x)$$"
   ]
  },
  {
   "cell_type": "raw",
   "metadata": {},
   "source": [
    "Let's see if we reproduce this result numerically:"
   ]
  },
  {
   "cell_type": "code",
   "execution_count": 39,
   "metadata": {
    "collapsed": false
   },
   "outputs": [
    {
     "data": {
      "text/plain": [
       "<matplotlib.collections.PathCollection at 0x118f5f2b0>"
      ]
     },
     "execution_count": 39,
     "metadata": {},
     "output_type": "execute_result"
    },
    {
     "data": {
      "image/png": "[encoded data removed]",
      "text/plain": [
       "<matplotlib.figure.Figure at 0x118de8668>"
      ]
     },
     "metadata": {},
     "output_type": "display_data"
    }
   ],
   "source": [
    "tau = 2*np.pi\n",
    "\n",
    "x = np.linspace(0, tau, 100)\n",
    "\n",
    "# Plot sin and cos\n",
    "pl.plot(x, np.sin(x), color='k');\n",
    "pl.plot(x, np.cos(x), color='b');\n",
    "\n",
    "# Compute derivative using central difference formula\n",
    "xder, yder = derivative2(centralDifference, np.sin, 0, tau, 10) \n",
    "\n",
    "# Plot numerical derivative as scatter plot\n",
    "pl.scatter(xder, yder, color='g', s=100, marker='+', lw=2);\n",
    "# s controls marker size (experiment with it)\n",
    "# lw = \"linewidth\" in pixels"
   ]
  },
  {
   "cell_type": "markdown",
   "metadata": {},
   "source": [
    "#### Notice that the points miss the curve."
   ]
  },
  {
   "cell_type": "markdown",
   "metadata": {},
   "source": [
    "#### Q. How can we improve the accuracy of our numerical derivative?"
   ]
  },
  {
   "cell_type": "code",
   "execution_count": 41,
   "metadata": {
    "collapsed": false
   },
   "outputs": [
    {
     "data": {
      "text/plain": [
       "<matplotlib.collections.PathCollection at 0x1192e56a0>"
      ]
     },
     "execution_count": 41,
     "metadata": {},
     "output_type": "execute_result"
    },
    {
     "data": {
      "image/png": "[encoded data removed]",
      "text/plain": [
       "<matplotlib.figure.Figure at 0x104f37ef0>"
      ]
     },
     "metadata": {},
     "output_type": "display_data"
    }
   ],
   "source": [
    "# Plot sin and cos\n",
    "pl.plot(x, np.sin(x), color='k')\n",
    "pl.plot(x, np.cos(x), color='b')\n",
    "\n",
    "# Compute derivative using central difference formula\n",
    "xder, yder = derivative2(centralDifference, np.sin, 0, tau, 100) \n",
    "\n",
    "# Plot numerical derivative as scatter plot\n",
    "pl.scatter(xder, yder, color='g', s=100, marker='*', lw=2)  "
   ]
  },
  {
   "cell_type": "markdown",
   "metadata": {},
   "source": [
    "### Example: Traversing A 1-D landscape"
   ]
  },
  {
   "cell_type": "raw",
   "metadata": {},
   "source": [
    "Altitude vs. position along some predetermined route.\n",
    "\n",
    "Here, I've constructed a model 1-D landscape assuming 5 craters, with Gaussian shapes (of random width and amplitude) and random positions."
   ]
  },
  {
   "cell_type": "markdown",
   "metadata": {},
   "source": [
    "Gaussian Equation: \n",
    "\n",
    "$$f(x)=A * e^{-\\frac{(x-\\mu)^2}{2*\\sigma}}$$"
   ]
  },
  {
   "cell_type": "code",
   "execution_count": 42,
   "metadata": {
    "collapsed": false
   },
   "outputs": [],
   "source": [
    "numCraters = 5       # number of craters\n",
    "widthMax   = 1.0     # maximal width of Gaussian crater\n",
    "heightMin  = -1.0    # maximal depth of craters / valleys\n",
    "heightMax  = 2.0     # maximal height of hills / mountains\n",
    "\n",
    "# 1-D Gaussian\n",
    "def gaussian(x, A, mu, sigma):\n",
    "    return A * np.exp(-(x - mu)**2 / 2.0 / sigma**2)\n",
    "\n",
    "# 1-D Gaussian (same thing using lambda)\n",
    "#gaussian = lambda x, A, mu, sigma: A * np.exp(-(x - mu)**2 / 2. / sigma**2) \n",
    "\n",
    "# Create an array of linearly spaced x values\n",
    "xArray = np.linspace(0, 10, 500)  # km\n",
    "\n",
    "# Create an array of initially flat landscape (aka filled with 0's)\n",
    "yArray = np.zeros_like(xArray)\n",
    "\n",
    "# Add craters / mountains to landscape\n",
    "for _ in range(numCraters):    # '_' is the so called dummy variable\n",
    "    \n",
    "    # Amplitude between heightMin and heightMax\n",
    "    A = np.random.rand() * (heightMax - heightMin) + heightMin\n",
    "    \n",
    "    # Center location of the crater\n",
    "    center = np.random.rand() * xArray.max()\n",
    "    \n",
    "    # Width of the crater\n",
    "    sigma = np.random.rand() * widthMax\n",
    "    \n",
    "    # Add crater to landscape!\n",
    "    yArray += gaussian(xArray, A=A, mu=center, sigma=sigma)"
   ]
  },
  {
   "cell_type": "raw",
   "metadata": {},
   "source": [
    "Plot our 1-D landscape:"
   ]
  },
  {
   "cell_type": "code",
   "execution_count": 43,
   "metadata": {
    "collapsed": false
   },
   "outputs": [
    {
     "data": {
      "text/plain": [
       "<matplotlib.text.Text at 0x1192f0f28>"
      ]
     },
     "execution_count": 43,
     "metadata": {},
     "output_type": "execute_result"
    },
    {
     "data": {
      "image/png": "[encoded data removed]",
      "text/plain": [
       "<matplotlib.figure.Figure at 0x118e85748>"
      ]
     },
     "metadata": {},
     "output_type": "display_data"
    }
   ],
   "source": [
    "pl.plot(xArray, yArray, color='k')\n",
    "pl.xlabel('position [km]')\n",
    "pl.ylabel('altitutde [km]')"
   ]
  },
  {
   "cell_type": "markdown",
   "metadata": {},
   "source": [
    "#### Q. Where should our spacecraft land? What areas seem accessible?"
   ]
  },
  {
   "cell_type": "markdown",
   "metadata": {},
   "source": [
    "#### Q. How do we find the lowest point? Highest? How could we determine how many \"mountains\" and \"craters\" there are?"
   ]
  },
  {
   "cell_type": "raw",
   "metadata": {},
   "source": [
    "\n",
    "\n",
    "\n",
    "\n",
    "\n",
    "\n",
    "\n",
    "\n",
    "\n",
    "\n",
    "\n",
    "\n",
    "\n",
    "\n",
    "\n",
    "\n"
   ]
  },
  {
   "cell_type": "code",
   "execution_count": 44,
   "metadata": {
    "collapsed": false
   },
   "outputs": [],
   "source": [
    "dydx = np.diff(yArray) / np.diff(xArray)"
   ]
  },
  {
   "cell_type": "markdown",
   "metadata": {},
   "source": [
    "#### Q. What do you think \"diff\" does?"
   ]
  },
  {
   "cell_type": "code",
   "execution_count": 46,
   "metadata": {
    "collapsed": false
   },
   "outputs": [],
   "source": [
    "arr = np.array([1,4,10, 12,5, 7])"
   ]
  },
  {
   "cell_type": "code",
   "execution_count": 47,
   "metadata": {
    "collapsed": false
   },
   "outputs": [
    {
     "data": {
      "text/plain": [
       "array([ 3,  6,  2, -7,  2])"
      ]
     },
     "execution_count": 47,
     "metadata": {},
     "output_type": "execute_result"
    }
   ],
   "source": [
    "np.diff(arr)"
   ]
  },
  {
   "cell_type": "raw",
   "metadata": {},
   "source": [
    "\n",
    "\n",
    "\n",
    "\n",
    "\n",
    "\n",
    "\n",
    "\n",
    "\n",
    "\n",
    "\n",
    "\n",
    "\n",
    "\n",
    "\n",
    "\n",
    "\n"
   ]
  },
  {
   "cell_type": "markdown",
   "metadata": {},
   "source": [
    "#### Q. What type of differentiation scheme does this formula represent? How is this different than our \"derivative\" function from earlier?"
   ]
  },
  {
   "cell_type": "code",
   "execution_count": 48,
   "metadata": {
    "collapsed": false
   },
   "outputs": [
    {
     "data": {
      "text/plain": [
       "<matplotlib.legend.Legend at 0x11957dc18>"
      ]
     },
     "execution_count": 48,
     "metadata": {},
     "output_type": "execute_result"
    },
    {
     "data": {
      "image/png": "[encoded data removed]",
      "text/plain": [
       "<matplotlib.figure.Figure at 0x118cf54e0>"
      ]
     },
     "metadata": {},
     "output_type": "display_data"
    }
   ],
   "source": [
    "pl.plot(xArray[0:-1], dydx, color='r', label='slope')\n",
    "pl.plot(xArray, yArray, color='k', label='data')\n",
    "\n",
    "pl.xlabel('position [km]')\n",
    "pl.ylabel('slope')\n",
    "pl.plot([xArray.min(), xArray.max()], [0,0], color='k', ls=':')\n",
    "#pl.ylim(-4, 4)\n",
    "pl.legend(loc='best')"
   ]
  },
  {
   "cell_type": "markdown",
   "metadata": {},
   "source": [
    "#### Q. How many hills and craters are there?"
   ]
  },
  {
   "cell_type": "markdown",
   "metadata": {},
   "source": [
    "#### Q. Why did we use x[0:-1] in the above plot instead of x?"
   ]
  },
  {
   "cell_type": "raw",
   "metadata": {},
   "source": [
    "Imagine our rover can at best handle a slope of 0.5."
   ]
  },
  {
   "cell_type": "code",
   "execution_count": 49,
   "metadata": {
    "collapsed": false
   },
   "outputs": [],
   "source": [
    "slopeTolerance = 0.5"
   ]
  },
  {
   "cell_type": "markdown",
   "metadata": {},
   "source": [
    "#### Q. Using the slope, how could we determine which places we could reach and which we couldn't?"
   ]
  },
  {
   "cell_type": "raw",
   "metadata": {},
   "source": [
    "\n",
    "\n",
    "\n",
    "\n",
    "\n",
    "\n",
    "\n",
    "\n",
    "\n",
    "\n",
    "\n",
    "\n"
   ]
  },
  {
   "cell_type": "raw",
   "metadata": {},
   "source": [
    "How about some boolean logic?"
   ]
  },
  {
   "cell_type": "raw",
   "metadata": {},
   "source": [
    "First a review:"
   ]
  },
  {
   "cell_type": "code",
   "execution_count": 50,
   "metadata": {
    "collapsed": false
   },
   "outputs": [
    {
     "name": "stdout",
     "output_type": "stream",
     "text": [
      "[0 1 2 3 4]\n",
      "[False  True False False False]\n",
      "[1]\n"
     ]
    }
   ],
   "source": [
    "myArray = np.array([0, 1, 2, 3, 4])                  # Create an array\n",
    "\n",
    "tfArray = np.logical_and(myArray < 2, myArray != 0)  # Use boolean logic on array\n",
    "\n",
    "print (myArray)               # Print original array\n",
    "print (tfArray)               # Print the True/False array (from boolean logic)\n",
    "print (myArray[tfArray])      # Print the original array using True/False array to limit values"
   ]
  },
  {
   "cell_type": "raw",
   "metadata": {},
   "source": [
    "Now back to the show"
   ]
  },
  {
   "cell_type": "code",
   "execution_count": 53,
   "metadata": {
    "collapsed": false
   },
   "outputs": [],
   "source": [
    "reachable = np.logical_and(dydx < slopeTolerance, dydx > -slopeTolerance)\n",
    "unreachable = np.logical_not(reachable)"
   ]
  },
  {
   "cell_type": "code",
   "execution_count": 54,
   "metadata": {
    "collapsed": false
   },
   "outputs": [
    {
     "data": {
      "text/plain": [
       "<matplotlib.text.Text at 0x11982db38>"
      ]
     },
     "execution_count": 54,
     "metadata": {},
     "output_type": "execute_result"
    },
    {
     "data": {
      "image/png": "[encoded data removed]",
      "text/plain": [
       "<matplotlib.figure.Figure at 0x11979e710>"
      ]
     },
     "metadata": {},
     "output_type": "display_data"
    }
   ],
   "source": [
    "pl.plot(xArray, yArray, color='k')\n",
    "pl.scatter(xArray[:-1][unreachable], yArray[:-1][unreachable], color='r', label='bad')\n",
    "pl.scatter(xArray[:-1][reachable], yArray[:-1][reachable], color='g', label='good')\n",
    "\n",
    "pl.legend(loc='best')\n",
    "pl.xlabel('position [km]')\n",
    "pl.ylabel('altitude [km]')"
   ]
  },
  {
   "cell_type": "markdown",
   "metadata": {},
   "source": [
    "### Summary"
   ]
  },
  {
   "cell_type": "raw",
   "metadata": {},
   "source": [
    "1) Forward difference vs. central difference\n",
    "2) Differentiating functions vs. differentiating discrete values\n",
    "3) Using differences to find peaks and troughs in data."
   ]
  },
  {
   "cell_type": "code",
   "execution_count": null,
   "metadata": {
    "collapsed": true
   },
   "outputs": [],
   "source": []
  }
 ],
 "metadata": {
  "kernelspec": {
   "display_name": "Python 3",
   "language": "python",
   "name": "python3"
  },
  "language_info": {
   "codemirror_mode": {
    "name": "ipython",
    "version": 3
   },
   "file_extension": ".py",
   "mimetype": "text/x-python",
   "name": "python",
   "nbconvert_exporter": "python",
   "pygments_lexer": "ipython3",
   "version": "3.5.1"
  },
  "widgets": {
   "state": {},
   "version": "1.1.1"
  }
 },
 "nbformat": 4,
 "nbformat_minor": 0
}
