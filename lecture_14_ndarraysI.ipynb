{
 "cells": [
  {
   "cell_type": "markdown",
   "metadata": {},
   "source": [
    "### Multi-Dimensional Arrays"
   ]
  },
  {
   "cell_type": "raw",
   "metadata": {},
   "source": [
    "Matrices and Arrays\n",
    "\n",
    "You will delve into this in great depth when you take linear algebra, which is crucial for astronomy (think of representing astronomical images as 2-D matrices)!"
   ]
  },
  {
   "cell_type": "markdown",
   "metadata": {},
   "source": [
    "Standard matrix notation is $A_{i,j}$, where i and j are\n",
    "the row and column numbers, respectively.\n",
    "\n",
    "Read $A_{i,j}$ as \"A-sub-i-sub-j\" or \"A-sub-i-j\".\n",
    "Commas are often not used in the subscripts or\n",
    "have different meanings.\n",
    " \n",
    "In standard mathematics, the indexing starts with 1.\n",
    "\n",
    "In Python, the indexing starts with 0.\n"
   ]
  },
  {
   "cell_type": "raw",
   "metadata": {},
   "source": [
    "Matrices (arrays) can have an arbitrary number of dimensions.\n",
    "\n",
    "The number of dimensions is the \"rank\"."
   ]
  },
  {
   "cell_type": "markdown",
   "metadata": {},
   "source": [
    "#### Q. What is the rank of $A_{i,j,k,l}$?"
   ]
  },
  {
   "cell_type": "markdown",
   "metadata": {},
   "source": [
    "The shape of an array is a $d$-vector (or 1-D array) that holds the number of elements in each dimension. $d$ represents the dimensionality of the array.\n",
    "\n",
    "E.g., the shape of a $A_{i,j,k,l}$ is ($n_i$, $n_j$, $n_k$, $n_l$), where n denotes the number of elements in dimensions $i$, $j$, $k$, and $l$."
   ]
  },
  {
   "cell_type": "markdown",
   "metadata": {},
   "source": [
    "### Two-Dimensional Numerical Python Arrays"
   ]
  },
  {
   "cell_type": "markdown",
   "metadata": {},
   "source": [
    "A 2-D array is a matrix, and is analogous to an array of arrays, though each element of an array must have the same data type.\n",
    "\n",
    "* Example:  $$wave = \\frac{c}{freq}$$\n",
    "\n",
    "with wavelength in meters, \n",
    "c = 3.00e8 m/s, and\n",
    "frequency in Hz.\n",
    " \n",
    "We will convert wavelengths of 1 mm to 3 mm\n",
    "to frequencies, bracketing the peak in the cosmic \n",
    "microwave background radiation."
   ]
  },
  {
   "cell_type": "code",
   "execution_count": null,
   "metadata": {
    "collapsed": false
   },
   "outputs": [],
   "source": [
    "import numpy as np"
   ]
  },
  {
   "cell_type": "code",
   "execution_count": 143,
   "metadata": {
    "collapsed": false
   },
   "outputs": [],
   "source": [
    "from scipy.constants import c, G, h"
   ]
  },
  {
   "cell_type": "code",
   "execution_count": 151,
   "metadata": {
    "collapsed": false
   },
   "outputs": [],
   "source": [
    "# Create a wavelength array (in mm):\n",
    "waves = np.linspace(1.0, 3.0, 21)"
   ]
  },
  {
   "cell_type": "markdown",
   "metadata": {},
   "source": [
    "#### Q. What will the maximum (last element) of wave be? How to check?"
   ]
  },
  {
   "cell_type": "code",
   "execution_count": 152,
   "metadata": {
    "collapsed": false
   },
   "outputs": [
    {
     "name": "stdout",
     "output_type": "stream",
     "text": [
      "3.0\n"
     ]
    },
    {
     "data": {
      "text/plain": [
       "array([ 1. ,  1.1,  1.2,  1.3,  1.4,  1.5,  1.6,  1.7,  1.8,  1.9,  2. ,\n",
       "        2.1,  2.2,  2.3,  2.4,  2.5,  2.6,  2.7,  2.8,  2.9,  3. ])"
      ]
     },
     "execution_count": 152,
     "metadata": {},
     "output_type": "execute_result"
    }
   ],
   "source": [
    "print(waves.max())\n",
    "waves"
   ]
  },
  {
   "cell_type": "code",
   "execution_count": 154,
   "metadata": {
    "collapsed": false
   },
   "outputs": [
    {
     "data": {
      "text/plain": [
       "array([  2.99792458e+11,   2.72538598e+11,   2.49827048e+11,\n",
       "         2.30609583e+11,   2.14137470e+11,   1.99861639e+11,\n",
       "         1.87370286e+11,   1.76348505e+11,   1.66551366e+11,\n",
       "         1.57785504e+11,   1.49896229e+11,   1.42758313e+11,\n",
       "         1.36269299e+11,   1.30344547e+11,   1.24913524e+11,\n",
       "         1.19916983e+11,   1.15304792e+11,   1.11034244e+11,\n",
       "         1.07068735e+11,   1.03376710e+11,   9.99308193e+10])"
      ]
     },
     "execution_count": 154,
     "metadata": {},
     "output_type": "execute_result"
    }
   ],
   "source": [
    "# Now, convert to frequency \n",
    "# (note conversion from mm to m):\n",
    "\n",
    "freqs = c / (waves / 1e3)\n",
    "freqs"
   ]
  },
  {
   "cell_type": "code",
   "execution_count": 155,
   "metadata": {
    "collapsed": false
   },
   "outputs": [
    {
     "name": "stdout",
     "output_type": "stream",
     "text": [
      "[1.0, 299792458000.0]\n",
      "[1.1000000000000001, 272538598181.81818]\n",
      "[1.2, 249827048333.33334]\n",
      "[1.3, 230609583076.9231]\n",
      "[1.3999999999999999, 214137470000.0]\n",
      "[1.5, 199861638666.66666]\n",
      "[1.6000000000000001, 187370286250.0]\n",
      "[1.7000000000000002, 176348504705.88235]\n",
      "[1.8, 166551365555.55557]\n",
      "[1.8999999999999999, 157785504210.52631]\n",
      "[2.0, 149896229000.0]\n",
      "[2.1000000000000001, 142758313333.33331]\n",
      "[2.2000000000000002, 136269299090.90909]\n",
      "[2.2999999999999998, 130344546956.52174]\n",
      "[2.4000000000000004, 124913524166.66666]\n",
      "[2.5, 119916983200.0]\n",
      "[2.6000000000000001, 115304791538.46155]\n",
      "[2.7000000000000002, 111034243703.7037]\n",
      "[2.7999999999999998, 107068735000.0]\n",
      "[2.9000000000000004, 103376709655.17241]\n",
      "[3.0, 99930819333.333328]\n"
     ]
    }
   ],
   "source": [
    "# Make a table & print (zip pairs up wave and freq \n",
    "# into a list of tuples):\n",
    "\n",
    "table = [[wave, freq] for wave, freq in zip(waves, freqs)]\n",
    "\n",
    "for row in table:\n",
    "    print(row)"
   ]
  },
  {
   "cell_type": "code",
   "execution_count": 159,
   "metadata": {
    "collapsed": false
   },
   "outputs": [
    {
     "name": "stdout",
     "output_type": "stream",
     "text": [
      "[[  1.00000000e+00   2.99792458e+11]\n",
      " [  1.10000000e+00   2.72538598e+11]\n",
      " [  1.20000000e+00   2.49827048e+11]\n",
      " [  1.30000000e+00   2.30609583e+11]\n",
      " [  1.40000000e+00   2.14137470e+11]\n",
      " [  1.50000000e+00   1.99861639e+11]\n",
      " [  1.60000000e+00   1.87370286e+11]\n",
      " [  1.70000000e+00   1.76348505e+11]\n",
      " [  1.80000000e+00   1.66551366e+11]\n",
      " [  1.90000000e+00   1.57785504e+11]\n",
      " [  2.00000000e+00   1.49896229e+11]\n",
      " [  2.10000000e+00   1.42758313e+11]\n",
      " [  2.20000000e+00   1.36269299e+11]\n",
      " [  2.30000000e+00   1.30344547e+11]\n",
      " [  2.40000000e+00   1.24913524e+11]\n",
      " [  2.50000000e+00   1.19916983e+11]\n",
      " [  2.60000000e+00   1.15304792e+11]\n",
      " [  2.70000000e+00   1.11034244e+11]\n",
      " [  2.80000000e+00   1.07068735e+11]\n",
      " [  2.90000000e+00   1.03376710e+11]\n",
      " [  3.00000000e+00   9.99308193e+10]]\n"
     ]
    }
   ],
   "source": [
    "print(np.array(table))"
   ]
  },
  {
   "cell_type": "code",
   "execution_count": 160,
   "metadata": {
    "collapsed": false
   },
   "outputs": [
    {
     "name": "stdout",
     "output_type": "stream",
     "text": [
      "[(1.0, 299792458000.0), (1.1000000000000001, 272538598181.81818), (1.2, 249827048333.33334), (1.3, 230609583076.9231), (1.3999999999999999, 214137470000.0), (1.5, 199861638666.66666), (1.6000000000000001, 187370286250.0), (1.7000000000000002, 176348504705.88235), (1.8, 166551365555.55557), (1.8999999999999999, 157785504210.52631), (2.0, 149896229000.0), (2.1000000000000001, 142758313333.33331), (2.2000000000000002, 136269299090.90909), (2.2999999999999998, 130344546956.52174), (2.4000000000000004, 124913524166.66666), (2.5, 119916983200.0), (2.6000000000000001, 115304791538.46155), (2.7000000000000002, 111034243703.7037), (2.7999999999999998, 107068735000.0), (2.9000000000000004, 103376709655.17241), (3.0, 99930819333.333328)]\n"
     ]
    }
   ],
   "source": [
    "# Just for review:\n",
    "\n",
    "print(list(zip(waves, freqs)))"
   ]
  },
  {
   "cell_type": "raw",
   "metadata": {},
   "source": [
    "Alternatively,"
   ]
  },
  {
   "cell_type": "code",
   "execution_count": 170,
   "metadata": {
    "collapsed": false
   },
   "outputs": [
    {
     "data": {
      "text/plain": [
       "array([[  1.00000000e+00,   1.10000000e+00,   1.20000000e+00,\n",
       "          1.30000000e+00,   1.40000000e+00,   1.50000000e+00,\n",
       "          1.60000000e+00,   1.70000000e+00,   1.80000000e+00,\n",
       "          1.90000000e+00,   2.00000000e+00,   2.10000000e+00,\n",
       "          2.20000000e+00,   2.30000000e+00,   2.40000000e+00,\n",
       "          2.50000000e+00,   2.60000000e+00,   2.70000000e+00,\n",
       "          2.80000000e+00,   2.90000000e+00,   3.00000000e+00],\n",
       "       [  2.99792458e+11,   2.72538598e+11,   2.49827048e+11,\n",
       "          2.30609583e+11,   2.14137470e+11,   1.99861639e+11,\n",
       "          1.87370286e+11,   1.76348505e+11,   1.66551366e+11,\n",
       "          1.57785504e+11,   1.49896229e+11,   1.42758313e+11,\n",
       "          1.36269299e+11,   1.30344547e+11,   1.24913524e+11,\n",
       "          1.19916983e+11,   1.15304792e+11,   1.11034244e+11,\n",
       "          1.07068735e+11,   1.03376710e+11,   9.99308193e+10]])"
      ]
     },
     "execution_count": 170,
     "metadata": {},
     "output_type": "execute_result"
    }
   ],
   "source": [
    "table = np.array([waves, freqs])\n",
    "table"
   ]
  },
  {
   "cell_type": "raw",
   "metadata": {},
   "source": [
    "This isn't quite what we had above. Instead of (wavelength, frequency) pairs, all wavelengths are in one sub-array, and all the frequencies in another. The table is column major now."
   ]
  },
  {
   "cell_type": "markdown",
   "metadata": {},
   "source": [
    "#### Q. How could we regroup elements to match the previous incarnation? (row major)"
   ]
  },
  {
   "cell_type": "code",
   "execution_count": 171,
   "metadata": {
    "collapsed": false
   },
   "outputs": [
    {
     "data": {
      "text/plain": [
       "array([[  1.00000000e+00,   2.99792458e+11],\n",
       "       [  1.10000000e+00,   2.72538598e+11],\n",
       "       [  1.20000000e+00,   2.49827048e+11],\n",
       "       [  1.30000000e+00,   2.30609583e+11],\n",
       "       [  1.40000000e+00,   2.14137470e+11],\n",
       "       [  1.50000000e+00,   1.99861639e+11],\n",
       "       [  1.60000000e+00,   1.87370286e+11],\n",
       "       [  1.70000000e+00,   1.76348505e+11],\n",
       "       [  1.80000000e+00,   1.66551366e+11],\n",
       "       [  1.90000000e+00,   1.57785504e+11],\n",
       "       [  2.00000000e+00,   1.49896229e+11],\n",
       "       [  2.10000000e+00,   1.42758313e+11],\n",
       "       [  2.20000000e+00,   1.36269299e+11],\n",
       "       [  2.30000000e+00,   1.30344547e+11],\n",
       "       [  2.40000000e+00,   1.24913524e+11],\n",
       "       [  2.50000000e+00,   1.19916983e+11],\n",
       "       [  2.60000000e+00,   1.15304792e+11],\n",
       "       [  2.70000000e+00,   1.11034244e+11],\n",
       "       [  2.80000000e+00,   1.07068735e+11],\n",
       "       [  2.90000000e+00,   1.03376710e+11],\n",
       "       [  3.00000000e+00,   9.99308193e+10]])"
      ]
     },
     "execution_count": 171,
     "metadata": {},
     "output_type": "execute_result"
    }
   ],
   "source": [
    "table.transpose()"
   ]
  },
  {
   "cell_type": "raw",
   "metadata": {},
   "source": [
    "Now, table is a two-dimensional array with 21 rows and 2 columns."
   ]
  },
  {
   "cell_type": "code",
   "execution_count": 172,
   "metadata": {
    "collapsed": false
   },
   "outputs": [],
   "source": [
    "# let's just work with the transpose\n",
    "\n",
    "table = table.T "
   ]
  },
  {
   "cell_type": "markdown",
   "metadata": {},
   "source": [
    "#### Q. What should this yield?"
   ]
  },
  {
   "cell_type": "code",
   "execution_count": 169,
   "metadata": {
    "collapsed": false
   },
   "outputs": [
    {
     "data": {
      "text/plain": [
       "(21, 2)"
      ]
     },
     "execution_count": 169,
     "metadata": {},
     "output_type": "execute_result"
    }
   ],
   "source": [
    "table.shape"
   ]
  },
  {
   "cell_type": "raw",
   "metadata": {},
   "source": [
    "Arrays can be indexed in one of two ways:"
   ]
  },
  {
   "cell_type": "markdown",
   "metadata": {},
   "source": [
    "#### Q. What should this be?"
   ]
  },
  {
   "cell_type": "code",
   "execution_count": 173,
   "metadata": {
    "collapsed": false
   },
   "outputs": [
    {
     "data": {
      "text/plain": [
       "3.0"
      ]
     },
     "execution_count": 173,
     "metadata": {},
     "output_type": "execute_result"
    }
   ],
   "source": [
    "table[20][0]"
   ]
  },
  {
   "cell_type": "raw",
   "metadata": {},
   "source": [
    "Or, alternatively:"
   ]
  },
  {
   "cell_type": "code",
   "execution_count": 174,
   "metadata": {
    "collapsed": false
   },
   "outputs": [
    {
     "data": {
      "text/plain": [
       "3.0"
      ]
     },
     "execution_count": 174,
     "metadata": {},
     "output_type": "execute_result"
    }
   ],
   "source": [
    "table[20,0]"
   ]
  },
  {
   "cell_type": "markdown",
   "metadata": {},
   "source": [
    "#### Not possible for lists! :"
   ]
  },
  {
   "cell_type": "code",
   "execution_count": 175,
   "metadata": {
    "collapsed": false
   },
   "outputs": [
    {
     "name": "stdout",
     "output_type": "stream",
     "text": [
      "3.0\n"
     ]
    },
    {
     "ename": "TypeError",
     "evalue": "list indices must be integers or slices, not tuple",
     "output_type": "error",
     "traceback": [
      "\u001b[0;31m---------------------------------------------------------------------------\u001b[0m",
      "\u001b[0;31mTypeError\u001b[0m                                 Traceback (most recent call last)",
      "\u001b[0;32m<ipython-input-175-48cdfca09bf5>\u001b[0m in \u001b[0;36m<module>\u001b[0;34m()\u001b[0m\n\u001b[1;32m      1\u001b[0m \u001b[0ml\u001b[0m \u001b[0;34m=\u001b[0m \u001b[0mlist\u001b[0m\u001b[0;34m(\u001b[0m\u001b[0mtable\u001b[0m\u001b[0;34m)\u001b[0m\u001b[0;34m\u001b[0m\u001b[0m\n\u001b[1;32m      2\u001b[0m \u001b[0mprint\u001b[0m\u001b[0;34m(\u001b[0m\u001b[0ml\u001b[0m\u001b[0;34m[\u001b[0m\u001b[0;36m20\u001b[0m\u001b[0;34m]\u001b[0m\u001b[0;34m[\u001b[0m\u001b[0;36m0\u001b[0m\u001b[0;34m]\u001b[0m\u001b[0;34m)\u001b[0m\u001b[0;34m\u001b[0m\u001b[0m\n\u001b[0;32m----> 3\u001b[0;31m \u001b[0ml\u001b[0m\u001b[0;34m[\u001b[0m\u001b[0;36m20\u001b[0m\u001b[0;34m,\u001b[0m\u001b[0;36m0\u001b[0m\u001b[0;34m]\u001b[0m\u001b[0;34m\u001b[0m\u001b[0m\n\u001b[0m",
      "\u001b[0;31mTypeError\u001b[0m: list indices must be integers or slices, not tuple"
     ]
    }
   ],
   "source": [
    "l = list(table)\n",
    "print(l[20][0])\n",
    "l[20,0]"
   ]
  },
  {
   "cell_type": "raw",
   "metadata": {},
   "source": [
    "To loop over & print all the dimensions of the array:"
   ]
  },
  {
   "cell_type": "code",
   "execution_count": 177,
   "metadata": {
    "collapsed": false
   },
   "outputs": [
    {
     "data": {
      "text/plain": [
       "(21, 2)"
      ]
     },
     "execution_count": 177,
     "metadata": {},
     "output_type": "execute_result"
    }
   ],
   "source": [
    "table.shape"
   ]
  },
  {
   "cell_type": "code",
   "execution_count": 178,
   "metadata": {
    "collapsed": false,
    "scrolled": false
   },
   "outputs": [
    {
     "name": "stdout",
     "output_type": "stream",
     "text": [
      "table[0, 0] = 1\n",
      "table[0, 1] = 2.99792e+11\n",
      "table[1, 0] = 1.1\n",
      "table[1, 1] = 2.72539e+11\n",
      "table[2, 0] = 1.2\n",
      "table[2, 1] = 2.49827e+11\n",
      "table[3, 0] = 1.3\n",
      "table[3, 1] = 2.3061e+11\n",
      "table[4, 0] = 1.4\n",
      "table[4, 1] = 2.14137e+11\n",
      "table[5, 0] = 1.5\n",
      "table[5, 1] = 1.99862e+11\n",
      "table[6, 0] = 1.6\n",
      "table[6, 1] = 1.8737e+11\n",
      "table[7, 0] = 1.7\n",
      "table[7, 1] = 1.76349e+11\n",
      "table[8, 0] = 1.8\n",
      "table[8, 1] = 1.66551e+11\n",
      "table[9, 0] = 1.9\n",
      "table[9, 1] = 1.57786e+11\n",
      "table[10, 0] = 2\n",
      "table[10, 1] = 1.49896e+11\n",
      "table[11, 0] = 2.1\n",
      "table[11, 1] = 1.42758e+11\n",
      "table[12, 0] = 2.2\n",
      "table[12, 1] = 1.36269e+11\n",
      "table[13, 0] = 2.3\n",
      "table[13, 1] = 1.30345e+11\n",
      "table[14, 0] = 2.4\n",
      "table[14, 1] = 1.24914e+11\n",
      "table[15, 0] = 2.5\n",
      "table[15, 1] = 1.19917e+11\n",
      "table[16, 0] = 2.6\n",
      "table[16, 1] = 1.15305e+11\n",
      "table[17, 0] = 2.7\n",
      "table[17, 1] = 1.11034e+11\n",
      "table[18, 0] = 2.8\n",
      "table[18, 1] = 1.07069e+11\n",
      "table[19, 0] = 2.9\n",
      "table[19, 1] = 1.03377e+11\n",
      "table[20, 0] = 3\n",
      "table[20, 1] = 9.99308e+10\n"
     ]
    }
   ],
   "source": [
    "for index1 in range(table.shape[0]):\n",
    "\n",
    "    # Q. What is table.shape[0]?\n",
    "    \n",
    "    for index2 in range(table.shape[1]):\n",
    "        print('table[{}, {}] = {:g}'.format(index1, index2, \n",
    "                                            table[index1, index2]))\n",
    "        \n",
    "        # Q. What will this loop print?\n",
    "        "
   ]
  },
  {
   "cell_type": "markdown",
   "metadata": {},
   "source": [
    "When you just loop over the elements of an array, you get rows:"
   ]
  },
  {
   "cell_type": "code",
   "execution_count": 179,
   "metadata": {
    "collapsed": false
   },
   "outputs": [
    {
     "data": {
      "text/plain": [
       "21"
      ]
     },
     "execution_count": 179,
     "metadata": {},
     "output_type": "execute_result"
    }
   ],
   "source": [
    "table.shape[0]"
   ]
  },
  {
   "cell_type": "code",
   "execution_count": 180,
   "metadata": {
    "collapsed": false
   },
   "outputs": [
    {
     "name": "stdout",
     "output_type": "stream",
     "text": [
      "[  1.00000000e+00   2.99792458e+11]\n",
      "[  1.10000000e+00   2.72538598e+11]\n",
      "[  1.20000000e+00   2.49827048e+11]\n",
      "[  1.30000000e+00   2.30609583e+11]\n",
      "[  1.40000000e+00   2.14137470e+11]\n",
      "[  1.50000000e+00   1.99861639e+11]\n",
      "[  1.60000000e+00   1.87370286e+11]\n",
      "[  1.70000000e+00   1.76348505e+11]\n",
      "[  1.80000000e+00   1.66551366e+11]\n",
      "[  1.90000000e+00   1.57785504e+11]\n",
      "[  2.00000000e+00   1.49896229e+11]\n",
      "[  2.10000000e+00   1.42758313e+11]\n",
      "[  2.20000000e+00   1.36269299e+11]\n",
      "[  2.30000000e+00   1.30344547e+11]\n",
      "[  2.40000000e+00   1.24913524e+11]\n",
      "[  2.50000000e+00   1.19916983e+11]\n",
      "[  2.60000000e+00   1.15304792e+11]\n",
      "[  2.70000000e+00   1.11034244e+11]\n",
      "[  2.80000000e+00   1.07068735e+11]\n",
      "[  2.90000000e+00   1.03376710e+11]\n",
      "[  3.00000000e+00   9.99308193e+10]\n"
     ]
    }
   ],
   "source": [
    "for row in table:   # don't be fooled, it's not my naming of the looper that does that!\n",
    "    print(row)"
   ]
  },
  {
   "cell_type": "code",
   "execution_count": 181,
   "metadata": {
    "collapsed": false
   },
   "outputs": [
    {
     "name": "stdout",
     "output_type": "stream",
     "text": [
      "[  1.00000000e+00   2.99792458e+11]\n",
      "[  1.10000000e+00   2.72538598e+11]\n",
      "[  1.20000000e+00   2.49827048e+11]\n",
      "[  1.30000000e+00   2.30609583e+11]\n",
      "[  1.40000000e+00   2.14137470e+11]\n",
      "[  1.50000000e+00   1.99861639e+11]\n",
      "[  1.60000000e+00   1.87370286e+11]\n",
      "[  1.70000000e+00   1.76348505e+11]\n",
      "[  1.80000000e+00   1.66551366e+11]\n",
      "[  1.90000000e+00   1.57785504e+11]\n",
      "[  2.00000000e+00   1.49896229e+11]\n",
      "[  2.10000000e+00   1.42758313e+11]\n",
      "[  2.20000000e+00   1.36269299e+11]\n",
      "[  2.30000000e+00   1.30344547e+11]\n",
      "[  2.40000000e+00   1.24913524e+11]\n",
      "[  2.50000000e+00   1.19916983e+11]\n",
      "[  2.60000000e+00   1.15304792e+11]\n",
      "[  2.70000000e+00   1.11034244e+11]\n",
      "[  2.80000000e+00   1.07068735e+11]\n",
      "[  2.90000000e+00   1.03376710e+11]\n",
      "[  3.00000000e+00   9.99308193e+10]\n"
     ]
    }
   ],
   "source": [
    "for idontknowwhat in table:   \n",
    "    print(idontknowwhat)"
   ]
  },
  {
   "cell_type": "markdown",
   "metadata": {},
   "source": [
    "This could also be done with one loop using numpy's ndenumerate.\n",
    "\n",
    "ndenumerate will enumerate the rows and columns of the array:"
   ]
  },
  {
   "cell_type": "code",
   "execution_count": 182,
   "metadata": {
    "collapsed": false
   },
   "outputs": [
    {
     "name": "stdout",
     "output_type": "stream",
     "text": [
      "index (0, 0) has value 1.00e+00\n",
      "index (0, 1) has value 3.00e+11\n",
      "index (1, 0) has value 1.10e+00\n",
      "index (1, 1) has value 2.73e+11\n",
      "index (2, 0) has value 1.20e+00\n",
      "index (2, 1) has value 2.50e+11\n",
      "index (3, 0) has value 1.30e+00\n",
      "index (3, 1) has value 2.31e+11\n",
      "index (4, 0) has value 1.40e+00\n",
      "index (4, 1) has value 2.14e+11\n",
      "index (5, 0) has value 1.50e+00\n",
      "index (5, 1) has value 2.00e+11\n",
      "index (6, 0) has value 1.60e+00\n",
      "index (6, 1) has value 1.87e+11\n",
      "index (7, 0) has value 1.70e+00\n",
      "index (7, 1) has value 1.76e+11\n",
      "index (8, 0) has value 1.80e+00\n",
      "index (8, 1) has value 1.67e+11\n",
      "index (9, 0) has value 1.90e+00\n",
      "index (9, 1) has value 1.58e+11\n",
      "index (10, 0) has value 2.00e+00\n",
      "index (10, 1) has value 1.50e+11\n",
      "index (11, 0) has value 2.10e+00\n",
      "index (11, 1) has value 1.43e+11\n",
      "index (12, 0) has value 2.20e+00\n",
      "index (12, 1) has value 1.36e+11\n",
      "index (13, 0) has value 2.30e+00\n",
      "index (13, 1) has value 1.30e+11\n",
      "index (14, 0) has value 2.40e+00\n",
      "index (14, 1) has value 1.25e+11\n",
      "index (15, 0) has value 2.50e+00\n",
      "index (15, 1) has value 1.20e+11\n",
      "index (16, 0) has value 2.60e+00\n",
      "index (16, 1) has value 1.15e+11\n",
      "index (17, 0) has value 2.70e+00\n",
      "index (17, 1) has value 1.11e+11\n",
      "index (18, 0) has value 2.80e+00\n",
      "index (18, 1) has value 1.07e+11\n",
      "index (19, 0) has value 2.90e+00\n",
      "index (19, 1) has value 1.03e+11\n",
      "index (20, 0) has value 3.00e+00\n",
      "index (20, 1) has value 9.99e+10\n"
     ]
    }
   ],
   "source": [
    "for index_tuple, value in np.ndenumerate(table):\n",
    "    print('index {} has value {:.2e}'.format(index_tuple, value))"
   ]
  },
  {
   "cell_type": "markdown",
   "metadata": {},
   "source": [
    "#### Q. Reminder:  what is the shape of table?"
   ]
  },
  {
   "cell_type": "code",
   "execution_count": 183,
   "metadata": {
    "collapsed": false
   },
   "outputs": [
    {
     "name": "stdout",
     "output_type": "stream",
     "text": [
      "(21, 2)\n",
      "<class 'tuple'>\n"
     ]
    }
   ],
   "source": [
    "print(table.shape)\n",
    "print(type(table.shape))"
   ]
  },
  {
   "cell_type": "markdown",
   "metadata": {},
   "source": [
    "#### Q. So what is table.shape[0]?"
   ]
  },
  {
   "cell_type": "code",
   "execution_count": 184,
   "metadata": {
    "collapsed": false
   },
   "outputs": [
    {
     "data": {
      "text/plain": [
       "21"
      ]
     },
     "execution_count": 184,
     "metadata": {},
     "output_type": "execute_result"
    }
   ],
   "source": [
    "table.shape[0]"
   ]
  },
  {
   "cell_type": "markdown",
   "metadata": {},
   "source": [
    "#### Q. And table.shape[1]?"
   ]
  },
  {
   "cell_type": "code",
   "execution_count": 185,
   "metadata": {
    "collapsed": false
   },
   "outputs": [
    {
     "data": {
      "text/plain": [
       "2"
      ]
     },
     "execution_count": 185,
     "metadata": {},
     "output_type": "execute_result"
    }
   ],
   "source": [
    "table.shape[1]"
   ]
  },
  {
   "cell_type": "markdown",
   "metadata": {},
   "source": [
    "Arrays can be sliced analogously to lists.\n",
    "\n",
    "But we already saw, there's more indexing posssibilities on top with numpy."
   ]
  },
  {
   "cell_type": "code",
   "execution_count": 186,
   "metadata": {
    "collapsed": false
   },
   "outputs": [
    {
     "data": {
      "text/plain": [
       "array([  1.00000000e+00,   2.99792458e+11])"
      ]
     },
     "execution_count": 186,
     "metadata": {},
     "output_type": "execute_result"
    }
   ],
   "source": [
    "table[0]"
   ]
  },
  {
   "cell_type": "markdown",
   "metadata": {},
   "source": [
    "#### Q: How to get the first column instead?"
   ]
  },
  {
   "cell_type": "raw",
   "metadata": {},
   "source": [
    "\n",
    "\n",
    "\n",
    "\n",
    "\n",
    "\n",
    "\n",
    "\n",
    "\n",
    "\n",
    "\n",
    "\n",
    "\n",
    "\n",
    "\n"
   ]
  },
  {
   "cell_type": "code",
   "execution_count": 187,
   "metadata": {
    "collapsed": false
   },
   "outputs": [
    {
     "data": {
      "text/plain": [
       "array([ 1. ,  1.1,  1.2,  1.3,  1.4,  1.5,  1.6,  1.7,  1.8,  1.9,  2. ,\n",
       "        2.1,  2.2,  2.3,  2.4,  2.5,  2.6,  2.7,  2.8,  2.9,  3. ])"
      ]
     },
     "execution_count": 187,
     "metadata": {},
     "output_type": "execute_result"
    }
   ],
   "source": [
    "table[:, 0]"
   ]
  },
  {
   "cell_type": "code",
   "execution_count": 188,
   "metadata": {
    "collapsed": false
   },
   "outputs": [
    {
     "data": {
      "text/plain": [
       "array([  1.00000000e+00,   2.99792458e+11])"
      ]
     },
     "execution_count": 188,
     "metadata": {},
     "output_type": "execute_result"
    }
   ],
   "source": [
    "# Note that this is different.\n",
    "\n",
    "# Q. What is this?\n",
    "\n",
    "table[:][0]"
   ]
  },
  {
   "cell_type": "code",
   "execution_count": 189,
   "metadata": {
    "collapsed": false
   },
   "outputs": [
    {
     "data": {
      "text/plain": [
       "array([  2.99792458e+11,   2.72538598e+11,   2.49827048e+11,\n",
       "         2.30609583e+11,   2.14137470e+11,   1.99861639e+11,\n",
       "         1.87370286e+11,   1.76348505e+11,   1.66551366e+11,\n",
       "         1.57785504e+11,   1.49896229e+11,   1.42758313e+11,\n",
       "         1.36269299e+11,   1.30344547e+11,   1.24913524e+11,\n",
       "         1.19916983e+11,   1.15304792e+11,   1.11034244e+11,\n",
       "         1.07068735e+11,   1.03376710e+11,   9.99308193e+10])"
      ]
     },
     "execution_count": 189,
     "metadata": {},
     "output_type": "execute_result"
    }
   ],
   "source": [
    "# This will print the second column:\n",
    "\n",
    "table[:, 1]"
   ]
  },
  {
   "cell_type": "code",
   "execution_count": 191,
   "metadata": {
    "collapsed": false
   },
   "outputs": [
    {
     "name": "stdout",
     "output_type": "stream",
     "text": [
      "[[  1.00000000e+00   2.99792458e+11]\n",
      " [  1.10000000e+00   2.72538598e+11]\n",
      " [  1.20000000e+00   2.49827048e+11]\n",
      " [  1.30000000e+00   2.30609583e+11]\n",
      " [  1.40000000e+00   2.14137470e+11]]\n",
      "\n",
      "[[  1.00000000e+00   2.99792458e+11]\n",
      " [  1.10000000e+00   2.72538598e+11]\n",
      " [  1.20000000e+00   2.49827048e+11]\n",
      " [  1.30000000e+00   2.30609583e+11]\n",
      " [  1.40000000e+00   2.14137470e+11]]\n"
     ]
    }
   ],
   "source": [
    "# To get the first five rows of the table:\n",
    "    \n",
    "print(table[:5, :])\n",
    "\n",
    "print()\n",
    "\n",
    "# Same as:\n",
    "print(table[:5])"
   ]
  },
  {
   "cell_type": "markdown",
   "metadata": {},
   "source": [
    "Numpy also has a multi-dimensional lazy indexing trick under its sleeve:"
   ]
  },
  {
   "cell_type": "code",
   "execution_count": 192,
   "metadata": {
    "collapsed": false
   },
   "outputs": [
    {
     "ename": "TypeError",
     "evalue": "data type not understood",
     "output_type": "error",
     "traceback": [
      "\u001b[0;31m---------------------------------------------------------------------------\u001b[0m",
      "\u001b[0;31mTypeError\u001b[0m                                 Traceback (most recent call last)",
      "\u001b[0;32m<ipython-input-192-bc2beecb780f>\u001b[0m in \u001b[0;36m<module>\u001b[0;34m()\u001b[0m\n\u001b[0;32m----> 1\u001b[0;31m \u001b[0mndarray\u001b[0m \u001b[0;34m=\u001b[0m \u001b[0mnp\u001b[0m\u001b[0;34m.\u001b[0m\u001b[0mzeros\u001b[0m\u001b[0;34m(\u001b[0m\u001b[0;36m2\u001b[0m\u001b[0;34m,\u001b[0m\u001b[0;36m3\u001b[0m\u001b[0;34m,\u001b[0m\u001b[0;36m4\u001b[0m\u001b[0;34m)\u001b[0m    \u001b[0;31m# will fail. Why? Hint: Look at error message\u001b[0m\u001b[0;34m\u001b[0m\u001b[0m\n\u001b[0m",
      "\u001b[0;31mTypeError\u001b[0m: data type not understood"
     ]
    }
   ],
   "source": [
    "ndarray = np.zeros(2,3,4)    # will fail. Why? Hint: Look at error message"
   ]
  },
  {
   "cell_type": "code",
   "execution_count": 194,
   "metadata": {
    "collapsed": false
   },
   "outputs": [],
   "source": [
    "ndarray = np.zeros((2,3,4))"
   ]
  },
  {
   "cell_type": "code",
   "execution_count": 195,
   "metadata": {
    "collapsed": false
   },
   "outputs": [],
   "source": [
    "ndarray = np.arange(2*3*4).reshape((2,3,4))    # will fail. Why?"
   ]
  },
  {
   "cell_type": "code",
   "execution_count": 196,
   "metadata": {
    "collapsed": false
   },
   "outputs": [
    {
     "data": {
      "text/plain": [
       "array([[[ 0,  1,  2,  3],\n",
       "        [ 4,  5,  6,  7],\n",
       "        [ 8,  9, 10, 11]],\n",
       "\n",
       "       [[12, 13, 14, 15],\n",
       "        [16, 17, 18, 19],\n",
       "        [20, 21, 22, 23]]])"
      ]
     },
     "execution_count": 196,
     "metadata": {},
     "output_type": "execute_result"
    }
   ],
   "source": [
    "ndarray"
   ]
  },
  {
   "cell_type": "code",
   "execution_count": 198,
   "metadata": {
    "collapsed": false
   },
   "outputs": [
    {
     "data": {
      "text/plain": [
       "array([[ 0,  4,  8],\n",
       "       [12, 16, 20]])"
      ]
     },
     "execution_count": 198,
     "metadata": {},
     "output_type": "execute_result"
    }
   ],
   "source": [
    "ndarray[:, :, 0]"
   ]
  },
  {
   "cell_type": "code",
   "execution_count": 199,
   "metadata": {
    "collapsed": false
   },
   "outputs": [
    {
     "data": {
      "text/plain": [
       "array([[ 0,  4,  8],\n",
       "       [12, 16, 20]])"
      ]
     },
     "execution_count": 199,
     "metadata": {},
     "output_type": "execute_result"
    }
   ],
   "source": [
    "ndarray[..., 0]"
   ]
  },
  {
   "cell_type": "markdown",
   "metadata": {},
   "source": [
    "### Array Computing"
   ]
  },
  {
   "cell_type": "markdown",
   "metadata": {},
   "source": [
    "For an array $A$ of any rank, $f(A)$ means applying the function\n",
    "$f$ to each element of $A$.\n",
    " "
   ]
  },
  {
   "cell_type": "markdown",
   "metadata": {},
   "source": [
    "### Matrix Objects"
   ]
  },
  {
   "cell_type": "raw",
   "metadata": {},
   "source": [
    "numpy can create matrices, an object type that enables matrix operations.\n",
    "\n",
    "Some matrix manipulation examples follow."
   ]
  },
  {
   "cell_type": "code",
   "execution_count": 204,
   "metadata": {
    "collapsed": false
   },
   "outputs": [
    {
     "data": {
      "text/plain": [
       "array([ 1.,  2.,  3.])"
      ]
     },
     "execution_count": 204,
     "metadata": {},
     "output_type": "execute_result"
    }
   ],
   "source": [
    "xArray1 = np.array([1, 2, 3], float)\n",
    "xArray1"
   ]
  },
  {
   "cell_type": "code",
   "execution_count": 205,
   "metadata": {
    "collapsed": false
   },
   "outputs": [
    {
     "data": {
      "text/plain": [
       "array([ 1.,  2.,  3.])"
      ]
     },
     "execution_count": 205,
     "metadata": {},
     "output_type": "execute_result"
    }
   ],
   "source": [
    "xArray1.T"
   ]
  },
  {
   "cell_type": "code",
   "execution_count": 201,
   "metadata": {
    "collapsed": false
   },
   "outputs": [
    {
     "name": "stdout",
     "output_type": "stream",
     "text": [
      "<class 'numpy.matrixlib.defmatrix.matrix'>\n"
     ]
    },
    {
     "data": {
      "text/plain": [
       "matrix([[ 1.,  2.,  3.]])"
      ]
     },
     "execution_count": 201,
     "metadata": {},
     "output_type": "execute_result"
    }
   ],
   "source": [
    "xMatrix = np.matrix(xArray1)\n",
    "print(type(xMatrix))\n",
    "xMatrix"
   ]
  },
  {
   "cell_type": "raw",
   "metadata": {},
   "source": [
    "Note extra set of brackets!"
   ]
  },
  {
   "cell_type": "code",
   "execution_count": 206,
   "metadata": {
    "collapsed": false
   },
   "outputs": [
    {
     "data": {
      "text/plain": [
       "(1, 3)"
      ]
     },
     "execution_count": 206,
     "metadata": {},
     "output_type": "execute_result"
    }
   ],
   "source": [
    "xMatrix.shape"
   ]
  },
  {
   "cell_type": "raw",
   "metadata": {},
   "source": [
    "Now, to transpose it:"
   ]
  },
  {
   "cell_type": "code",
   "execution_count": 207,
   "metadata": {
    "collapsed": false
   },
   "outputs": [
    {
     "data": {
      "text/plain": [
       "matrix([[ 1.],\n",
       "        [ 2.],\n",
       "        [ 3.]])"
      ]
     },
     "execution_count": 207,
     "metadata": {},
     "output_type": "execute_result"
    }
   ],
   "source": [
    "xMatrix2 = xMatrix.transpose()\n",
    "xMatrix2"
   ]
  },
  {
   "cell_type": "code",
   "execution_count": 208,
   "metadata": {
    "collapsed": false
   },
   "outputs": [
    {
     "data": {
      "text/plain": [
       "matrix([[ 1.],\n",
       "        [ 2.],\n",
       "        [ 3.]])"
      ]
     },
     "execution_count": 208,
     "metadata": {},
     "output_type": "execute_result"
    }
   ],
   "source": [
    "# Or\n",
    "xMatrix.T"
   ]
  },
  {
   "cell_type": "raw",
   "metadata": {},
   "source": [
    "To create an identity array then convert it to a matrix:"
   ]
  },
  {
   "cell_type": "markdown",
   "metadata": {},
   "source": [
    "#### Q. What is the identity matrix?"
   ]
  },
  {
   "cell_type": "code",
   "execution_count": 210,
   "metadata": {
    "collapsed": false
   },
   "outputs": [
    {
     "data": {
      "text/plain": [
       "array([[ 1.,  0.,  0.],\n",
       "       [ 0.,  1.,  0.],\n",
       "       [ 0.,  0.,  1.]])"
      ]
     },
     "execution_count": 210,
     "metadata": {},
     "output_type": "execute_result"
    }
   ],
   "source": [
    "iMatrix = np.eye(3)  # or np.identity\n",
    "iMatrix"
   ]
  },
  {
   "cell_type": "code",
   "execution_count": 211,
   "metadata": {
    "collapsed": false
   },
   "outputs": [
    {
     "data": {
      "text/plain": [
       "matrix([[ 1.,  0.,  0.],\n",
       "        [ 0.,  1.,  0.],\n",
       "        [ 0.,  0.,  1.]])"
      ]
     },
     "execution_count": 211,
     "metadata": {},
     "output_type": "execute_result"
    }
   ],
   "source": [
    "# And\n",
    "iMatrix2 = np.mat(iMatrix)  # 'mat' short for 'matrix'\n",
    "iMatrix2"
   ]
  },
  {
   "cell_type": "code",
   "execution_count": 214,
   "metadata": {
    "collapsed": false
   },
   "outputs": [
    {
     "data": {
      "text/plain": [
       "matrix([[ 1.,  2.,  3.]])"
      ]
     },
     "execution_count": 214,
     "metadata": {},
     "output_type": "execute_result"
    }
   ],
   "source": [
    "# Array multiplication.\n",
    "# Reminder of xMatrix?\n",
    "xMatrix"
   ]
  },
  {
   "cell_type": "code",
   "execution_count": 215,
   "metadata": {
    "collapsed": false
   },
   "outputs": [
    {
     "data": {
      "text/plain": [
       "matrix([[ 1.,  2.,  3.]])"
      ]
     },
     "execution_count": 215,
     "metadata": {},
     "output_type": "execute_result"
    }
   ],
   "source": [
    "# Multiplication of any matrix by the identity matrix\n",
    "# yields that matrix:\n",
    "xMatrix * iMatrix"
   ]
  },
  {
   "cell_type": "code",
   "execution_count": 216,
   "metadata": {
    "collapsed": false
   },
   "outputs": [
    {
     "data": {
      "text/plain": [
       "matrix([[ 1.],\n",
       "        [ 2.],\n",
       "        [ 3.]])"
      ]
     },
     "execution_count": 216,
     "metadata": {},
     "output_type": "execute_result"
    }
   ],
   "source": [
    "# Reminder of xMatrix2:\n",
    "xMatrix2"
   ]
  },
  {
   "cell_type": "code",
   "execution_count": 217,
   "metadata": {
    "collapsed": false
   },
   "outputs": [
    {
     "data": {
      "text/plain": [
       "matrix([[ 1.],\n",
       "        [ 2.],\n",
       "        [ 3.]])"
      ]
     },
     "execution_count": 217,
     "metadata": {},
     "output_type": "execute_result"
    }
   ],
   "source": [
    "xMatrix2 = iMatrix * xMatrix2\n",
    "xMatrix2"
   ]
  },
  {
   "cell_type": "raw",
   "metadata": {},
   "source": [
    "Multiplication of matrices:"
   ]
  },
  {
   "cell_type": "code",
   "execution_count": 219,
   "metadata": {
    "collapsed": false
   },
   "outputs": [
    {
     "data": {
      "text/plain": [
       "matrix([[ 14.]])"
      ]
     },
     "execution_count": 219,
     "metadata": {},
     "output_type": "execute_result"
    }
   ],
   "source": [
    "xMatrix * xMatrix2"
   ]
  },
  {
   "cell_type": "raw",
   "metadata": {},
   "source": [
    "IN THIS CASE IT IS equivalent to the dot product:"
   ]
  },
  {
   "cell_type": "code",
   "execution_count": 220,
   "metadata": {
    "collapsed": false
   },
   "outputs": [
    {
     "data": {
      "text/plain": [
       "matrix([[ 14.]])"
      ]
     },
     "execution_count": 220,
     "metadata": {},
     "output_type": "execute_result"
    }
   ],
   "source": [
    "np.dot(xMatrix, xMatrix2)"
   ]
  },
  {
   "cell_type": "raw",
   "metadata": {},
   "source": [
    "MULTIPLICATION OF ARRAYS IS DIFFERENT\n",
    "(IT IS NOT MATRIX MATH):"
   ]
  },
  {
   "cell_type": "code",
   "execution_count": 221,
   "metadata": {
    "collapsed": false
   },
   "outputs": [
    {
     "data": {
      "text/plain": [
       "matrix([[ 1.,  2.,  3.]])"
      ]
     },
     "execution_count": 221,
     "metadata": {},
     "output_type": "execute_result"
    }
   ],
   "source": [
    "xMatrix"
   ]
  },
  {
   "cell_type": "code",
   "execution_count": 222,
   "metadata": {
    "collapsed": false
   },
   "outputs": [
    {
     "data": {
      "text/plain": [
       "matrix([[ 1.],\n",
       "        [ 2.],\n",
       "        [ 3.]])"
      ]
     },
     "execution_count": 222,
     "metadata": {},
     "output_type": "execute_result"
    }
   ],
   "source": [
    "xMatrix2"
   ]
  },
  {
   "cell_type": "code",
   "execution_count": 223,
   "metadata": {
    "collapsed": false
   },
   "outputs": [
    {
     "data": {
      "text/plain": [
       "array([[ 1.,  2.,  3.],\n",
       "       [ 2.,  4.,  6.],\n",
       "       [ 3.,  6.,  9.]])"
      ]
     },
     "execution_count": 223,
     "metadata": {},
     "output_type": "execute_result"
    }
   ],
   "source": [
    "xArray  = np.array(xMatrix)\n",
    "xArray2 = np.array(xMatrix2)\n",
    "xArray * xArray2"
   ]
  },
  {
   "cell_type": "code",
   "execution_count": 224,
   "metadata": {
    "collapsed": false
   },
   "outputs": [
    {
     "data": {
      "text/plain": [
       "((1, 3), (3, 1))"
      ]
     },
     "execution_count": 224,
     "metadata": {},
     "output_type": "execute_result"
    }
   ],
   "source": [
    "xMatrix.shape, xMatrix2.shape"
   ]
  },
  {
   "cell_type": "code",
   "execution_count": 225,
   "metadata": {
    "collapsed": false
   },
   "outputs": [
    {
     "data": {
      "text/plain": [
       "(1, 3)"
      ]
     },
     "execution_count": 225,
     "metadata": {},
     "output_type": "execute_result"
    }
   ],
   "source": [
    "xArray.shape"
   ]
  },
  {
   "cell_type": "raw",
   "metadata": {},
   "source": [
    "Multiplying arrays of the same shape performs element-wise multiplication:"
   ]
  },
  {
   "cell_type": "code",
   "execution_count": 226,
   "metadata": {
    "collapsed": false
   },
   "outputs": [
    {
     "data": {
      "text/plain": [
       "array([[ 1.,  4.,  9.]])"
      ]
     },
     "execution_count": 226,
     "metadata": {},
     "output_type": "execute_result"
    }
   ],
   "source": [
    "np.array(xMatrix) * np.array(xMatrix2).T"
   ]
  },
  {
   "cell_type": "raw",
   "metadata": {},
   "source": [
    "Moral of the story: **be careful**"
   ]
  },
  {
   "cell_type": "code",
   "execution_count": null,
   "metadata": {
    "collapsed": true
   },
   "outputs": [],
   "source": []
  }
 ],
 "metadata": {
  "kernelspec": {
   "display_name": "Python 3",
   "language": "python",
   "name": "python3"
  },
  "language_info": {
   "codemirror_mode": {
    "name": "ipython",
    "version": 3
   },
   "file_extension": ".py",
   "mimetype": "text/x-python",
   "name": "python",
   "nbconvert_exporter": "python",
   "pygments_lexer": "ipython3",
   "version": "3.5.1"
  }
 },
 "nbformat": 4,
 "nbformat_minor": 0
}
