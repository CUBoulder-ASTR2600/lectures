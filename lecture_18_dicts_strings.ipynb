{
 "cells": [
  {
   "cell_type": "code",
   "execution_count": 1,
   "metadata": {
    "collapsed": false
   },
   "outputs": [],
   "source": [
    "%matplotlib inline"
   ]
  },
  {
   "cell_type": "code",
   "execution_count": 2,
   "metadata": {
    "collapsed": false
   },
   "outputs": [],
   "source": [
    "import numpy as np\n",
    "import matplotlib.pyplot as pl"
   ]
  },
  {
   "cell_type": "markdown",
   "metadata": {},
   "source": [
    "### Dictionaries"
   ]
  },
  {
   "cell_type": "markdown",
   "metadata": {},
   "source": [
    "A dictionary is a way to store data. It uses a key (usually text like a word or a number) that points to a value. Think of a real dictionary. You look up a word (the key) in the dictionary to find the definition (the value).\n",
    "\n",
    "\n",
    "The keys can be int, float, str, or tuple.\n",
    "\n",
    "Dictionaries can be nested like lists.\n",
    "\n",
    "With a list, we must remember the order of the items in the list. \n",
    "\n",
    "Let's look at average temperatures in European cities as an example."
   ]
  },
  {
   "cell_type": "code",
   "execution_count": 3,
   "metadata": {
    "collapsed": false
   },
   "outputs": [],
   "source": [
    "cityList = ['Oslo', 'London', 'Paris']\n",
    "tempList = [13, 15.4, 17.5]"
   ]
  },
  {
   "cell_type": "markdown",
   "metadata": {},
   "source": [
    "In this case, if we were interested in picking out the average temperature in London, the lists are small enough that we can determine the corresponding index visually.\n",
    "\n",
    "Q. How could we get to the average temperature of London?\n",
    "\n",
    "\n",
    "\n",
    "\n",
    "\n",
    "\n",
    "\n",
    "\n",
    "\n",
    "\n",
    "\n"
   ]
  },
  {
   "cell_type": "code",
   "execution_count": 5,
   "metadata": {
    "collapsed": false
   },
   "outputs": [
    {
     "name": "stdout",
     "output_type": "stream",
     "text": [
      "London\n",
      "15.4\n"
     ]
    }
   ],
   "source": [
    "\n",
    "\n",
    "\n",
    "\n",
    "\n",
    "\n",
    "\n",
    "\n",
    "\n",
    "\n",
    "\n",
    "\n",
    "\n",
    "print(cityList[1])\n",
    "print(tempList[1])"
   ]
  },
  {
   "cell_type": "markdown",
   "metadata": {},
   "source": [
    "#### Q. What if our \"temps\" and \"cities\" lists had 1000 elements? How could we pick out the average temperature in a city of our choosing?"
   ]
  },
  {
   "cell_type": "raw",
   "metadata": {},
   "source": [
    "\n",
    "\n",
    "\n",
    "\n",
    "\n",
    "\n",
    "\n",
    "\n",
    "\n",
    "\n",
    "\n",
    "\n",
    "\n",
    "\n",
    "\n",
    "\n",
    "\n",
    "\n"
   ]
  },
  {
   "cell_type": "code",
   "execution_count": 7,
   "metadata": {
    "collapsed": false
   },
   "outputs": [
    {
     "name": "stdout",
     "output_type": "stream",
     "text": [
      "Index: 1\n",
      "Value: 15.4\n"
     ]
    }
   ],
   "source": [
    "# We could have sublists consisting of cities and temperatures\n",
    "# and search for London, then its corresponding temperature.\n",
    "\n",
    "# Alternatively, we could index the cities list:\n",
    "\n",
    "i = cityList.index('London')\n",
    "print(\"Index:\", i)\n",
    "print(\"Value:\", tempList[i])"
   ]
  },
  {
   "cell_type": "raw",
   "metadata": {},
   "source": [
    "Or, we could do this using a dictionary -- note the brackets {}.\n",
    "\n",
    "Dictionaries are of the form {keyA: valueA, keyB: valueB, ...}\n",
    "\n",
    "The \"keys\" have associated \"values\". In this example, the keys are strings and the values are numbers."
   ]
  },
  {
   "cell_type": "code",
   "execution_count": 8,
   "metadata": {
    "collapsed": false
   },
   "outputs": [
    {
     "data": {
      "text/plain": [
       "{'London': 15.4, 'Oslo': 13, 'Paris': 17.5}"
      ]
     },
     "execution_count": 8,
     "metadata": {},
     "output_type": "execute_result"
    }
   ],
   "source": [
    "tempDict = {'Oslo': 13, 'London': 15.4, 'Paris': 17.5}\n",
    "tempDict"
   ]
  },
  {
   "cell_type": "raw",
   "metadata": {},
   "source": [
    "or"
   ]
  },
  {
   "cell_type": "code",
   "execution_count": 9,
   "metadata": {
    "collapsed": false
   },
   "outputs": [
    {
     "data": {
      "text/plain": [
       "{'London': 15.4, 'Oslo': 13, 'Paris': 17.5}"
      ]
     },
     "execution_count": 9,
     "metadata": {},
     "output_type": "execute_result"
    }
   ],
   "source": [
    "temp2Dict = dict(Oslo=13, London=15.4, Paris=17.5)\n",
    "temp2Dict"
   ]
  },
  {
   "cell_type": "raw",
   "metadata": {},
   "source": [
    "Now, rather than first determining the index of a particular city, then accessing that element in \"temps\" we access it by name:"
   ]
  },
  {
   "cell_type": "code",
   "execution_count": 10,
   "metadata": {
    "collapsed": false
   },
   "outputs": [
    {
     "name": "stdout",
     "output_type": "stream",
     "text": [
      "London: 15.4\n"
     ]
    }
   ],
   "source": [
    "print(\"London:\", tempDict['London'])"
   ]
  },
  {
   "cell_type": "raw",
   "metadata": {},
   "source": [
    "If we'd like, we can add another city to tempDict:"
   ]
  },
  {
   "cell_type": "code",
   "execution_count": 12,
   "metadata": {
    "collapsed": false
   },
   "outputs": [
    {
     "data": {
      "text/plain": [
       "{'London': 15.4, 'Madrid': 26.0, 'Oslo': 13, 'Paris': 17.5}"
      ]
     },
     "execution_count": 12,
     "metadata": {},
     "output_type": "execute_result"
    }
   ],
   "source": [
    "tempDict['Madrid'] = 26.0\n",
    "tempDict"
   ]
  },
  {
   "cell_type": "code",
   "execution_count": 13,
   "metadata": {
    "collapsed": false
   },
   "outputs": [
    {
     "name": "stdout",
     "output_type": "stream",
     "text": [
      "['Oslo', 'London', 'Paris']\n",
      "[13, 15.4, 17.5]\n"
     ]
    }
   ],
   "source": [
    "print(cityList)\n",
    "print(tempList)"
   ]
  },
  {
   "cell_type": "markdown",
   "metadata": {},
   "source": [
    "#### Q. What is the analogous list operation to do this?"
   ]
  },
  {
   "cell_type": "raw",
   "metadata": {},
   "source": [
    "\n",
    "\n",
    "\n",
    "\n",
    "\n",
    "\n",
    "\n",
    "\n",
    "\n",
    "\n",
    "\n",
    "\n",
    "\n",
    "\n",
    "\n",
    "\n"
   ]
  },
  {
   "cell_type": "code",
   "execution_count": 14,
   "metadata": {
    "collapsed": false
   },
   "outputs": [
    {
     "name": "stdout",
     "output_type": "stream",
     "text": [
      "['Oslo', 'London', 'Paris', 'Madrid']\n",
      "[13, 15.4, 17.5, 26.0]\n"
     ]
    }
   ],
   "source": [
    "cityList.append(\"Madrid\")\n",
    "tempList.append(26.0)\n",
    "print(cityList)\n",
    "print(tempList)"
   ]
  },
  {
   "cell_type": "raw",
   "metadata": {},
   "source": [
    "Looping over the keys is analogous to looping over the indices of lists and arrays:"
   ]
  },
  {
   "cell_type": "code",
   "execution_count": 16,
   "metadata": {
    "collapsed": false
   },
   "outputs": [
    {
     "name": "stdout",
     "output_type": "stream",
     "text": [
      "The average temperature in Paris is 17.5.\n",
      "The average temperature in Oslo is 13.\n",
      "The average temperature in Madrid is 26.\n",
      "The average temperature in London is 15.4.\n"
     ]
    }
   ],
   "source": [
    "for city in sorted(tempDict, reverse=True):\n",
    "    print('The average temperature in {} is {:g}.'.format(city, tempDict[city]))"
   ]
  },
  {
   "cell_type": "markdown",
   "metadata": {},
   "source": [
    "We can check if 'Berlin' is in temps with a Boolean expression:"
   ]
  },
  {
   "cell_type": "code",
   "execution_count": 17,
   "metadata": {
    "collapsed": false
   },
   "outputs": [
    {
     "data": {
      "text/plain": [
       "False"
      ]
     },
     "execution_count": 17,
     "metadata": {},
     "output_type": "execute_result"
    }
   ],
   "source": [
    "'Berlin' in tempDict"
   ]
  },
  {
   "cell_type": "markdown",
   "metadata": {},
   "source": [
    "or 'Oslo':"
   ]
  },
  {
   "cell_type": "code",
   "execution_count": 18,
   "metadata": {
    "collapsed": false
   },
   "outputs": [
    {
     "name": "stdout",
     "output_type": "stream",
     "text": [
      "Oslo: 13\n"
     ]
    }
   ],
   "source": [
    "if 'Oslo' in tempDict:\n",
    "    print('Oslo:', tempDict['Oslo'])"
   ]
  },
  {
   "cell_type": "markdown",
   "metadata": {},
   "source": [
    "The keys and values can be extracted:"
   ]
  },
  {
   "cell_type": "code",
   "execution_count": 20,
   "metadata": {
    "collapsed": false
   },
   "outputs": [
    {
     "name": "stdout",
     "output_type": "stream",
     "text": [
      "dict_keys(['London', 'Oslo', 'Paris', 'Madrid'])\n",
      "dict_values([15.4, 13, 17.5, 26.0])\n",
      "{'London': 15.4, 'Oslo': 13, 'Paris': 17.5, 'Madrid': 26.0}\n"
     ]
    }
   ],
   "source": [
    "print(tempDict.keys())\n",
    "print(tempDict.values())\n",
    "print(tempDict)"
   ]
  },
  {
   "cell_type": "markdown",
   "metadata": {},
   "source": [
    "There is an important distinction between dictionaries and lists:\n",
    "\n",
    "**In dictionaries, the order of the keys is not preserved!**"
   ]
  },
  {
   "cell_type": "code",
   "execution_count": 22,
   "metadata": {
    "collapsed": false
   },
   "outputs": [
    {
     "name": "stdout",
     "output_type": "stream",
     "text": [
      "London 15.4\n",
      "Oslo 13\n",
      "Paris 17.5\n",
      "Madrid 26.0\n"
     ]
    }
   ],
   "source": [
    "for city in tempDict:\n",
    "    print(city, tempDict[city])"
   ]
  },
  {
   "cell_type": "raw",
   "metadata": {},
   "source": [
    "If you want to force keys to be ordered, you can do so, e.g. \n",
    "using sorted():"
   ]
  },
  {
   "cell_type": "code",
   "execution_count": 23,
   "metadata": {
    "collapsed": false
   },
   "outputs": [
    {
     "name": "stdout",
     "output_type": "stream",
     "text": [
      "London 15.4\n",
      "Madrid 26.0\n",
      "Oslo 13\n",
      "Paris 17.5\n"
     ]
    }
   ],
   "source": [
    "# This accomplishes an alphabetical sorting:\n",
    "for city in sorted(tempDict, reverse = False):\n",
    "    print(city, tempDict[city])"
   ]
  },
  {
   "cell_type": "markdown",
   "metadata": {},
   "source": [
    "To delete a key and its associated value:"
   ]
  },
  {
   "cell_type": "code",
   "execution_count": 24,
   "metadata": {
    "collapsed": false
   },
   "outputs": [
    {
     "data": {
      "text/plain": [
       "{'London': 15.4, 'Oslo': 13, 'Paris': 17.5}"
      ]
     },
     "execution_count": 24,
     "metadata": {},
     "output_type": "execute_result"
    }
   ],
   "source": [
    "del tempDict['Madrid']\n",
    "tempDict"
   ]
  },
  {
   "cell_type": "markdown",
   "metadata": {},
   "source": [
    "#### Q. Now, what do you predict this will be?"
   ]
  },
  {
   "cell_type": "code",
   "execution_count": 25,
   "metadata": {
    "collapsed": false
   },
   "outputs": [
    {
     "data": {
      "text/plain": [
       "3"
      ]
     },
     "execution_count": 25,
     "metadata": {},
     "output_type": "execute_result"
    }
   ],
   "source": [
    "len(tempDict)"
   ]
  },
  {
   "cell_type": "markdown",
   "metadata": {},
   "source": [
    "Like arrays, if we assign a new variable to a dictionary, **changes to values in one will be changed for both**"
   ]
  },
  {
   "cell_type": "code",
   "execution_count": 27,
   "metadata": {
    "collapsed": false
   },
   "outputs": [
    {
     "data": {
      "text/plain": [
       "{'London': 15.4, 'Oslo': 13, 'Paris': 17.5}"
      ]
     },
     "execution_count": 27,
     "metadata": {},
     "output_type": "execute_result"
    }
   ],
   "source": [
    "temp3Dict = tempDict\n",
    "tempDict"
   ]
  },
  {
   "cell_type": "code",
   "execution_count": 28,
   "metadata": {
    "collapsed": false
   },
   "outputs": [],
   "source": [
    "temp3Dict['London'] = 0.0"
   ]
  },
  {
   "cell_type": "markdown",
   "metadata": {},
   "source": [
    "#### Q. What will this yield?"
   ]
  },
  {
   "cell_type": "code",
   "execution_count": 29,
   "metadata": {
    "collapsed": false
   },
   "outputs": [
    {
     "data": {
      "text/plain": [
       "{'London': 0.0, 'Oslo': 13, 'Paris': 17.5}"
      ]
     },
     "execution_count": 29,
     "metadata": {},
     "output_type": "execute_result"
    }
   ],
   "source": [
    "tempDict"
   ]
  },
  {
   "cell_type": "markdown",
   "metadata": {},
   "source": [
    "\n",
    "The reason for this: in the above example, \"temp3Dict\" is a **reference** to \"tempDict\".\n",
    "\n",
    "\n",
    "If this is not the desired behavior, create a copy:"
   ]
  },
  {
   "cell_type": "code",
   "execution_count": 31,
   "metadata": {
    "collapsed": false
   },
   "outputs": [
    {
     "name": "stdout",
     "output_type": "stream",
     "text": [
      "{'London': 1000000.0, 'Oslo': 13, 'Paris': 17.5}\n",
      "{'London': 15.4, 'Oslo': 13, 'Paris': 17.5}\n"
     ]
    }
   ],
   "source": [
    "tempCopyDict = tempDict.copy()\n",
    "\n",
    "tempCopyDict['London'] = 1e6\n",
    "tempDict['London'] = 15.4\n",
    "\n",
    "print(tempCopyDict)\n",
    "print(tempDict)"
   ]
  },
  {
   "cell_type": "markdown",
   "metadata": {},
   "source": [
    "Earlier in the semester I pointed you to a blog post about this. We've now covered all concepts that appeared in that discussion:\n",
    "\n",
    "    http://nedbatchelder.com/text/names.html"
   ]
  },
  {
   "cell_type": "markdown",
   "metadata": {},
   "source": [
    "Final note -- dictionary elements can be anything: ints, floats, lists, arrays, dictionaries, class instances... more in today's tutorial!"
   ]
  },
  {
   "cell_type": "markdown",
   "metadata": {},
   "source": [
    "### Strings"
   ]
  },
  {
   "cell_type": "raw",
   "metadata": {},
   "source": [
    "We will discuss string manipulation with a series of examples.\n",
    "\n",
    "There are many examples in Section 6.3 of the book; read these, we'll just show some important ones.\n",
    "\n",
    "Operations we'll skip are joining strings, replacing upper case with lower case and vice versa, stripping out spaces, and testing for the presence of numbers. \n",
    "\n",
    "\n",
    "Substrings can be specified like lists, where the index refers to the character number:"
   ]
  },
  {
   "cell_type": "code",
   "execution_count": 32,
   "metadata": {
    "collapsed": false
   },
   "outputs": [],
   "source": [
    "temp = 'One Two Three'"
   ]
  },
  {
   "cell_type": "markdown",
   "metadata": {},
   "source": [
    "#### Q. What will this print?"
   ]
  },
  {
   "cell_type": "code",
   "execution_count": 34,
   "metadata": {
    "collapsed": false
   },
   "outputs": [
    {
     "data": {
      "text/plain": [
       "'e T'"
      ]
     },
     "execution_count": 34,
     "metadata": {},
     "output_type": "execute_result"
    }
   ],
   "source": [
    "temp[2:5]"
   ]
  },
  {
   "cell_type": "markdown",
   "metadata": {},
   "source": [
    "To search for a substring, use the find() method, which reports the index of the start of the first appearance of the substring."
   ]
  },
  {
   "cell_type": "markdown",
   "metadata": {},
   "source": [
    "#### Q. What will this print?"
   ]
  },
  {
   "cell_type": "code",
   "execution_count": 35,
   "metadata": {
    "collapsed": false
   },
   "outputs": [
    {
     "data": {
      "text/plain": [
       "4"
      ]
     },
     "execution_count": 35,
     "metadata": {},
     "output_type": "execute_result"
    }
   ],
   "source": [
    "temp.find('Two')"
   ]
  },
  {
   "cell_type": "markdown",
   "metadata": {},
   "source": [
    "If the string is not found:"
   ]
  },
  {
   "cell_type": "code",
   "execution_count": 36,
   "metadata": {
    "collapsed": false
   },
   "outputs": [
    {
     "data": {
      "text/plain": [
       "-1"
      ]
     },
     "execution_count": 36,
     "metadata": {},
     "output_type": "execute_result"
    }
   ],
   "source": [
    "temp.find('Four')"
   ]
  },
  {
   "cell_type": "markdown",
   "metadata": {},
   "source": [
    "To test whether a substring occurs within a string:"
   ]
  },
  {
   "cell_type": "code",
   "execution_count": 37,
   "metadata": {
    "collapsed": false
   },
   "outputs": [
    {
     "data": {
      "text/plain": [
       "False"
      ]
     },
     "execution_count": 37,
     "metadata": {},
     "output_type": "execute_result"
    }
   ],
   "source": [
    "'Four' in temp"
   ]
  },
  {
   "cell_type": "code",
   "execution_count": 38,
   "metadata": {
    "collapsed": false
   },
   "outputs": [
    {
     "name": "stdout",
     "output_type": "stream",
     "text": [
      "Four not found\n"
     ]
    }
   ],
   "source": [
    "# An example:\n",
    "\n",
    "if 'Four' in temp:\n",
    "    print('Four is in temp')\n",
    "else:\n",
    "    print('Four not found')"
   ]
  },
  {
   "cell_type": "markdown",
   "metadata": {},
   "source": [
    "This syntax is acceptable for lists, dictionaries, and strings!\n",
    "\n",
    "The startswith and endswith methods test whether a string starts or ends with a specified substring:"
   ]
  },
  {
   "cell_type": "code",
   "execution_count": 39,
   "metadata": {
    "collapsed": false
   },
   "outputs": [
    {
     "data": {
      "text/plain": [
       "'One Two Three'"
      ]
     },
     "execution_count": 39,
     "metadata": {},
     "output_type": "execute_result"
    }
   ],
   "source": [
    "temp"
   ]
  },
  {
   "cell_type": "code",
   "execution_count": 40,
   "metadata": {
    "collapsed": false
   },
   "outputs": [
    {
     "data": {
      "text/plain": [
       "True"
      ]
     },
     "execution_count": 40,
     "metadata": {},
     "output_type": "execute_result"
    }
   ],
   "source": [
    "# Q. What should this be?\n",
    "\n",
    "temp.endswith('Three')"
   ]
  },
  {
   "cell_type": "markdown",
   "metadata": {},
   "source": [
    "The replace method replaces substrings:"
   ]
  },
  {
   "cell_type": "code",
   "execution_count": 43,
   "metadata": {
    "collapsed": false
   },
   "outputs": [
    {
     "name": "stdout",
     "output_type": "stream",
     "text": [
      "One Two Three\n",
      "On3 Two Thr33\n",
      "One Two Three\n"
     ]
    }
   ],
   "source": [
    "print(temp)\n",
    "temp2 = temp.replace('e', '3')\n",
    "print(temp2)\n",
    "print(temp)"
   ]
  },
  {
   "cell_type": "markdown",
   "metadata": {},
   "source": [
    "String splitting:  very useful for reading text files.\n",
    "\n",
    "The split method splits strings into words separated by spaces (by default, other characters can be used too)."
   ]
  },
  {
   "cell_type": "code",
   "execution_count": 44,
   "metadata": {
    "collapsed": false
   },
   "outputs": [
    {
     "data": {
      "text/plain": [
       "['One', 'Two', 'Three']"
      ]
     },
     "execution_count": 44,
     "metadata": {},
     "output_type": "execute_result"
    }
   ],
   "source": [
    "new_list = temp.split()\n",
    "new_list"
   ]
  },
  {
   "cell_type": "markdown",
   "metadata": {},
   "source": [
    "This also works for multiline files:"
   ]
  },
  {
   "cell_type": "code",
   "execution_count": 47,
   "metadata": {
    "collapsed": false
   },
   "outputs": [
    {
     "name": "stdout",
     "output_type": "stream",
     "text": [
      "One\r\n",
      "Two\r\n",
      "Three\n",
      "['One', 'Two', 'Three']\n"
     ]
    }
   ],
   "source": [
    "temp3 = 'One\\r\\nTwo\\r\\nThree'\n",
    "temp4 = temp3.splitlines()\n",
    "print(temp3)\n",
    "print(temp4)"
   ]
  },
  {
   "cell_type": "raw",
   "metadata": {},
   "source": [
    "Joining strings together. The delimiter (the thing between each text string) is specified inbetween quotes.  Then a .join with a list of the strings for input to join()."
   ]
  },
  {
   "cell_type": "code",
   "execution_count": 48,
   "metadata": {
    "collapsed": false
   },
   "outputs": [
    {
     "data": {
      "text/plain": [
       "'May uh the uh force uh be with you'"
      ]
     },
     "execution_count": 48,
     "metadata": {},
     "output_type": "execute_result"
    }
   ],
   "source": [
    "text1 = \"May\"\n",
    "text2 = \"the\"\n",
    "text3 = \"force\"\n",
    "text4 = \"be with you\"\n",
    "\n",
    "combined = \" uh \".join([text1, text2, text3, text4])\n",
    "combined"
   ]
  },
  {
   "cell_type": "markdown",
   "metadata": {},
   "source": [
    "Manipulating text's uppercase/lowercase:"
   ]
  },
  {
   "cell_type": "code",
   "execution_count": 49,
   "metadata": {
    "collapsed": false
   },
   "outputs": [
    {
     "name": "stdout",
     "output_type": "stream",
     "text": [
      "Upper case:   IT'S CLOBBERIN' TIME!\n",
      "Lower case:   it's clobberin' time!\n",
      "Reverse case: IT'S clobberin' TIME!\n",
      "Title case:   It'S Clobberin' Time!\n",
      "Capital Case: It's clobberin' time!\n"
     ]
    }
   ],
   "source": [
    "marvelText = \"it's CLOBBERIN' time!\"\n",
    "\n",
    "print(\"Upper case:  \", marvelText.upper())\n",
    "print(\"Lower case:  \", marvelText.lower())\n",
    "print(\"Reverse case:\", marvelText.swapcase())\n",
    "print(\"Title case:  \", marvelText.title())\n",
    "print(\"Capital Case:\", marvelText.capitalize())"
   ]
  },
  {
   "cell_type": "code",
   "execution_count": 52,
   "metadata": {
    "collapsed": false
   },
   "outputs": [
    {
     "data": {
      "text/plain": [
       "'PL4NCK'"
      ]
     },
     "execution_count": 52,
     "metadata": {},
     "output_type": "execute_result"
    }
   ],
   "source": [
    "'Pl4nck'.upper()"
   ]
  },
  {
   "cell_type": "markdown",
   "metadata": {},
   "source": [
    "Splitting strings up:"
   ]
  },
  {
   "cell_type": "code",
   "execution_count": 50,
   "metadata": {
    "collapsed": false
   },
   "outputs": [
    {
     "name": "stdout",
     "output_type": "stream",
     "text": [
      "['Have', 'you', 'ever', 'danced', 'with', 'the', 'devil', 'in', 'the', 'pale', 'moonlight?']\n",
      "['Have you ever danced with ', ' devil in ', ' pale moonlight?']\n"
     ]
    }
   ],
   "source": [
    "dcText = \"Have you ever danced with the devil in the pale moonlight?\"\n",
    "print(dcText.split())\n",
    "print(dcText.split(\"the\"))"
   ]
  },
  {
   "cell_type": "markdown",
   "metadata": {},
   "source": [
    "Let's do an example reading a data file string_example.dat and converting the data to numbers. First, let's see what's in the file:"
   ]
  },
  {
   "cell_type": "code",
   "execution_count": 58,
   "metadata": {
    "collapsed": false
   },
   "outputs": [
    {
     "name": "stdout",
     "output_type": "stream",
     "text": [
      "# x    y \r\n",
      "0.67614818  0.06612175\r\n",
      "0.72452745  0.91697594\r\n",
      "0.49721092  0.74321783\r\n",
      "0.11647754  0.31299047\r\n",
      "0.74159754  0.58894824\r\n",
      "0.88066725  0.98678083\r\n",
      "0.24524501  0.59950154\r\n",
      "0.65850022  0.75670362\r\n",
      "0.15512891  0.57762052\r\n",
      "0.32754741  0.53567974"
     ]
    }
   ],
   "source": [
    "cat string_example.dat"
   ]
  },
  {
   "cell_type": "markdown",
   "metadata": {},
   "source": [
    "#### Q. Would this code successfully read in the data? Why or why not?"
   ]
  },
  {
   "cell_type": "code",
   "execution_count": 54,
   "metadata": {
    "collapsed": false
   },
   "outputs": [
    {
     "ename": "ValueError",
     "evalue": "could not convert string to float: '#'",
     "output_type": "error",
     "traceback": [
      "\u001b[0;31m---------------------------------------------------------------------------\u001b[0m",
      "\u001b[0;31mValueError\u001b[0m                                Traceback (most recent call last)",
      "\u001b[0;32m<ipython-input-54-0dc609cdcc10>\u001b[0m in \u001b[0;36m<module>\u001b[0;34m()\u001b[0m\n\u001b[1;32m      5\u001b[0m         \u001b[0mwords\u001b[0m \u001b[0;34m=\u001b[0m \u001b[0mline\u001b[0m\u001b[0;34m.\u001b[0m\u001b[0msplit\u001b[0m\u001b[0;34m(\u001b[0m\u001b[0;34m)\u001b[0m\u001b[0;34m\u001b[0m\u001b[0m\n\u001b[1;32m      6\u001b[0m \u001b[0;34m\u001b[0m\u001b[0m\n\u001b[0;32m----> 7\u001b[0;31m         \u001b[0mnumber1\u001b[0m \u001b[0;34m=\u001b[0m \u001b[0mfloat\u001b[0m\u001b[0;34m(\u001b[0m\u001b[0mwords\u001b[0m\u001b[0;34m[\u001b[0m\u001b[0;36m0\u001b[0m\u001b[0;34m]\u001b[0m\u001b[0;34m)\u001b[0m\u001b[0;34m\u001b[0m\u001b[0m\n\u001b[0m\u001b[1;32m      8\u001b[0m         \u001b[0mnumber2\u001b[0m \u001b[0;34m=\u001b[0m \u001b[0mfloat\u001b[0m\u001b[0;34m(\u001b[0m\u001b[0mwords\u001b[0m\u001b[0;34m[\u001b[0m\u001b[0;36m1\u001b[0m\u001b[0;34m]\u001b[0m\u001b[0;34m)\u001b[0m\u001b[0;34m\u001b[0m\u001b[0m\n\u001b[1;32m      9\u001b[0m         \u001b[0mpair\u001b[0m \u001b[0;34m=\u001b[0m \u001b[0;34m[\u001b[0m\u001b[0mnumber1\u001b[0m\u001b[0;34m,\u001b[0m \u001b[0mnumber2\u001b[0m\u001b[0;34m]\u001b[0m\u001b[0;34m\u001b[0m\u001b[0m\n",
      "\u001b[0;31mValueError\u001b[0m: could not convert string to float: '#'"
     ]
    }
   ],
   "source": [
    "pairs = []\n",
    "\n",
    "with open(\"string_example.dat\", \"r\") as FILE:\n",
    "    for line in FILE:\n",
    "        words = line.split()\n",
    "        \n",
    "        number1 = float(words[0])\n",
    "        number2 = float(words[1])\n",
    "        pair = [number1, number2]\n",
    "        pairs.append(pair)\n",
    "\n",
    "pairs"
   ]
  },
  {
   "cell_type": "markdown",
   "metadata": {},
   "source": [
    "This is a nice place for a dictionary!"
   ]
  },
  {
   "cell_type": "code",
   "execution_count": 57,
   "metadata": {
    "collapsed": false
   },
   "outputs": [
    {
     "name": "stdout",
     "output_type": "stream",
     "text": [
      "# x    y \n",
      "\n",
      "0.67614818  0.06612175\n",
      "\n",
      "0.72452745  0.91697594\n",
      "\n",
      "0.49721092  0.74321783\n",
      "\n",
      "0.11647754  0.31299047\n",
      "\n",
      "0.74159754  0.58894824\n",
      "\n",
      "0.88066725  0.98678083\n",
      "\n",
      "0.24524501  0.59950154\n",
      "\n",
      "0.65850022  0.75670362\n",
      "\n",
      "0.15512891  0.57762052\n",
      "\n",
      "0.32754741  0.53567974\n",
      "{'y': [0.06612175, 0.91697594, 0.74321783, 0.31299047, 0.58894824, 0.98678083, 0.59950154, 0.75670362, 0.57762052, 0.53567974], 'x': [0.67614818, 0.72452745, 0.49721092, 0.11647754, 0.74159754, 0.88066725, 0.24524501, 0.65850022, 0.15512891, 0.32754741]}\n"
     ]
    }
   ],
   "source": [
    "data = {'x': [], 'y': []}\n",
    "\n",
    "with open(\"string_example.dat\", \"r\") as FILE:\n",
    "    for line in FILE:\n",
    "        print(line)\n",
    "        if line[0] == '#':\n",
    "            continue\n",
    "        \n",
    "        words = line.split()\n",
    "        \n",
    "        data['x'].append(float(words[0]))\n",
    "        data['y'].append(float(words[1]))\n",
    "\n",
    "print(data)"
   ]
  },
  {
   "cell_type": "code",
   "execution_count": 59,
   "metadata": {
    "collapsed": false
   },
   "outputs": [
    {
     "data": {
      "text/plain": [
       "<matplotlib.collections.PathCollection at 0x118082be0>"
      ]
     },
     "execution_count": 59,
     "metadata": {},
     "output_type": "execute_result"
    },
    {
     "data": {
      "image/png": "[encoded data removed]",
      "text/plain": [
       "<matplotlib.figure.Figure at 0x115c64828>"
      ]
     },
     "metadata": {},
     "output_type": "display_data"
    }
   ],
   "source": [
    "pl.scatter(data['x'], data['y'])"
   ]
  },
  {
   "cell_type": "code",
   "execution_count": null,
   "metadata": {
    "collapsed": true
   },
   "outputs": [],
   "source": []
  }
 ],
 "metadata": {
  "kernelspec": {
   "display_name": "Python [stable]",
   "language": "python",
   "name": "Python [stable]"
  },
  "language_info": {
   "codemirror_mode": {
    "name": "ipython",
    "version": 3
   },
   "file_extension": ".py",
   "mimetype": "text/x-python",
   "name": "python",
   "nbconvert_exporter": "python",
   "pygments_lexer": "ipython3",
   "version": "3.5.1"
  }
 },
 "nbformat": 4,
 "nbformat_minor": 0
}
