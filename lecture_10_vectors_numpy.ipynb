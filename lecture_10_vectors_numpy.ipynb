{
 "cells": [
  {
   "cell_type": "markdown",
   "metadata": {},
   "source": [
    "# Array Computing"
   ]
  },
  {
   "cell_type": "markdown",
   "metadata": {},
   "source": [
    "## Terminology\n",
    "\n",
    "#### List\n",
    "\n",
    "* A sequence of values that can vary in length.\n",
    "* The values can be different data types.\n",
    "* The values can be modified (mutable).\n",
    "\n",
    "\n",
    "#### Tuple\n",
    "\n",
    "* A sequence of values with a fixed length.\n",
    "* The values can be different data types.\n",
    "* The values cannot be modified (immutable).\n",
    "\n",
    "#### Array\n",
    "\n",
    "* A sequence of values with a fixed length.\n",
    "* The values cannot be different data types.\n",
    "* The values can be modified (mutable).\n",
    "\n",
    "#### Vector:  A 1 dimensional (1D) array.\n",
    "\n",
    "#### Matrix: - A 2 dimensional (2D) array."
   ]
  },
  {
   "cell_type": "markdown",
   "metadata": {},
   "source": [
    "Arrays are like lists but less flexible and more \n",
    "efficient for lengthy calculations (one data type, \n",
    "stored in the same location in memory).\n",
    "\n",
    "But first:  \n",
    "\n",
    "## VECTORS -- very simple arrays\n",
    "\n",
    "Vectors can have an arbitrary number of components,\n",
    "existing in an n-dimensional space.\n",
    " \n",
    "    (x1, x2, x3, ... xn)\n",
    " \n",
    "Or \n",
    "\n",
    "    (x0, x1, x2, ... x(n-1)) for Python...\n",
    "\n",
    "In Python, vectors are represented by lists or tuples:\n",
    "\n",
    "#### Lists:"
   ]
  },
  {
   "cell_type": "code",
   "execution_count": 1,
   "metadata": {
    "collapsed": false,
    "scrolled": true
   },
   "outputs": [
    {
     "data": {
      "text/plain": [
       "[2, 3]"
      ]
     },
     "execution_count": 1,
     "metadata": {},
     "output_type": "execute_result"
    }
   ],
   "source": [
    "x = 2\n",
    "y = 3\n",
    "\n",
    "myList = [x, y]\n",
    "myList"
   ]
  },
  {
   "cell_type": "markdown",
   "metadata": {},
   "source": [
    "#### Tuples:"
   ]
  },
  {
   "cell_type": "code",
   "execution_count": 2,
   "metadata": {
    "collapsed": false
   },
   "outputs": [
    {
     "data": {
      "text/plain": [
       "(-4, 7)"
      ]
     },
     "execution_count": 2,
     "metadata": {},
     "output_type": "execute_result"
    }
   ],
   "source": [
    "myTuple = (-4, 7)\n",
    "myTuple"
   ]
  },
  {
   "cell_type": "markdown",
   "metadata": {},
   "source": [
    "### Mathematical Operations on Vectors\n",
    "\n",
    "Review of vector operations: textbook sections 5.1.2 & 5.1.3\n",
    "\n",
    "In computing:\n",
    "\n",
    "    Applying a mathematical function to a vector \n",
    "    means applying it to each element in the vector.\n",
    "    (you may hear me use the phrase \"element-wise,\"\n",
    "    which means \"performing some operation one element\n",
    "    at a time\")\n",
    "\n",
    "**However, this is not true of lists and tuples**"
   ]
  },
  {
   "cell_type": "markdown",
   "metadata": {},
   "source": [
    "#### Q. What do these yield?"
   ]
  },
  {
   "cell_type": "code",
   "execution_count": 3,
   "metadata": {
    "collapsed": false
   },
   "outputs": [],
   "source": [
    "numList  = [0.0, 1.0, 2.0]\n",
    "numTuple = (0.0, 1.0, 2.0)"
   ]
  },
  {
   "cell_type": "code",
   "execution_count": 4,
   "metadata": {
    "collapsed": false
   },
   "outputs": [
    {
     "data": {
      "text/plain": [
       "[0.0, 1.0, 2.0, 0.0, 1.0, 2.0]"
      ]
     },
     "execution_count": 4,
     "metadata": {},
     "output_type": "execute_result"
    }
   ],
   "source": [
    "2 * numList"
   ]
  },
  {
   "cell_type": "code",
   "execution_count": 5,
   "metadata": {
    "collapsed": false
   },
   "outputs": [
    {
     "data": {
      "text/plain": [
       "(0.0, 1.0, 2.0, 0.0, 1.0, 2.0)"
      ]
     },
     "execution_count": 5,
     "metadata": {},
     "output_type": "execute_result"
    }
   ],
   "source": [
    "2 * numTuple"
   ]
  },
  {
   "cell_type": "code",
   "execution_count": 6,
   "metadata": {
    "collapsed": false
   },
   "outputs": [
    {
     "ename": "TypeError",
     "evalue": "can't multiply sequence by non-int of type 'float'",
     "output_type": "error",
     "traceback": [
      "\u001b[0;31m---------------------------------------------------------------------------\u001b[0m",
      "\u001b[0;31mTypeError\u001b[0m                                 Traceback (most recent call last)",
      "\u001b[0;32m<ipython-input-6-a9f9a4d47557>\u001b[0m in \u001b[0;36m<module>\u001b[0;34m()\u001b[0m\n\u001b[0;32m----> 1\u001b[0;31m \u001b[0;36m2.0\u001b[0m \u001b[0;34m*\u001b[0m \u001b[0mnumList\u001b[0m\u001b[0;34m\u001b[0m\u001b[0m\n\u001b[0m",
      "\u001b[0;31mTypeError\u001b[0m: can't multiply sequence by non-int of type 'float'"
     ]
    }
   ],
   "source": [
    "2.0 * numList"
   ]
  },
  {
   "cell_type": "markdown",
   "metadata": {},
   "source": [
    "### Vectors in Python programming"
   ]
  },
  {
   "cell_type": "markdown",
   "metadata": {},
   "source": [
    "Our current solution: \n",
    "* using lists for collecting function data\n",
    "* convert to NumPy arrays for doing math with them.\n",
    "\n",
    "As an example, a falling object in Earth's gravity:"
   ]
  },
  {
   "cell_type": "code",
   "execution_count": 7,
   "metadata": {
    "collapsed": false
   },
   "outputs": [],
   "source": [
    "def distance(t, a = 9.8):\n",
    "    '''Calculate the distance given a time and acceleration.\n",
    "       \n",
    "       Input:  time in seconds <int> or <float>,\n",
    "               acceleration in m/s^2 <int> or <float>\n",
    "       Output: distance in m <float>\n",
    "    '''\n",
    "    return 0.5 * a * t**2\n",
    "\n",
    "numPoints = 6                       # number of points\n",
    "delta     = 1.0 / (numPoints - 1)   # time interval between points\n",
    "\n",
    "# Q. What do the two lines below do?  \n",
    "\n",
    "timeList = [index * delta for index in range(numPoints)]\n",
    "distList = [distance(t) for t in timeList]"
   ]
  },
  {
   "cell_type": "code",
   "execution_count": 8,
   "metadata": {
    "collapsed": false
   },
   "outputs": [
    {
     "name": "stdout",
     "output_type": "stream",
     "text": [
      "Time List:     [0.0, 0.2, 0.4, 0.6000000000000001, 0.8, 1.0]\n",
      "Distance List: [0.0, 0.19600000000000006, 0.7840000000000003, 1.7640000000000007, 3.136000000000001, 4.9]\n"
     ]
    }
   ],
   "source": [
    "print(\"Time List:    \", timeList)\n",
    "print(\"Distance List:\", distList)"
   ]
  },
  {
   "cell_type": "markdown",
   "metadata": {},
   "source": [
    "#### Repeat on your own: stitching results together:"
   ]
  },
  {
   "cell_type": "code",
   "execution_count": 9,
   "metadata": {
    "collapsed": false
   },
   "outputs": [
    {
     "name": "stdout",
     "output_type": "stream",
     "text": [
      "[0.0, 0.0]\n",
      "[0.2, 0.19600000000000006]\n",
      "[0.4, 0.7840000000000003]\n",
      "[0.6000000000000001, 1.7640000000000007]\n",
      "[0.8, 3.136000000000001]\n",
      "[1.0, 4.9]\n"
     ]
    }
   ],
   "source": [
    "timeDistList = []\n",
    "for index in range(numPoints):\n",
    "    timeDistList.append([timeList[index], distList[index]])\n",
    "\n",
    "for element in timeDistList:\n",
    "    print element"
   ]
  },
  {
   "cell_type": "markdown",
   "metadata": {},
   "source": [
    "Or using zip, we did this already before:"
   ]
  },
  {
   "cell_type": "code",
   "execution_count": 12,
   "metadata": {
    "collapsed": false
   },
   "outputs": [
    {
     "name": "stdout",
     "output_type": "stream",
     "text": [
      "[0.0, 0.0]\n",
      "[0.2, 0.19600000000000006]\n",
      "[0.4, 0.7840000000000003]\n",
      "[0.6000000000000001, 1.7640000000000007]\n",
      "[0.8, 3.136000000000001]\n",
      "[1.0, 4.9]\n"
     ]
    }
   ],
   "source": [
    "timeDistList2 = [[time, dist] for time, dist in zip(timeList, distList)]\n",
    "\n",
    "for element in timeDistList2:\n",
    "    print(element)"
   ]
  },
  {
   "cell_type": "raw",
   "metadata": {},
   "source": [
    "What zip does:"
   ]
  },
  {
   "cell_type": "code",
   "execution_count": 16,
   "metadata": {
    "collapsed": false
   },
   "outputs": [
    {
     "name": "stdout",
     "output_type": "stream",
     "text": [
      "(0.0, 0.0)\n",
      "(0.2, 0.19600000000000006)\n",
      "(0.4, 0.7840000000000003)\n",
      "(0.6000000000000001, 1.7640000000000007)\n",
      "(0.8, 3.136000000000001)\n",
      "(1.0, 4.9)\n"
     ]
    },
    {
     "data": {
      "text/plain": [
       "[(0.0, 0.0, 0),\n",
       " (0.2, 0.19600000000000006, 1),\n",
       " (0.4, 0.7840000000000003, 2),\n",
       " (0.6000000000000001, 1.7640000000000007, 3),\n",
       " (0.8, 3.136000000000001, 4)]"
      ]
     },
     "execution_count": 16,
     "metadata": {},
     "output_type": "execute_result"
    }
   ],
   "source": [
    "daveList = range(5)\n",
    "for element in zip(timeList, distList):\n",
    "    print(element)\n",
    "list(zip(timeList, distList, daveList))"
   ]
  },
  {
   "cell_type": "markdown",
   "metadata": {},
   "source": [
    "When to use lists and arrays?\n",
    "\n",
    "In general, we'll use lists instead of arrays when elements have to be added (e.g., we don't know how the number of elements ahead of time, and must use methods like append and extend) or their types are heterogeneous.\n",
    "\n",
    "Otherwise we'll use arrays for numerical calculations."
   ]
  },
  {
   "cell_type": "markdown",
   "metadata": {},
   "source": [
    "### Basics of numpy arrays"
   ]
  },
  {
   "cell_type": "markdown",
   "metadata": {},
   "source": [
    "Characteristics of numpy arrays:\n",
    "\n",
    "  1. Elements are all the same type\n",
    "\n",
    "  2. Number of elements known when array is created\n",
    "\n",
    "  3. Numerical Python (numpy) must be imported to \n",
    "     manipulate arrays.\n",
    "\n",
    "  4. **All array elements are operated on by numpy,\n",
    "     which eliminates loops and makes programs\n",
    "     much faster.**\n",
    "\n",
    "  5. Arrays with one index are sometimes called vectors \n",
    "     (or 1D arrays). Arrays with two indices are\n",
    "     sometimes called matrices (or 2D arrays)."
   ]
  },
  {
   "cell_type": "raw",
   "metadata": {},
   "source": [
    "Some numpy functionality and standard usage:"
   ]
  },
  {
   "cell_type": "code",
   "execution_count": 17,
   "metadata": {
    "collapsed": false
   },
   "outputs": [],
   "source": [
    "import numpy as np"
   ]
  },
  {
   "cell_type": "markdown",
   "metadata": {},
   "source": [
    "To convert a list to an array use the array method:"
   ]
  },
  {
   "cell_type": "code",
   "execution_count": 9,
   "metadata": {
    "collapsed": false
   },
   "outputs": [
    {
     "name": "stdout",
     "output_type": "stream",
     "text": [
      "<class 'numpy.ndarray'>\n"
     ]
    },
    {
     "data": {
      "text/plain": [
       "array([1, 2, 3])"
      ]
     },
     "execution_count": 9,
     "metadata": {},
     "output_type": "execute_result"
    }
   ],
   "source": [
    "myList  = [1, 2, 3]\n",
    "myArray = np.array(myList)\n",
    "\n",
    "print(type(myArray))\n",
    "myArray"
   ]
  },
  {
   "cell_type": "markdown",
   "metadata": {},
   "source": [
    "Note the type!"
   ]
  },
  {
   "cell_type": "markdown",
   "metadata": {},
   "source": [
    "To create an array of length n filled with zeros (to be filled later):"
   ]
  },
  {
   "cell_type": "code",
   "execution_count": 10,
   "metadata": {
    "collapsed": true
   },
   "outputs": [],
   "source": [
    "np.zeros?"
   ]
  },
  {
   "cell_type": "code",
   "execution_count": 20,
   "metadata": {
    "collapsed": false
   },
   "outputs": [
    {
     "data": {
      "text/plain": [
       "array([ 0.,  0.,  0.,  0.,  0.,  0.,  0.,  0.,  0.,  0.])"
      ]
     },
     "execution_count": 20,
     "metadata": {},
     "output_type": "execute_result"
    }
   ],
   "source": [
    "myArray = np.zeros(10)\n",
    "myArray"
   ]
  },
  {
   "cell_type": "markdown",
   "metadata": {},
   "source": [
    "#### To create arrays with elements of a type other than the default float, use a second argument:"
   ]
  },
  {
   "cell_type": "code",
   "execution_count": 11,
   "metadata": {
    "collapsed": false
   },
   "outputs": [
    {
     "data": {
      "text/plain": [
       "array([0, 0, 0, 0, 0])"
      ]
     },
     "execution_count": 11,
     "metadata": {},
     "output_type": "execute_result"
    }
   ],
   "source": [
    "myArray = np.zeros(5, dtype=int)\n",
    "myArray"
   ]
  },
  {
   "cell_type": "markdown",
   "metadata": {},
   "source": [
    "We often want array elements equally spaced by some interval (delta).  \n",
    "\n",
    "numpy.linspace(start, end, number of elements) does this:\n",
    "\n",
    "#### NOTE ####  HERE,  THE \"end\" VALUE IS NOT (end - 1)  #### NOTE ####"
   ]
  },
  {
   "cell_type": "code",
   "execution_count": 13,
   "metadata": {
    "collapsed": false
   },
   "outputs": [
    {
     "data": {
      "text/plain": [
       "array([ 0.,  1.,  2.,  3.,  4.,  5.])"
      ]
     },
     "execution_count": 13,
     "metadata": {},
     "output_type": "execute_result"
    }
   ],
   "source": [
    "zArray = np.linspace(0, 5, 6)\n",
    "zArray"
   ]
  },
  {
   "cell_type": "markdown",
   "metadata": {},
   "source": [
    "#### Q. What will that do?"
   ]
  },
  {
   "cell_type": "markdown",
   "metadata": {},
   "source": [
    "Array elements are accessed with square brackets, the same as lists:"
   ]
  },
  {
   "cell_type": "code",
   "execution_count": 14,
   "metadata": {
    "collapsed": false
   },
   "outputs": [
    {
     "data": {
      "text/plain": [
       "3.0"
      ]
     },
     "execution_count": 14,
     "metadata": {},
     "output_type": "execute_result"
    }
   ],
   "source": [
    "zArray[3]"
   ]
  },
  {
   "cell_type": "markdown",
   "metadata": {},
   "source": [
    "Slicing can also be done on arrays:"
   ]
  },
  {
   "cell_type": "markdown",
   "metadata": {},
   "source": [
    "#### Q. What does this give us?"
   ]
  },
  {
   "cell_type": "code",
   "execution_count": 15,
   "metadata": {
    "collapsed": false
   },
   "outputs": [
    {
     "data": {
      "text/plain": [
       "array([ 1.,  2.,  3.])"
      ]
     },
     "execution_count": 15,
     "metadata": {},
     "output_type": "execute_result"
    }
   ],
   "source": [
    "yArray = zArray[1:4]\n",
    "yArray"
   ]
  },
  {
   "cell_type": "markdown",
   "metadata": {},
   "source": [
    "For reference below:"
   ]
  },
  {
   "cell_type": "code",
   "execution_count": 16,
   "metadata": {
    "collapsed": false
   },
   "outputs": [
    {
     "data": {
      "text/plain": [
       "array([ 0.,  1.,  2.,  3.,  4.,  5.])"
      ]
     },
     "execution_count": 16,
     "metadata": {},
     "output_type": "execute_result"
    }
   ],
   "source": [
    "zArray"
   ]
  },
  {
   "cell_type": "markdown",
   "metadata": {},
   "source": [
    "Let's edit one of the values in the z array"
   ]
  },
  {
   "cell_type": "code",
   "execution_count": 17,
   "metadata": {
    "collapsed": false
   },
   "outputs": [
    {
     "data": {
      "text/plain": [
       "array([  0.,   1.,   2.,  10.,   4.,   5.])"
      ]
     },
     "execution_count": 17,
     "metadata": {},
     "output_type": "execute_result"
    }
   ],
   "source": [
    "zArray[3] = 10.0\n",
    "zArray"
   ]
  },
  {
   "cell_type": "markdown",
   "metadata": {},
   "source": [
    "Now let's look at the y array again"
   ]
  },
  {
   "cell_type": "code",
   "execution_count": 18,
   "metadata": {
    "collapsed": false
   },
   "outputs": [
    {
     "data": {
      "text/plain": [
       "array([  1.,   2.,  10.])"
      ]
     },
     "execution_count": 18,
     "metadata": {},
     "output_type": "execute_result"
    }
   ],
   "source": [
    "yArray"
   ]
  },
  {
   "cell_type": "markdown",
   "metadata": {},
   "source": [
    "The variable yArray is a **reference** (or **`view`** in Numpy lingo) to three elements (a slice) from zArray: element indices 1, 2, and 3.\n",
    "\n",
    "Here is a blog post which discusses this issue nicely:\n",
    "\n",
    "http://nedbatchelder.com/text/names.html\n",
    "\n",
    "Reason this is of course memory efficiency: Why copy data if not necessary?"
   ]
  },
  {
   "cell_type": "code",
   "execution_count": 21,
   "metadata": {
    "collapsed": false
   },
   "outputs": [
    {
     "name": "stdout",
     "output_type": "stream",
     "text": [
      "[7, 8]\n"
     ]
    },
    {
     "data": {
      "text/plain": [
       "[7, 8]"
      ]
     },
     "execution_count": 21,
     "metadata": {},
     "output_type": "execute_result"
    }
   ],
   "source": [
    "lList = [6, 7, 8, 9, 10, 11]\n",
    "mList = lList[1:3]\n",
    "\n",
    "print(mList)\n",
    "lList[1] = 10\n",
    "mList"
   ]
  },
  {
   "cell_type": "markdown",
   "metadata": {},
   "source": [
    "> Do not forget this -- check your array values frequently if you are unsure!"
   ]
  },
  {
   "cell_type": "markdown",
   "metadata": {},
   "source": [
    "### Computing coordinates and function values\n",
    "\n",
    "Here's the distance function we did previously:"
   ]
  },
  {
   "cell_type": "code",
   "execution_count": 30,
   "metadata": {
    "collapsed": false
   },
   "outputs": [],
   "source": [
    "def distance(t, a = 9.8):\n",
    "    '''Calculate the distance given a time and acceleration.\n",
    "       \n",
    "       Input:  time in seconds <int> or <float>,\n",
    "               acceleration in m/s^2 <int> or <float>\n",
    "       Output: distance in m <float>\n",
    "    '''\n",
    "    return 0.5 * a * t**2\n",
    "\n",
    "numPoints = 6                       # number of points\n",
    "delta     = 1.0 / (numPoints - 1)   # time interval between points\n",
    "\n",
    "timeList = [index * delta for index in range(numPoints)]   # Create the time list\n",
    "distList = [distance(t) for t in timeList]                 # Create the distance list"
   ]
  },
  {
   "cell_type": "markdown",
   "metadata": {},
   "source": [
    "We could convert timeList and distList from lists to arrays:"
   ]
  },
  {
   "cell_type": "code",
   "execution_count": 31,
   "metadata": {
    "collapsed": false
   },
   "outputs": [
    {
     "name": "stdout",
     "output_type": "stream",
     "text": [
      "<class 'numpy.ndarray'> [ 0.   0.2  0.4  0.6  0.8  1. ]\n",
      "<class 'numpy.ndarray'> [ 0.     0.196  0.784  1.764  3.136  4.9  ]\n"
     ]
    }
   ],
   "source": [
    "timeArray = np.array(timeList)\n",
    "distArray = np.array(distList)\n",
    "\n",
    "print(type(timeArray), timeArray)\n",
    "print(type(distArray), distArray)"
   ]
  },
  {
   "cell_type": "markdown",
   "metadata": {},
   "source": [
    "We can do this directly by creating arrays (without converting from a list) with np.linspace\n",
    "to create timeArray and np.zeros to create distArray.\n",
    "\n",
    "(This is merely a demonstration, not superior to the above code for this simple example.)"
   ]
  },
  {
   "cell_type": "code",
   "execution_count": 22,
   "metadata": {
    "collapsed": false
   },
   "outputs": [
    {
     "name": "stdout",
     "output_type": "stream",
     "text": [
      "Time Array:           <class 'numpy.ndarray'> [ 0.   0.2  0.4  0.6  0.8  1. ]\n",
      "Dist Array Zeros:     <class 'numpy.ndarray'> [ 0.  0.  0.  0.  0.  0.]\n",
      "Dist Array Populated: <class 'numpy.ndarray'> [ 0.     0.196  0.784  1.764  3.136  4.9  ]\n"
     ]
    }
   ],
   "source": [
    "def distance(t, a = 9.8):\n",
    "    '''Calculate the distance given a time and acceleration.\n",
    "       \n",
    "       Input:  time in seconds <int> or <float>,\n",
    "               acceleration in m/s^2 <int> or <float>\n",
    "       Output: distance in m <float>\n",
    "    '''\n",
    "    return 0.5 * a * t**2\n",
    "\n",
    "numPoints = 6                       # number of points\n",
    "\n",
    "timeArray = np.linspace(0, 1, numPoints)   # Create the time array\n",
    "distArray = np.zeros(numPoints)            # Create the distance array populated with 0's\n",
    "\n",
    "print(\"Time Array:          \", type(timeArray), timeArray)\n",
    "print(\"Dist Array Zeros:    \", type(distArray), distArray)\n",
    "\n",
    "for index in range(numPoints):\n",
    "    distArray[index] = distance(timeArray[index])   # Populate the distance array with calculated values\n",
    "\n",
    "print(\"Dist Array Populated:\", type(distArray), distArray)"
   ]
  },
  {
   "cell_type": "markdown",
   "metadata": {},
   "source": [
    "### Vectorization -- one of the great powers of arrays"
   ]
  },
  {
   "cell_type": "markdown",
   "metadata": {},
   "source": [
    "The examples above are great, but they doesn't use the computation power of arrays by operating on all the elements simultaneously!\n",
    "\n",
    "Loops are slow. \n",
    "Operating on the elements simultaneously is much faster (and simpler!).\n",
    "\n",
    "\"Vectorization\" is replacing a loop with vector or array expressions."
   ]
  },
  {
   "cell_type": "code",
   "execution_count": 23,
   "metadata": {
    "collapsed": false
   },
   "outputs": [
    {
     "name": "stdout",
     "output_type": "stream",
     "text": [
      "Time Array: <class 'numpy.ndarray'> [ 0.   0.2  0.4  0.6  0.8  1. ]\n",
      "Dist Array: <class 'numpy.ndarray'> [ 0.     0.196  0.784  1.764  3.136  4.9  ]\n"
     ]
    }
   ],
   "source": [
    "def distance(t, a = 9.8):\n",
    "    '''Calculate the distance given a time and acceleration.\n",
    "       \n",
    "       Input:  time(s) in seconds <int> or <float> or <np.array>,\n",
    "               acceleration in m/s^2 <int> or <float>\n",
    "       Output: distance in m <float>\n",
    "    '''\n",
    "    return 0.5 * a * t**2\n",
    "\n",
    "numPoints = 6                              # number of points\n",
    "\n",
    "timeArray = np.linspace(0, 1, numPoints)   # Create the time array\n",
    "distArray = distance(timeArray)            # Create and populate the distance array using vectorization\n",
    "\n",
    "print(\"Time Array:\", type(timeArray), timeArray)\n",
    "print(\"Dist Array:\", type(distArray), distArray)"
   ]
  },
  {
   "cell_type": "markdown",
   "metadata": {},
   "source": [
    "What just happened?\n",
    "\n",
    "Let's look at what the function \"distance\" is doing to the values in timeArray"
   ]
  },
  {
   "cell_type": "code",
   "execution_count": 24,
   "metadata": {
    "collapsed": false
   },
   "outputs": [
    {
     "name": "stdout",
     "output_type": "stream",
     "text": [
      "Original  [ 0.   0.2  0.4  0.6  0.8  1. ]\n",
      "Squared   [ 0.    0.04  0.16  0.36  0.64  1.  ]\n",
      "[ 0.     0.196  0.784  1.764  3.136  4.9  ]\n",
      "Times 0.5 [ 0.    0.02  0.08  0.18  0.32  0.5 ]\n",
      "Times a   [ 0.     0.196  0.784  1.764  3.136  4.9  ]\n"
     ]
    }
   ],
   "source": [
    "numPoints = 6   # Number of points\n",
    "a = 9.8         # Acceleration in m/s^2\n",
    "\n",
    "timeArray = np.linspace(0, 1, numPoints)  # The values a created like before\n",
    "print(\"Original \", timeArray)\n",
    "\n",
    "timeArray = timeArray**2                  # Once in the function, they are first squared\n",
    "print(\"Squared  \", timeArray)\n",
    "print(distArray)\n",
    "\n",
    "timeArray = timeArray * 0.5               # Next they are multiplied by 0.5\n",
    "print(\"Times 0.5\", timeArray)\n",
    "\n",
    "timeArray = timeArray * a                 # Finally, they are multiplied by a and the entire modified\n",
    "print(\"Times a  \", timeArray)                # array is returned"
   ]
  },
  {
   "cell_type": "markdown",
   "metadata": {},
   "source": [
    "Caution: numpy has its own math functions, such as sin, cos, pi, exp, and some of these are slightly different from Python's math module.\n",
    "\n",
    "Also, the math module does not accept numpy array as arguments, i.e. it is **NOT** vectorized.\n",
    "\n",
    "Conclusiong: Use numpy built in math whenever dealing with arrays, but be aware that if you repeatedly (in a loop) calculate only 1 value at a time, the `math` library would be faster (because numpy has some overhead costs to do autmatically element-wise math).\n",
    "\n",
    "So, do this for single calculations:"
   ]
  },
  {
   "cell_type": "code",
   "execution_count": 25,
   "metadata": {
    "collapsed": false
   },
   "outputs": [
    {
     "data": {
      "text/plain": [
       "0.479425538604203"
      ]
     },
     "execution_count": 25,
     "metadata": {},
     "output_type": "execute_result"
    }
   ],
   "source": [
    "import math\n",
    "math.sin(0.5)"
   ]
  },
  {
   "cell_type": "markdown",
   "metadata": {},
   "source": [
    "but do this for arrays:"
   ]
  },
  {
   "cell_type": "code",
   "execution_count": 26,
   "metadata": {
    "collapsed": false
   },
   "outputs": [
    {
     "data": {
      "text/plain": [
       "array([ 0.09983342,  0.19866933,  0.29552021,  0.38941834,  0.47942554])"
      ]
     },
     "execution_count": 26,
     "metadata": {},
     "output_type": "execute_result"
    }
   ],
   "source": [
    "np.sin([0.1, 0.2, 0.3, 0.4, 0.5])"
   ]
  },
  {
   "cell_type": "markdown",
   "metadata": {},
   "source": [
    "Extras:\n",
    "\n",
    "Python names and references:\n",
    "\n",
    "http://nedbatchelder.com/text/names.html\n",
    "\n",
    "Generators:\n",
    "\n",
    "https://www.jeffknupp.com/blog/2013/04/07/improve-your-python-yield-and-generators-explained/\n"
   ]
  },
  {
   "cell_type": "code",
   "execution_count": null,
   "metadata": {
    "collapsed": true
   },
   "outputs": [],
   "source": []
  }
 ],
 "metadata": {
  "kernelspec": {
   "display_name": "Python 3",
   "language": "python",
   "name": "python3"
  },
  "language_info": {
   "codemirror_mode": {
    "name": "ipython",
    "version": 3
   },
   "file_extension": ".py",
   "mimetype": "text/x-python",
   "name": "python",
   "nbconvert_exporter": "python",
   "pygments_lexer": "ipython3",
   "version": "3.5.1"
  }
 },
 "nbformat": 4,
 "nbformat_minor": 0
}
