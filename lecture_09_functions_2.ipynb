{
 "cells": [
  {
   "cell_type": "markdown",
   "metadata": {},
   "source": [
    "## Today: More on functions"
   ]
  },
  {
   "cell_type": "markdown",
   "metadata": {},
   "source": [
    "Final project posted.\n",
    "\n",
    "Poll: When do you want Homework deadline? Friday lunch, to enable discussing HW on Friday? Or end of Friday?"
   ]
  },
  {
   "cell_type": "raw",
   "metadata": {},
   "source": [
    "Refresher:"
   ]
  },
  {
   "cell_type": "code",
   "execution_count": 61,
   "metadata": {
    "collapsed": false
   },
   "outputs": [],
   "source": [
    "from math import exp\n",
    "\n",
    "# Could avoid this by using our constants.py module!\n",
    "h = 6.626e-34  # MKS\n",
    "k = 1.38e-23\n",
    "c = 3.00e8\n",
    "\n",
    "def intensity(wave, temp, mydefault=0):\n",
    "    wavelength = wave / 1e10\n",
    "    B = 2 * h * c**2 / (wavelength**5 * (exp(h * c / (wavelength * k * temp)) - 1))\n",
    "    return B"
   ]
  },
  {
   "cell_type": "markdown",
   "metadata": {},
   "source": [
    "#### Q. Is the following call sequence acceptable?"
   ]
  },
  {
   "cell_type": "code",
   "execution_count": 62,
   "metadata": {
    "collapsed": true
   },
   "outputs": [],
   "source": [
    "mywave = 5000"
   ]
  },
  {
   "cell_type": "code",
   "execution_count": 64,
   "metadata": {
    "collapsed": false
   },
   "outputs": [
    {
     "data": {
      "text/plain": [
       "0.10237534446584186"
      ]
     },
     "execution_count": 64,
     "metadata": {},
     "output_type": "execute_result"
    }
   ],
   "source": [
    "intensity(mywave, temp=5800.0)"
   ]
  },
  {
   "cell_type": "raw",
   "metadata": {},
   "source": [
    "\n",
    "\n",
    "\n",
    "\n",
    "\n",
    "\n",
    "\n",
    "\n",
    "\n",
    "\n",
    "\n",
    "\n"
   ]
  },
  {
   "cell_type": "markdown",
   "metadata": {},
   "source": [
    "No! The following are all OK!"
   ]
  },
  {
   "cell_type": "code",
   "execution_count": 65,
   "metadata": {
    "collapsed": false
   },
   "outputs": [
    {
     "name": "stdout",
     "output_type": "stream",
     "text": [
      "26764616298487.527\n",
      "26764616298487.527\n",
      "26764616298487.527\n"
     ]
    }
   ],
   "source": [
    "print(intensity(5000.0, temp=5800.0))\n",
    "print(intensity(wave=5000.0, temp=5800.0))\n",
    "print(intensity(5000.0, 5800.0))"
   ]
  },
  {
   "cell_type": "raw",
   "metadata": {},
   "source": [
    "This runs, but gives the wrong result:\n",
    "(assuming we want 5800 K blackbody, wavelength of 5000 A)\n",
    "\n",
    "Q. Why?"
   ]
  },
  {
   "cell_type": "code",
   "execution_count": 66,
   "metadata": {
    "collapsed": false
   },
   "outputs": [
    {
     "data": {
      "text/plain": [
       "12742982172276.992"
      ]
     },
     "execution_count": 66,
     "metadata": {},
     "output_type": "execute_result"
    }
   ],
   "source": [
    "intensity(5800.0, 5000.0)"
   ]
  },
  {
   "cell_type": "markdown",
   "metadata": {},
   "source": [
    "### Keyword arguments"
   ]
  },
  {
   "cell_type": "raw",
   "metadata": {},
   "source": [
    "Function arguments can be given default values so that \n",
    "the arguments can be left out of the function call."
   ]
  },
  {
   "cell_type": "code",
   "execution_count": 74,
   "metadata": {
    "collapsed": false
   },
   "outputs": [],
   "source": [
    "def testFunc(arg1, arg2, kwarg1=True, kwarg2=4.2):\n",
    "    print(arg1, arg2, kwarg1, kwarg2)"
   ]
  },
  {
   "cell_type": "markdown",
   "metadata": {},
   "source": [
    "The first two arguments in this case are \"positional arguments.\"\n",
    "\n",
    "The second two are named \"keyword arguments\".\n",
    "\n",
    "Keyword arguments must follow positional arguments in function calls."
   ]
  },
  {
   "cell_type": "markdown",
   "metadata": {},
   "source": [
    "#### Q. What will this do?"
   ]
  },
  {
   "cell_type": "code",
   "execution_count": 76,
   "metadata": {
    "collapsed": false
   },
   "outputs": [
    {
     "name": "stdout",
     "output_type": "stream",
     "text": [
      "1.0 2.0 True 4.2\n",
      "1.0 2.0 3.0 4.2\n"
     ]
    }
   ],
   "source": [
    "testFunc(1.0, 2.0)\n",
    "testFunc(1.0, 2.0, 3.0)  # NOTE! I do not HAVE TO use the keyword access!"
   ]
  },
  {
   "cell_type": "raw",
   "metadata": {},
   "source": [
    "Let's practice using an example from the book:"
   ]
  },
  {
   "cell_type": "markdown",
   "metadata": {},
   "source": [
    "$$f(t)=A \\cdot e^{-at} \\cdot \\sin({\\omega \\cdot t})$$"
   ]
  },
  {
   "cell_type": "code",
   "execution_count": 77,
   "metadata": {
    "collapsed": false
   },
   "outputs": [
    {
     "data": {
      "text/plain": [
       "0.062165743421020596"
      ]
     },
     "execution_count": 77,
     "metadata": {},
     "output_type": "execute_result"
    }
   ],
   "source": [
    "from math import pi, exp, sin\n",
    "tau = 2*pi\n",
    "\n",
    "# t is positional argument, others are keyword arguments\n",
    "def f(t, A=1, a=1, omega=tau):\n",
    "    return A * exp(-a * t) * sin(omega * t)\n",
    "\n",
    "v1 = f(0.01)  # Only the time is specified\n",
    "v1"
   ]
  },
  {
   "cell_type": "markdown",
   "metadata": {},
   "source": [
    "#### Q. What will this yield? "
   ]
  },
  {
   "cell_type": "code",
   "execution_count": 78,
   "metadata": {
    "collapsed": false
   },
   "outputs": [
    {
     "data": {
      "text/plain": [
       "0.12433148684204119"
      ]
     },
     "execution_count": 78,
     "metadata": {},
     "output_type": "execute_result"
    }
   ],
   "source": [
    "v1 = f(A=2, t=0.01)\n",
    "v1"
   ]
  },
  {
   "cell_type": "raw",
   "metadata": {},
   "source": [
    "Here is a nice example from the book demonstrating\n",
    "using a while loop, a function, and a TOLERANCE to sum an\n",
    "infinite series to the needed precision. This is similar \n",
    "to our example with the sine curve from last week."
   ]
  },
  {
   "cell_type": "markdown",
   "metadata": {},
   "source": [
    "$$e^x = \\sum_{i=0}^{\\infty} \\frac{x^i}{i!}$$"
   ]
  },
  {
   "cell_type": "raw",
   "metadata": {},
   "source": [
    "i.e., approximate with N terms as:"
   ]
  },
  {
   "cell_type": "markdown",
   "metadata": {},
   "source": [
    "$$e^x \\approx \\sum_{i=0}^{N} \\frac{x^i}{i!}$$"
   ]
  },
  {
   "cell_type": "code",
   "execution_count": 79,
   "metadata": {
    "collapsed": false
   },
   "outputs": [],
   "source": [
    "import math\n",
    "\n",
    "def exponential(x, epsilon=1e-6):\n",
    "    total = 1.0\n",
    "    i = 1\n",
    "    term = (x**i) / math.factorial(i)\n",
    "    \n",
    "    while abs(term) > epsilon:\n",
    "        term = x**i / math.factorial(i)\n",
    "        total += term\n",
    "        i += 1\n",
    "    \n",
    "    return total, i"
   ]
  },
  {
   "cell_type": "raw",
   "metadata": {},
   "source": [
    "Notice how instead of comparing neighboring estimates of the sum as we did for the sine function last time (i.e., estimates using N and N+1 terms), we just look at how big the Nth term is."
   ]
  },
  {
   "cell_type": "code",
   "execution_count": 80,
   "metadata": {
    "collapsed": false
   },
   "outputs": [
    {
     "name": "stdout",
     "output_type": "stream",
     "text": [
      "(11.023159438717405, 13)\n",
      "(11.023176313308625, 16)\n",
      "11.023176380641601\n"
     ]
    }
   ],
   "source": [
    "total, i = exponential(2.4, epsilon=1e-2)\n",
    "print(exponential(2.4, epsilon=1e-4))\n",
    "print(exponential(2.4))\n",
    "print(math.exp(2.4))"
   ]
  },
  {
   "cell_type": "raw",
   "metadata": {},
   "source": [
    "OK, we've now seen lots of examples of functions. "
   ]
  },
  {
   "cell_type": "markdown",
   "metadata": {},
   "source": [
    "#### Q. What's missing? Have there been ambiguities in the functions we've written?"
   ]
  },
  {
   "cell_type": "raw",
   "metadata": {},
   "source": [
    "Consider our Planck function example:"
   ]
  },
  {
   "cell_type": "code",
   "execution_count": null,
   "metadata": {
    "collapsed": false
   },
   "outputs": [],
   "source": [
    "from math import exp\n",
    "\n",
    "h = 6.626e-34  # MKS\n",
    "k = 1.38e-23\n",
    "c = 3.00e8\n",
    "\n",
    "def intensity(wave, temp):\n",
    "    wavelength = wave / 1e10\n",
    "    inten = 2 * h * c**2 / (wavelength**5 * (exp(h * c / (wavelength * k * temp)) - 1))\n",
    "    return inten"
   ]
  },
  {
   "cell_type": "raw",
   "metadata": {},
   "source": [
    "\n",
    "\n",
    "\n",
    "\n",
    "\n",
    "\n",
    "\n",
    "\n",
    "\n",
    "\n",
    "\n"
   ]
  },
  {
   "cell_type": "markdown",
   "metadata": {},
   "source": [
    "### Doc-strings (review)"
   ]
  },
  {
   "cell_type": "raw",
   "metadata": {},
   "source": [
    "Document strings are inserted right below the function header\n",
    "(def line) to describe the purpose of the function and what the \n",
    "arguments and return values are.  \n",
    "\n",
    "Triple quotes allow the descriptions to span several lines.\n",
    "\n",
    "Doc strings should include a description of the function,\n",
    "a list of arguments, and an example."
   ]
  },
  {
   "cell_type": "code",
   "execution_count": 83,
   "metadata": {
    "collapsed": false
   },
   "outputs": [],
   "source": [
    "import math\n",
    "def exponential(x, epsilon=1e-6):  \n",
    "    \"\"\"\n",
    "    This function calculates exp(x) to a tolerance\n",
    "    of epsilon.\n",
    "\n",
    "    Parameters\n",
    "    ----------\n",
    "    x :  exponent\n",
    "    epsilon :  tolerance\n",
    "    returns :  exp(x), number of terms include (after 1.0)\n",
    "\n",
    "    Example from interactive shell:\n",
    "    >>> sum, i = exponential(0.15)\n",
    "    >>> print i-1, sum\n",
    "    5, 1.16183422656\n",
    "    \"\"\"\n",
    "    total = 1.0\n",
    "    i = 1\n",
    "    term = (x**i) / math.factorial(i)\n",
    "    \n",
    "    while abs(term) > epsilon:\n",
    "        term = x**i / math.factorial(i)\n",
    "        total += term\n",
    "        i += 1\n",
    "    \n",
    "    return total, i"
   ]
  },
  {
   "cell_type": "code",
   "execution_count": 81,
   "metadata": {
    "collapsed": false,
    "scrolled": true
   },
   "outputs": [
    {
     "data": {
      "text/plain": [
       "(5, 1.1618342265625)"
      ]
     },
     "execution_count": 81,
     "metadata": {},
     "output_type": "execute_result"
    }
   ],
   "source": [
    "total, i = exponential(0.15)\n",
    "i - 1, total"
   ]
  },
  {
   "cell_type": "markdown",
   "metadata": {},
   "source": [
    "#### Q. So, what should doc strings contain in general?"
   ]
  },
  {
   "cell_type": "raw",
   "metadata": {},
   "source": [
    "Python can extract the doc string to read:\n",
    "(Must run above cell before this next one)"
   ]
  },
  {
   "cell_type": "code",
   "execution_count": 84,
   "metadata": {
    "collapsed": false
   },
   "outputs": [
    {
     "name": "stdout",
     "output_type": "stream",
     "text": [
      "\n",
      "    This function calculates exp(x) to a tolerance\n",
      "    of epsilon.\n",
      "\n",
      "    Parameters\n",
      "    ----------\n",
      "    x :  exponent\n",
      "    epsilon :  tolerance\n",
      "    returns :  exp(x), number of terms include (after 1.0)\n",
      "\n",
      "    Example from interactive shell:\n",
      "    >>> sum, i = exponential(0.15)\n",
      "    >>> print i-1, sum\n",
      "    5, 1.16183422656\n",
      "    \n"
     ]
    }
   ],
   "source": [
    "print(exponential.__doc__)\n",
    "\n",
    "# How handy!!"
   ]
  },
  {
   "cell_type": "code",
   "execution_count": null,
   "metadata": {
    "collapsed": true
   },
   "outputs": [],
   "source": [
    "expontential."
   ]
  },
  {
   "cell_type": "raw",
   "metadata": {},
   "source": [
    "or:"
   ]
  },
  {
   "cell_type": "code",
   "execution_count": 85,
   "metadata": {
    "collapsed": false
   },
   "outputs": [
    {
     "name": "stdout",
     "output_type": "stream",
     "text": [
      "Help on function exponential in module __main__:\n",
      "\n",
      "exponential(x, epsilon=1e-06)\n",
      "    This function calculates exp(x) to a tolerance\n",
      "    of epsilon.\n",
      "    \n",
      "    Parameters\n",
      "    ----------\n",
      "    x :  exponent\n",
      "    epsilon :  tolerance\n",
      "    returns :  exp(x), number of terms include (after 1.0)\n",
      "    \n",
      "    Example from interactive shell:\n",
      "    >>> sum, i = exponential(0.15)\n",
      "    >>> print i-1, sum\n",
      "    5, 1.16183422656\n",
      "\n"
     ]
    }
   ],
   "source": [
    "help(exponential)"
   ]
  },
  {
   "cell_type": "raw",
   "metadata": {},
   "source": [
    "Nomenclature:\n",
    "\n",
    "Function arguments/parameters are input\n",
    "Returned objects are output"
   ]
  },
  {
   "cell_type": "raw",
   "metadata": {},
   "source": [
    "Let's fix-up our Planck function:"
   ]
  },
  {
   "cell_type": "code",
   "execution_count": 86,
   "metadata": {
    "collapsed": false
   },
   "outputs": [],
   "source": [
    "from math import exp\n",
    "\n",
    "h = 6.626e-34  # MKS\n",
    "k = 1.38e-23\n",
    "c = 3.00e8\n",
    "\n",
    "def intensity(wave, temp):\n",
    "    \"\"\"\n",
    "    Compute the value of the Planck function.\n",
    "\n",
    "    Parameters\n",
    "    ----------\n",
    "    wave : int, float\n",
    "        Wavelength at which to compute Planck function, in Angstroms.\n",
    "    T : int, float\n",
    "        Temperature of blackbody, in Kelvin.\n",
    "\n",
    "    Example\n",
    "    -------\n",
    "    Radiance at 5000 Angstrom, 5800 K blackbody:\n",
    "    >>> radiance = I(wave=5000., T=5800.) \n",
    "\n",
    "    Returns\n",
    "    -------\n",
    "    Radiance of blackbody in W / sr / m^3.\n",
    "    \"\"\"\n",
    "    \n",
    "    wavelength = wave / 1e10\n",
    "    inten = 2 * h * c**2 / (wavelength**5 * (exp(h * c / (wavelength * k * temp)) - 1))\n",
    "    return inten"
   ]
  },
  {
   "cell_type": "markdown",
   "metadata": {},
   "source": [
    "### Functions as arguments to other functions"
   ]
  },
  {
   "cell_type": "raw",
   "metadata": {},
   "source": [
    "Python can use functions as arguments of other functions.\n",
    "\n",
    "The text has a numerical second derivative in an\n",
    "example of a function calling a function:"
   ]
  },
  {
   "cell_type": "markdown",
   "metadata": {},
   "source": [
    "$$\\frac{df(x)}{dx} \\approx \\frac{f(x-h) + f(x+h) - 2f(x)}{h^2}$$"
   ]
  },
  {
   "cell_type": "code",
   "execution_count": 87,
   "metadata": {
    "collapsed": false
   },
   "outputs": [],
   "source": [
    "def diff2(f, x, h=1e-6):\n",
    "    \"\"\"\n",
    "    Calculates a second derivative.\n",
    "    f:  the function (of one variable) to be differentiated\n",
    "    x:  value at which the function is evaluated\n",
    "    h:  small difference in x \n",
    "    \"\"\"\n",
    "    r = (f(x-h) + f(x + h) - 2.0 * f(x)) / float(h**2)\n",
    "    return r"
   ]
  },
  {
   "cell_type": "raw",
   "metadata": {},
   "source": [
    "Now let's use it."
   ]
  },
  {
   "cell_type": "markdown",
   "metadata": {},
   "source": [
    "We'll work with the following function:\n",
    "\n",
    "$g(t) = t^2$"
   ]
  },
  {
   "cell_type": "code",
   "execution_count": 88,
   "metadata": {
    "collapsed": false
   },
   "outputs": [],
   "source": [
    "def g(t):\n",
    "    return t**2"
   ]
  },
  {
   "cell_type": "code",
   "execution_count": null,
   "metadata": {
    "collapsed": false
   },
   "outputs": [],
   "source": [
    "t = 3.0\n",
    "gPrimePrime = diff2(g, t)"
   ]
  },
  {
   "cell_type": "markdown",
   "metadata": {},
   "source": [
    "#### Q. What should this yield?"
   ]
  },
  {
   "cell_type": "code",
   "execution_count": null,
   "metadata": {
    "collapsed": false
   },
   "outputs": [],
   "source": [
    "print(\"Second derivative of g=t^4 evaluated at t=%g\" % t)\n",
    "\"g(%f)=%.8g\" % (t, gPrimePrime)"
   ]
  },
  {
   "cell_type": "markdown",
   "metadata": {},
   "source": [
    "### Lambda functions"
   ]
  },
  {
   "cell_type": "raw",
   "metadata": {},
   "source": [
    "Functions can be defined in one line (which is convenient \n",
    "if they are short!) using the Python lambda function."
   ]
  },
  {
   "cell_type": "code",
   "execution_count": 89,
   "metadata": {
    "collapsed": false
   },
   "outputs": [
    {
     "name": "stdout",
     "output_type": "stream",
     "text": [
      "<function <lambda> at 0x115b4fa60>\n"
     ]
    },
    {
     "data": {
      "text/plain": [
       "4.0"
      ]
     },
     "execution_count": 89,
     "metadata": {},
     "output_type": "execute_result"
    }
   ],
   "source": [
    "g = lambda t: t**2\n",
    "print(g)\n",
    "g(2.0)"
   ]
  },
  {
   "cell_type": "code",
   "execution_count": null,
   "metadata": {
    "collapsed": false
   },
   "outputs": [],
   "source": [
    "def g(t):\n",
    "    return t**2"
   ]
  },
  {
   "cell_type": "raw",
   "metadata": {},
   "source": [
    "This can also be done for multiple arguments."
   ]
  },
  {
   "cell_type": "raw",
   "metadata": {},
   "source": [
    "Syntax:\n",
    "\n",
    "g = lambda arg1, arg2, arg, ...: expression\n",
    "\n",
    "It lends itself nicely to function calls to functions:"
   ]
  },
  {
   "cell_type": "code",
   "execution_count": 90,
   "metadata": {
    "collapsed": false
   },
   "outputs": [
    {
     "data": {
      "text/plain": [
       "1.8189894035458565"
      ]
     },
     "execution_count": 90,
     "metadata": {},
     "output_type": "execute_result"
    }
   ],
   "source": [
    "# This simply calculates the second derivative of t^2 evaluated at t=1.\n",
    "test = diff2(lambda t: t**2, 56) \n",
    "# Recall the first argument to diff2 was the function\n",
    "\n",
    "test"
   ]
  },
  {
   "cell_type": "code",
   "execution_count": 91,
   "metadata": {
    "collapsed": false
   },
   "outputs": [],
   "source": [
    "def cubed(x):\n",
    "    return x**3"
   ]
  },
  {
   "cell_type": "code",
   "execution_count": 92,
   "metadata": {
    "collapsed": false
   },
   "outputs": [
    {
     "data": {
      "text/plain": [
       "8"
      ]
     },
     "execution_count": 92,
     "metadata": {},
     "output_type": "execute_result"
    }
   ],
   "source": [
    "cubed(2)"
   ]
  },
  {
   "cell_type": "code",
   "execution_count": 93,
   "metadata": {
    "collapsed": false
   },
   "outputs": [],
   "source": [
    "y = lambda x: x**3"
   ]
  },
  {
   "cell_type": "code",
   "execution_count": 94,
   "metadata": {
    "collapsed": false
   },
   "outputs": [
    {
     "data": {
      "text/plain": [
       "8"
      ]
     },
     "execution_count": 94,
     "metadata": {},
     "output_type": "execute_result"
    }
   ],
   "source": [
    "y(2)"
   ]
  },
  {
   "cell_type": "code",
   "execution_count": 96,
   "metadata": {
    "collapsed": true
   },
   "outputs": [],
   "source": [
    "s = 'hans_gruber'"
   ]
  },
  {
   "cell_type": "code",
   "execution_count": 97,
   "metadata": {
    "collapsed": false
   },
   "outputs": [
    {
     "data": {
      "text/plain": [
       "['hans', 'gruber']"
      ]
     },
     "execution_count": 97,
     "metadata": {},
     "output_type": "execute_result"
    }
   ],
   "source": [
    "s.split('_')"
   ]
  },
  {
   "cell_type": "code",
   "execution_count": null,
   "metadata": {
    "collapsed": true
   },
   "outputs": [],
   "source": [
    "df.sort().groupby().do_stuff(lambda x: x.split('-')[0])"
   ]
  }
 ],
 "metadata": {
  "kernelspec": {
   "display_name": "Python 3",
   "language": "python",
   "name": "python3"
  },
  "language_info": {
   "codemirror_mode": {
    "name": "ipython",
    "version": 3
   },
   "file_extension": ".py",
   "mimetype": "text/x-python",
   "name": "python",
   "nbconvert_exporter": "python",
   "pygments_lexer": "ipython3",
   "version": "3.5.1"
  }
 },
 "nbformat": 4,
 "nbformat_minor": 0
}
