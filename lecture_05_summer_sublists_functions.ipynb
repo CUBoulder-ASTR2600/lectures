{
 "cells": [
  {
   "cell_type": "markdown",
   "metadata": {},
   "source": [
    "# quick recap\n",
    "\n",
    "You now have both `while` loop and `for` loop in your toolset.\n",
    "Let's look quickly at yesterday's last tutorial task.\n",
    "However, I also will also upload general solution notebook files later today)"
   ]
  },
  {
   "cell_type": "code",
   "execution_count": 1,
   "metadata": {
    "collapsed": false
   },
   "outputs": [
    {
     "name": "stdout",
     "output_type": "stream",
     "text": [
      "RESULT: 2! = 2\n",
      "RESULT: 3! = 6\n",
      "RESULT: 4! = 24\n"
     ]
    }
   ],
   "source": [
    "for fIndex, y in enumerate(range(2, 5)):\n",
    "    \n",
    "    countdown = y\n",
    "    yFactorial = 1\n",
    "    \n",
    "    wIndex = 0\n",
    "    while countdown > 1:\n",
    "        yFactorial *= countdown\n",
    "        \n",
    "        ##### CHECKPOINT! #####\n",
    "        \n",
    "        countdown -= 1\n",
    "        wIndex += 1\n",
    "    \n",
    "    print(\"RESULT: %d! = %d\" % (y, yFactorial))"
   ]
  },
  {
   "cell_type": "code",
   "execution_count": 2,
   "metadata": {
    "collapsed": false
   },
   "outputs": [
    {
     "name": "stdout",
     "output_type": "stream",
     "text": [
      "fIndex y wIndex countdown yFactorial\n",
      "0      2      0         2          2\n",
      "1      3      0         3          3\n",
      "1      3      1         2          6\n",
      "2      4      0         4          4\n",
      "2      4      1         3         12\n",
      "2      4      2         2         24\n"
     ]
    }
   ],
   "source": [
    "# Question 3\n",
    "\n",
    "print(\"%s %s %s %s %s\" % (\"fIndex\", \"y\", \"wIndex\", \"countdown\", \"yFactorial\"))\n",
    "\n",
    "for fIndex, y in enumerate(range(2, 5)):\n",
    "    \n",
    "    countdown = y\n",
    "    yFactorial = 1\n",
    "    \n",
    "    wIndex = 0\n",
    "    while countdown > 1:\n",
    "        yFactorial *= countdown\n",
    "        \n",
    "        print(\"%-6i %1i %6i %9i %10i\" % (fIndex, y, wIndex, countdown, yFactorial))\n",
    "        \n",
    "        countdown -= 1\n",
    "        wIndex += 1\n",
    "    \n",
    "    #print \"RESULT: %d! = %d\" % (y, yFactorial)"
   ]
  },
  {
   "cell_type": "markdown",
   "metadata": {},
   "source": [
    "# Today\n",
    "\n",
    "* Sublists\n",
    "* nested lists\n",
    "* Functions (the most fun object in Python in my mind)\n",
    "* global vs local variables\n",
    "* docstrings"
   ]
  },
  {
   "cell_type": "markdown",
   "metadata": {},
   "source": [
    "## Extracting Sublists\n",
    "\n",
    "Sometimes we want to operate on only parts of lists.\n",
    "The syntax for this is particularly simple:"
   ]
  },
  {
   "cell_type": "code",
   "execution_count": 3,
   "metadata": {
    "collapsed": false
   },
   "outputs": [
    {
     "data": {
      "text/plain": [
       "[0, 1, 2, 3, 4, 5, 6, 7, 8, 9]"
      ]
     },
     "execution_count": 3,
     "metadata": {},
     "output_type": "execute_result"
    }
   ],
   "source": [
    "# create our favorite massRatios:\n",
    "massRatios = list(range(10))\n",
    "massRatios"
   ]
  },
  {
   "cell_type": "code",
   "execution_count": 6,
   "metadata": {
    "collapsed": false
   },
   "outputs": [
    {
     "data": {
      "text/plain": [
       "[2, 3, 4, 5, 6]"
      ]
     },
     "execution_count": 6,
     "metadata": {},
     "output_type": "execute_result"
    }
   ],
   "source": [
    "massRatios[2:7]"
   ]
  },
  {
   "cell_type": "markdown",
   "metadata": {},
   "source": [
    "This is called `slicing` and the 2 parameters required are separated by a colon `:`.\n",
    "\n",
    "Similar to the parameters for the `range()` function, the starting number is `inclusive` while the ending number is `exclusive`.\n",
    "\n",
    "When the 1st parameter is left out, the slice starts at the beginning of the list, when the last parameter is left out it goes until the end:"
   ]
  },
  {
   "cell_type": "code",
   "execution_count": 7,
   "metadata": {
    "collapsed": false
   },
   "outputs": [
    {
     "name": "stdout",
     "output_type": "stream",
     "text": [
      "[0, 1, 2, 3]\n",
      "[4, 5, 6, 7, 8, 9]\n"
     ]
    }
   ],
   "source": [
    "print(massRatios[:4])\n",
    "print(massRatios[4:])"
   ]
  },
  {
   "cell_type": "markdown",
   "metadata": {},
   "source": [
    "Note how in the first case, the length returned is the same as the value of the index you provide, thanks to 0-based indexing.\n",
    "\n",
    "Note, also, that thanks to the asymmetry of `inclusivity` for the start parameter vs `exclusivity` for the end parameter, you can use the same number twice to get both ends of a list, thisk creates easier to read code as well."
   ]
  },
  {
   "cell_type": "code",
   "execution_count": 8,
   "metadata": {
    "collapsed": false
   },
   "outputs": [
    {
     "name": "stdout",
     "output_type": "stream",
     "text": [
      "[0, 1, 2, 3, 4]\n",
      "[5, 6, 7, 8, 9]\n"
     ]
    }
   ],
   "source": [
    "i = 5\n",
    "print(massRatios[:i])\n",
    "print(massRatios[i:])"
   ]
  },
  {
   "cell_type": "markdown",
   "metadata": {},
   "source": [
    "## Nested lists\n",
    "\n",
    "Python allows for nesting lists. This allows for finer substructure of data storage.\n",
    "For example, storing vectors in a list:"
   ]
  },
  {
   "cell_type": "code",
   "execution_count": 9,
   "metadata": {
    "collapsed": true
   },
   "outputs": [],
   "source": [
    "v1 = [0,1,2]\n",
    "v2 = [7,8,9]"
   ]
  },
  {
   "cell_type": "code",
   "execution_count": 10,
   "metadata": {
    "collapsed": false
   },
   "outputs": [
    {
     "data": {
      "text/plain": [
       "[[0, 1, 2], [7, 8, 9]]"
      ]
     },
     "execution_count": 10,
     "metadata": {},
     "output_type": "execute_result"
    }
   ],
   "source": [
    "vectors = [v1, v2]\n",
    "vectors"
   ]
  },
  {
   "cell_type": "markdown",
   "metadata": {},
   "source": [
    "When accessing elements, you can also just nest the indexing:"
   ]
  },
  {
   "cell_type": "code",
   "execution_count": 11,
   "metadata": {
    "collapsed": false
   },
   "outputs": [
    {
     "data": {
      "text/plain": [
       "1"
      ]
     },
     "execution_count": 11,
     "metadata": {},
     "output_type": "execute_result"
    }
   ],
   "source": [
    "vectors[0][1]"
   ]
  },
  {
   "cell_type": "code",
   "execution_count": 12,
   "metadata": {
    "collapsed": false
   },
   "outputs": [
    {
     "data": {
      "text/plain": [
       "9"
      ]
     },
     "execution_count": 12,
     "metadata": {},
     "output_type": "execute_result"
    }
   ],
   "source": [
    "vectors[1][-1]"
   ]
  },
  {
   "cell_type": "markdown",
   "metadata": {},
   "source": [
    "## Functions"
   ]
  },
  {
   "cell_type": "raw",
   "metadata": {},
   "source": [
    "Functions are useful because they allow us to perform operations many times without\n",
    "repeating code snippets, keeping programs shorter, more managable, and more organized.\n",
    " \n",
    "We will start with the Planck function,"
   ]
  },
  {
   "cell_type": "markdown",
   "metadata": {},
   "source": [
    "$B_{\\lambda}(T) = \\frac{2 h c^2}{\\lambda^5 \\left[\\exp\\left(\\frac{h c}{\\lambda k T}\\right) - 1 \\right]}$"
   ]
  },
  {
   "cell_type": "markdown",
   "metadata": {},
   "source": [
    "where $h$ is Planck's constant, $c$ is the speed of light, \n",
    "$k$ is Boltzmann's constant, $T$ is the blackbody temperature, and\n",
    "$\\lambda$ is the wavelength."
   ]
  },
  {
   "cell_type": "code",
   "execution_count": 13,
   "metadata": {
    "collapsed": false
   },
   "outputs": [],
   "source": [
    "# First, define the physical constants:\n",
    "h = 6.626e-34  # J s, Planck's constant\n",
    "k = 1.38e-23   # J K^-1, Boltzmann constant\n",
    "c = 3.00e8     # m s^-1, speed of light\n",
    " \n",
    "# Conversion between angstroms and meters\n",
    "angPerM = 1e10\n",
    "    \n",
    "# The Planck function is a function of two variables;\n",
    "# for now, we'll set T = 5,800 K, the photospheric temperature of the Sun\n",
    "# and allow the wavelength to vary.\n",
    "temp = 5800.0  \n",
    "\n",
    "from math import exp\n",
    "\n",
    "# Define the function using def:\n",
    " \n",
    "def intensity1(waveAng):               # Function header\n",
    "    waveM = waveAng / angPerM    # Will convert Angstroms to meters\n",
    "    \n",
    "    B = 2 * h * c**2 / (waveM**5 * (exp(h * c / (waveM * k * temp)) - 1))\n",
    "    \n",
    "    return B\n",
    "\n",
    "# Units will be W / m^2 / m / ster"
   ]
  },
  {
   "cell_type": "raw",
   "metadata": {},
   "source": [
    "The above statement comprises the function body & return to the main program."
   ]
  },
  {
   "cell_type": "code",
   "execution_count": 16,
   "metadata": {
    "collapsed": false
   },
   "outputs": [
    {
     "name": "stdout",
     "output_type": "stream",
     "text": [
      "2.676462e+13\n"
     ]
    }
   ],
   "source": [
    "print('%e' % intensity1(5000.0))  # note the %e formatting string for exponent notation"
   ]
  },
  {
   "cell_type": "raw",
   "metadata": {},
   "source": [
    "Basic structure:\n",
    "\n",
    "def function_name(argument):\n",
    "    <do some stuff>\n",
    "    ...\n",
    "    \n",
    "    <return stuff>\n",
    "    \n",
    "Notice especially: def, colon, indent    \n",
    "Optional: argument (or \"input\": you'll hear people say both), return statement\n",
    "\n",
    "NOTE: Without a return statement, the function will still return None. More on None to come!"
   ]
  },
  {
   "cell_type": "code",
   "execution_count": 18,
   "metadata": {
    "collapsed": false
   },
   "outputs": [
    {
     "name": "stdout",
     "output_type": "stream",
     "text": [
      "Answer: 11\n",
      "y = 11\n"
     ]
    }
   ],
   "source": [
    "def funcNoReturn(x):\n",
    "    print(\"Answer:\", x + 5)\n",
    "    return x+5\n",
    "\n",
    "y = funcNoReturn(6)\n",
    "print(\"y =\", y)"
   ]
  },
  {
   "cell_type": "raw",
   "metadata": {},
   "source": [
    "Next we'll create a list of wavelengths at which to evaluate the Planck function:"
   ]
  },
  {
   "cell_type": "code",
   "execution_count": 19,
   "metadata": {
    "collapsed": false
   },
   "outputs": [],
   "source": [
    "waveList = [3000 + 100 * i for i in range(41)]"
   ]
  },
  {
   "cell_type": "markdown",
   "metadata": {},
   "source": [
    "#### Q. What did the above command do?"
   ]
  },
  {
   "cell_type": "code",
   "execution_count": 20,
   "metadata": {
    "collapsed": false
   },
   "outputs": [
    {
     "data": {
      "text/plain": [
       "[3000,\n",
       " 3100,\n",
       " 3200,\n",
       " 3300,\n",
       " 3400,\n",
       " 3500,\n",
       " 3600,\n",
       " 3700,\n",
       " 3800,\n",
       " 3900,\n",
       " 4000,\n",
       " 4100,\n",
       " 4200,\n",
       " 4300,\n",
       " 4400,\n",
       " 4500,\n",
       " 4600,\n",
       " 4700,\n",
       " 4800,\n",
       " 4900,\n",
       " 5000,\n",
       " 5100,\n",
       " 5200,\n",
       " 5300,\n",
       " 5400,\n",
       " 5500,\n",
       " 5600,\n",
       " 5700,\n",
       " 5800,\n",
       " 5900,\n",
       " 6000,\n",
       " 6100,\n",
       " 6200,\n",
       " 6300,\n",
       " 6400,\n",
       " 6500,\n",
       " 6600,\n",
       " 6700,\n",
       " 6800,\n",
       " 6900,\n",
       " 7000]"
      ]
     },
     "execution_count": 20,
     "metadata": {},
     "output_type": "execute_result"
    }
   ],
   "source": [
    "waveList"
   ]
  },
  {
   "cell_type": "raw",
   "metadata": {},
   "source": [
    "Now, we'll create an intensity list using another list comprehension:"
   ]
  },
  {
   "cell_type": "code",
   "execution_count": 22,
   "metadata": {
    "collapsed": false
   },
   "outputs": [
    {
     "data": {
      "text/plain": [
       "[12467562222465.664,\n",
       " 13822570363885.275,\n",
       " 15150103234939.592,\n",
       " 16435485924635.223,\n",
       " 17666286862798.945,\n",
       " 18832325062754.484,\n",
       " 19925592398349.105,\n",
       " 20940115580525.785,\n",
       " 21871778764398.547,\n",
       " 22718123815804.715,\n",
       " 23478141556576.08,\n",
       " 24152063991194.957,\n",
       " 24741164684060.684,\n",
       " 25247572123612.84,\n",
       " 25674099050299.133,\n",
       " 26024089289297.02,\n",
       " 26301282555334.36,\n",
       " 26509696923790.062,\n",
       " 26653528131078.855,\n",
       " 26737064526083.25,\n",
       " 26764616298487.527,\n",
       " 26740457522211.934,\n",
       " 26668779542671.52,\n",
       " 26553654281462.41,\n",
       " 26399006112811.066,\n",
       " 26208591068650.652,\n",
       " 25985982243070.82,\n",
       " 25734560384567.684,\n",
       " 25457508780698.863,\n",
       " 25157811650863.527,\n",
       " 24838255366738.516,\n",
       " 24501431915135.992,\n",
       " 24149744104143.562,\n",
       " 23785412090302.13,\n",
       " 23410480872544.707,\n",
       " 23026828458155.78,\n",
       " 22636174457744.527,\n",
       " 22240088910847.316,\n",
       " 21840001181999.707,\n",
       " 21437208799649.094,\n",
       " 21032886137786.3]"
      ]
     },
     "execution_count": 22,
     "metadata": {},
     "output_type": "execute_result"
    }
   ],
   "source": [
    "intensityList = [intensity1(wave) for wave in waveList]  \n",
    "intensityList"
   ]
  },
  {
   "cell_type": "markdown",
   "metadata": {},
   "source": [
    "#### Q. What should the output of \"intensityList\" be?"
   ]
  },
  {
   "cell_type": "raw",
   "metadata": {},
   "source": [
    "For a nice print-out, make use of a for loop and the range function:"
   ]
  },
  {
   "cell_type": "code",
   "execution_count": 23,
   "metadata": {
    "collapsed": false
   },
   "outputs": [
    {
     "name": "stdout",
     "output_type": "stream",
     "text": [
      "wavelength (Angstrom) = 3000      Intensity (W m^-3 ster^-1) = 1.25e+13\n",
      "wavelength (Angstrom) = 3100      Intensity (W m^-3 ster^-1) = 1.38e+13\n",
      "wavelength (Angstrom) = 3200      Intensity (W m^-3 ster^-1) = 1.52e+13\n",
      "wavelength (Angstrom) = 3300      Intensity (W m^-3 ster^-1) = 1.64e+13\n",
      "wavelength (Angstrom) = 3400      Intensity (W m^-3 ster^-1) = 1.77e+13\n",
      "wavelength (Angstrom) = 3500      Intensity (W m^-3 ster^-1) = 1.88e+13\n",
      "wavelength (Angstrom) = 3600      Intensity (W m^-3 ster^-1) = 1.99e+13\n",
      "wavelength (Angstrom) = 3700      Intensity (W m^-3 ster^-1) = 2.09e+13\n",
      "wavelength (Angstrom) = 3800      Intensity (W m^-3 ster^-1) = 2.19e+13\n",
      "wavelength (Angstrom) = 3900      Intensity (W m^-3 ster^-1) = 2.27e+13\n",
      "wavelength (Angstrom) = 4000      Intensity (W m^-3 ster^-1) = 2.35e+13\n",
      "wavelength (Angstrom) = 4100      Intensity (W m^-3 ster^-1) = 2.42e+13\n",
      "wavelength (Angstrom) = 4200      Intensity (W m^-3 ster^-1) = 2.47e+13\n",
      "wavelength (Angstrom) = 4300      Intensity (W m^-3 ster^-1) = 2.52e+13\n",
      "wavelength (Angstrom) = 4400      Intensity (W m^-3 ster^-1) = 2.57e+13\n",
      "wavelength (Angstrom) = 4500      Intensity (W m^-3 ster^-1) = 2.60e+13\n",
      "wavelength (Angstrom) = 4600      Intensity (W m^-3 ster^-1) = 2.63e+13\n",
      "wavelength (Angstrom) = 4700      Intensity (W m^-3 ster^-1) = 2.65e+13\n",
      "wavelength (Angstrom) = 4800      Intensity (W m^-3 ster^-1) = 2.67e+13\n",
      "wavelength (Angstrom) = 4900      Intensity (W m^-3 ster^-1) = 2.67e+13\n",
      "wavelength (Angstrom) = 5000      Intensity (W m^-3 ster^-1) = 2.68e+13\n",
      "wavelength (Angstrom) = 5100      Intensity (W m^-3 ster^-1) = 2.67e+13\n",
      "wavelength (Angstrom) = 5200      Intensity (W m^-3 ster^-1) = 2.67e+13\n",
      "wavelength (Angstrom) = 5300      Intensity (W m^-3 ster^-1) = 2.66e+13\n",
      "wavelength (Angstrom) = 5400      Intensity (W m^-3 ster^-1) = 2.64e+13\n",
      "wavelength (Angstrom) = 5500      Intensity (W m^-3 ster^-1) = 2.62e+13\n",
      "wavelength (Angstrom) = 5600      Intensity (W m^-3 ster^-1) = 2.60e+13\n",
      "wavelength (Angstrom) = 5700      Intensity (W m^-3 ster^-1) = 2.57e+13\n",
      "wavelength (Angstrom) = 5800      Intensity (W m^-3 ster^-1) = 2.55e+13\n",
      "wavelength (Angstrom) = 5900      Intensity (W m^-3 ster^-1) = 2.52e+13\n",
      "wavelength (Angstrom) = 6000      Intensity (W m^-3 ster^-1) = 2.48e+13\n",
      "wavelength (Angstrom) = 6100      Intensity (W m^-3 ster^-1) = 2.45e+13\n",
      "wavelength (Angstrom) = 6200      Intensity (W m^-3 ster^-1) = 2.41e+13\n",
      "wavelength (Angstrom) = 6300      Intensity (W m^-3 ster^-1) = 2.38e+13\n",
      "wavelength (Angstrom) = 6400      Intensity (W m^-3 ster^-1) = 2.34e+13\n",
      "wavelength (Angstrom) = 6500      Intensity (W m^-3 ster^-1) = 2.30e+13\n",
      "wavelength (Angstrom) = 6600      Intensity (W m^-3 ster^-1) = 2.26e+13\n",
      "wavelength (Angstrom) = 6700      Intensity (W m^-3 ster^-1) = 2.22e+13\n",
      "wavelength (Angstrom) = 6800      Intensity (W m^-3 ster^-1) = 2.18e+13\n",
      "wavelength (Angstrom) = 6900      Intensity (W m^-3 ster^-1) = 2.14e+13\n",
      "wavelength (Angstrom) = 7000      Intensity (W m^-3 ster^-1) = 2.10e+13\n"
     ]
    }
   ],
   "source": [
    "for index in range(len(waveList)):\n",
    "    print('wavelength (Angstrom) = {}      Intensity (W m^-3 ster^-1) = {:.2e}'\\\n",
    "          .format(waveList[index], intensityList[index]))"
   ]
  },
  {
   "cell_type": "markdown",
   "metadata": {},
   "source": [
    "#### Q. What will the output look like?"
   ]
  },
  {
   "cell_type": "markdown",
   "metadata": {},
   "source": [
    "### Local and Global variables"
   ]
  },
  {
   "cell_type": "raw",
   "metadata": {},
   "source": [
    "When I define a function in the following manner,"
   ]
  },
  {
   "cell_type": "code",
   "execution_count": 26,
   "metadata": {
    "collapsed": false
   },
   "outputs": [],
   "source": [
    "def intensity1(waveAng):                # Function header\n",
    "    waveM = waveAng / angPerM    # Will convert Angstroms to meters\n",
    "    \n",
    "    B = 2 * h * c**2 / (waveM**5 * (exp(h * c / (waveM * k * temp)) - 1))\n",
    "    \n",
    "    return B"
   ]
  },
  {
   "cell_type": "raw",
   "metadata": {},
   "source": [
    "B is a local variable -- it only exists in the function Intensity"
   ]
  },
  {
   "cell_type": "raw",
   "metadata": {},
   "source": [
    "So this fails:"
   ]
  },
  {
   "cell_type": "code",
   "execution_count": 25,
   "metadata": {
    "collapsed": false
   },
   "outputs": [
    {
     "ename": "NameError",
     "evalue": "name 'B' is not defined",
     "output_type": "error",
     "traceback": [
      "\u001b[0;31m---------------------------------------------------------------------------\u001b[0m",
      "\u001b[0;31mNameError\u001b[0m                                 Traceback (most recent call last)",
      "\u001b[0;32m<ipython-input-25-30cf3d7d133b>\u001b[0m in \u001b[0;36m<module>\u001b[0;34m()\u001b[0m\n\u001b[0;32m----> 1\u001b[0;31m \u001b[0mB\u001b[0m\u001b[0;34m\u001b[0m\u001b[0m\n\u001b[0m",
      "\u001b[0;31mNameError\u001b[0m: name 'B' is not defined"
     ]
    }
   ],
   "source": [
    "B"
   ]
  },
  {
   "cell_type": "raw",
   "metadata": {},
   "source": [
    "so does:"
   ]
  },
  {
   "cell_type": "code",
   "execution_count": 27,
   "metadata": {
    "collapsed": false
   },
   "outputs": [
    {
     "ename": "NameError",
     "evalue": "name 'waveM' is not defined",
     "output_type": "error",
     "traceback": [
      "\u001b[0;31m---------------------------------------------------------------------------\u001b[0m",
      "\u001b[0;31mNameError\u001b[0m                                 Traceback (most recent call last)",
      "\u001b[0;32m<ipython-input-27-65e6b9a18303>\u001b[0m in \u001b[0;36m<module>\u001b[0;34m()\u001b[0m\n\u001b[0;32m----> 1\u001b[0;31m \u001b[0mwaveM\u001b[0m\u001b[0;34m\u001b[0m\u001b[0m\n\u001b[0m",
      "\u001b[0;31mNameError\u001b[0m: name 'waveM' is not defined"
     ]
    }
   ],
   "source": [
    "waveM"
   ]
  },
  {
   "cell_type": "raw",
   "metadata": {},
   "source": [
    "In contrast, h, k, c, and temp are global variables (defined above) and can \n",
    "be accessed anywhere in the program or notebook.\n",
    "\n",
    "Notes on global and local variables:\n",
    "\n",
    "  * Avoid local and global variables with the same name. (Works, but can be confusing)\n",
    "  \n",
    "  * When there are variables of the same name, Python first looks for a local variable,\n",
    "    then a global variable, then a built-in function of that name.\n",
    "\n",
    "  * Avoid changing global variables in functions, although Python has a utility\n",
    "    for doing so:  the global function."
   ]
  },
  {
   "cell_type": "markdown",
   "metadata": {},
   "source": [
    "#### Q. What will this print?"
   ]
  },
  {
   "cell_type": "code",
   "execution_count": 34,
   "metadata": {
    "collapsed": false
   },
   "outputs": [
    {
     "data": {
      "text/plain": [
       "(16, 10)"
      ]
     },
     "execution_count": 34,
     "metadata": {},
     "output_type": "execute_result"
    }
   ],
   "source": [
    "g = 10\n",
    "\n",
    "def f(x):\n",
    "    g = 11\n",
    "    return x + g\n",
    "\n",
    "f(5), g"
   ]
  },
  {
   "cell_type": "raw",
   "metadata": {},
   "source": [
    "But:"
   ]
  },
  {
   "cell_type": "code",
   "execution_count": 37,
   "metadata": {
    "collapsed": false
   },
   "outputs": [
    {
     "data": {
      "text/plain": [
       "(16, 11)"
      ]
     },
     "execution_count": 37,
     "metadata": {},
     "output_type": "execute_result"
    }
   ],
   "source": [
    "g = 10\n",
    "\n",
    "def f(x):\n",
    "    global g       # Now \"g\" inside the function references the global variable\n",
    "    g = 11         # Give that variable a new value\n",
    "    return x + g\n",
    "\n",
    "f(5), g"
   ]
  },
  {
   "cell_type": "raw",
   "metadata": {},
   "source": [
    "Use of \"global\" is generally frowned upon (dangerous), but here it is for completeness."
   ]
  },
  {
   "cell_type": "markdown",
   "metadata": {},
   "source": [
    "### Functions with multiple arguments"
   ]
  },
  {
   "cell_type": "raw",
   "metadata": {},
   "source": [
    "The Planck function is a function of wavelength AND temperature."
   ]
  },
  {
   "cell_type": "code",
   "execution_count": 39,
   "metadata": {
    "collapsed": false
   },
   "outputs": [],
   "source": [
    "def intensity2(waveAng, temp):   # 2nd version of function Intensity\n",
    "    waveM = waveAng / angPerM\n",
    "    B = 2 * h * c**2 / (waveM**5 * (exp(h * c / (waveM * k * temp)) - 1))\n",
    "    return B"
   ]
  },
  {
   "cell_type": "code",
   "execution_count": 40,
   "metadata": {
    "collapsed": false
   },
   "outputs": [
    {
     "data": {
      "text/plain": [
       "26764616298487.527"
      ]
     },
     "execution_count": 40,
     "metadata": {},
     "output_type": "execute_result"
    }
   ],
   "source": [
    "intensity2(5000.0, 5800.0)"
   ]
  },
  {
   "cell_type": "raw",
   "metadata": {},
   "source": [
    "\"call sequence\" simple, nothing fancy! Just comma-separated values to supply multiple arguments."
   ]
  },
  {
   "cell_type": "raw",
   "metadata": {},
   "source": [
    "But, you could also call the function with names for arguments:"
   ]
  },
  {
   "cell_type": "code",
   "execution_count": 42,
   "metadata": {
    "collapsed": false
   },
   "outputs": [
    {
     "data": {
      "text/plain": [
       "26764616298487.527"
      ]
     },
     "execution_count": 42,
     "metadata": {},
     "output_type": "execute_result"
    }
   ],
   "source": [
    "intensity2(temp=5800.0, waveAng=5000.0)"
   ]
  },
  {
   "cell_type": "raw",
   "metadata": {},
   "source": [
    "or"
   ]
  },
  {
   "cell_type": "code",
   "execution_count": 43,
   "metadata": {
    "collapsed": false
   },
   "outputs": [
    {
     "data": {
      "text/plain": [
       "26764616298487.527"
      ]
     },
     "execution_count": 43,
     "metadata": {},
     "output_type": "execute_result"
    }
   ],
   "source": [
    "intensity2(waveAng=5000.0, temp=5800.0)"
   ]
  },
  {
   "cell_type": "markdown",
   "metadata": {},
   "source": [
    "#### Q. Will this work (produce the same result)? "
   ]
  },
  {
   "cell_type": "code",
   "execution_count": 44,
   "metadata": {
    "collapsed": false
   },
   "outputs": [
    {
     "data": {
      "text/plain": [
       "12742982172276.992"
      ]
     },
     "execution_count": 44,
     "metadata": {},
     "output_type": "execute_result"
    }
   ],
   "source": [
    "intensity2(5800.0, 5000.0)"
   ]
  },
  {
   "cell_type": "raw",
   "metadata": {},
   "source": [
    "Functions are useful beyond just evaluating equations.\n",
    "\n",
    "Here's another example (albeit another mathematical one).\n",
    "\n",
    "We needed a wavelength list for the previous example with the Planck function; \n",
    "let's write a function to make that for us."
   ]
  },
  {
   "cell_type": "code",
   "execution_count": 45,
   "metadata": {
    "collapsed": false
   },
   "outputs": [],
   "source": [
    "def waveListGen(minWave, maxWave, delta):\n",
    "    waveList = []\n",
    "    \n",
    "    wave = minWave\n",
    "    \n",
    "    while wave <= maxWave:\n",
    "        waveList.append(wave)\n",
    "        wave += delta\n",
    "    \n",
    "    return waveList"
   ]
  },
  {
   "cell_type": "markdown",
   "metadata": {},
   "source": [
    "#### Q. What will this do?"
   ]
  },
  {
   "cell_type": "code",
   "execution_count": 46,
   "metadata": {
    "collapsed": false
   },
   "outputs": [
    {
     "data": {
      "text/plain": [
       "[3000, 3200, 3400, 3600, 3800, 4000, 4200, 4400, 4600, 4800, 5000]"
      ]
     },
     "execution_count": 46,
     "metadata": {},
     "output_type": "execute_result"
    }
   ],
   "source": [
    "waveList = waveListGen(3000, 5000, 200)\n",
    "waveList"
   ]
  },
  {
   "cell_type": "raw",
   "metadata": {},
   "source": [
    "Note that the waveListGen function we just wrote is more flexible than our previous approach,\n",
    "\n",
    "wavelengthList = [3000.0 + 100.0 * i for i in range(41)]\n",
    "\n",
    "since we can easily modify the start, stop, and wavelength spacing.\n",
    "\n",
    "On the other hand, we could just use range:"
   ]
  },
  {
   "cell_type": "code",
   "execution_count": 47,
   "metadata": {
    "collapsed": false
   },
   "outputs": [
    {
     "data": {
      "text/plain": [
       "[3000, 3200, 3400, 3600, 3800, 4000, 4200, 4400, 4600, 4800, 5000]"
      ]
     },
     "execution_count": 47,
     "metadata": {},
     "output_type": "execute_result"
    }
   ],
   "source": [
    "list(range(3000, 5001, 200))"
   ]
  },
  {
   "cell_type": "markdown",
   "metadata": {},
   "source": [
    "### Functions with multiple return values"
   ]
  },
  {
   "cell_type": "raw",
   "metadata": {},
   "source": [
    "Given a wavelength, we can return the frequency and the\n",
    "value of the Planck function at that frequency:"
   ]
  },
  {
   "cell_type": "code",
   "execution_count": 49,
   "metadata": {
    "collapsed": false
   },
   "outputs": [],
   "source": [
    "# (Defined h, c, k above and imported math)\n",
    "\n",
    "def intensity3(waveAng, temp):   # 3rd version of function Intensity\n",
    "    waveM = waveAng / angPerM\n",
    "    \n",
    "    B = 2 * h * c**2 / (waveM**5 * (exp(h * c / (waveM * k * temp)) - 1))\n",
    "    \n",
    "    return (waveAng, B)"
   ]
  },
  {
   "cell_type": "code",
   "execution_count": 50,
   "metadata": {
    "collapsed": false
   },
   "outputs": [
    {
     "data": {
      "text/plain": [
       "(6000.0, 152903075323564.03)"
      ]
     },
     "execution_count": 50,
     "metadata": {},
     "output_type": "execute_result"
    }
   ],
   "source": [
    "temp = 10000.0  # Hot A star or cool B star; brighter than a G star\n",
    "\n",
    "waveAng, intensity = intensity3(6000.0, temp=temp)\n",
    "waveAng, intensity   # notice the automatic packing of Python again"
   ]
  },
  {
   "cell_type": "raw",
   "metadata": {},
   "source": [
    "There must be two variables on the left-hand side of the assignment operator since\n",
    "the function will return two variables, or else if there is only only variable it\n",
    "will contain both values as a tuple (see cell below).\n",
    "\n",
    "This is yet another instance of \"unpacking,\" which we saw while using the \"enumerate\" \n",
    "function, and when working with tuples."
   ]
  },
  {
   "cell_type": "code",
   "execution_count": 51,
   "metadata": {
    "collapsed": false
   },
   "outputs": [
    {
     "name": "stdout",
     "output_type": "stream",
     "text": [
      "(6000.0, 152903075323564.03)\n"
     ]
    },
    {
     "data": {
      "text/plain": [
       "tuple"
      ]
     },
     "execution_count": 51,
     "metadata": {},
     "output_type": "execute_result"
    }
   ],
   "source": [
    "result = intensity3(6000.0, 10000.0)\n",
    "\n",
    "print(result)\n",
    "type(result)"
   ]
  },
  {
   "cell_type": "raw",
   "metadata": {},
   "source": [
    "We've already seen how to make nice table outputs, so let's do it here:"
   ]
  },
  {
   "cell_type": "code",
   "execution_count": 67,
   "metadata": {
    "collapsed": false
   },
   "outputs": [
    {
     "name": "stdout",
     "output_type": "stream",
     "text": [
      "Wavelength (Angstroms) = 3000       Intensity (W m^-3 ster^-1) = 4.07e+14\n",
      "Wavelength (Angstroms) = 3100       Intensity (W m^-3 ster^-1) = 4.04e+14\n",
      "Wavelength (Angstroms) = 3200       Intensity (W m^-3 ster^-1) = 3.99e+14\n",
      "Wavelength (Angstroms) = 3300       Intensity (W m^-3 ster^-1) = 3.92e+14\n",
      "Wavelength (Angstroms) = 3400       Intensity (W m^-3 ster^-1) = 3.85e+14\n",
      "Wavelength (Angstroms) = 3500       Intensity (W m^-3 ster^-1) = 3.77e+14\n",
      "Wavelength (Angstroms) = 3600       Intensity (W m^-3 ster^-1) = 3.68e+14\n",
      "Wavelength (Angstroms) = 3700       Intensity (W m^-3 ster^-1) = 3.58e+14\n",
      "Wavelength (Angstroms) = 3800       Intensity (W m^-3 ster^-1) = 3.48e+14\n",
      "Wavelength (Angstroms) = 3900       Intensity (W m^-3 ster^-1) = 3.37e+14\n",
      "Wavelength (Angstroms) = 4000       Intensity (W m^-3 ster^-1) = 3.27e+14\n"
     ]
    }
   ],
   "source": [
    "for wave in waveListGen(3e3, 4e3, 100):\n",
    "    print('Wavelength (Angstroms) = %-10i Intensity (W m^-3 ster^-1) = %.2e'\\\n",
    "          % intensity3(wave, 1e4))"
   ]
  },
  {
   "cell_type": "raw",
   "metadata": {},
   "source": [
    "The %-10i prints real numbers with ten spaces, left justified.\n",
    "By default (i.e., no minus sign), columns are right justified."
   ]
  },
  {
   "cell_type": "raw",
   "metadata": {},
   "source": [
    "Notice how compact that for loop is!\n",
    "\n",
    "We initialized the list of wavelengths right in the for loop, then, passed the \n",
    "results of the calculation (using the function Intensity3) directly to string formatting.\n",
    "This is possible because the Intensity3 returns a tuple!"
   ]
  },
  {
   "cell_type": "markdown",
   "metadata": {},
   "source": [
    "# Doc Strings:"
   ]
  },
  {
   "cell_type": "markdown",
   "metadata": {},
   "source": [
    "Doc strings are used to document functions.  They generally include:\n",
    "\n",
    "* A description of the functionality of the function\n",
    "\n",
    "* A list of arguments\n",
    "\n",
    "* A description of outputs (returned values)\n",
    "\n",
    "And, they serve as the help documentation!\n",
    "\n",
    "They go right after the function header and are enclosed within triple quotes."
   ]
  },
  {
   "cell_type": "code",
   "execution_count": 52,
   "metadata": {
    "collapsed": false
   },
   "outputs": [],
   "source": [
    "def force(mass1, mass2, radius):\n",
    "    \"\"\"\n",
    "    Compute the gravitational force between two bodies.\n",
    "    \n",
    "    Parameters\n",
    "    ----------\n",
    "    mass1 : int, float\n",
    "        Mass of the first body, in kilograms.\n",
    "    mass2 : int, float\n",
    "        Mass of the second body, in kilograms.\n",
    "    radius : int, float\n",
    "        Separation of the bodies, in meters.\n",
    "\n",
    "    Example\n",
    "    -------\n",
    "    To compute force between Earth and the Sun:\n",
    "    >>> F = force(5.97e24, 1.99e30, 1.5e11)\n",
    "\n",
    "    Returns\n",
    "    -------\n",
    "    Force in Newtons : float\n",
    "    \"\"\"\n",
    "    G = 6.67e-11\n",
    "    \n",
    "    return G * mass1 * mass2 / radius**2"
   ]
  },
  {
   "cell_type": "code",
   "execution_count": 53,
   "metadata": {
    "collapsed": false
   },
   "outputs": [
    {
     "data": {
      "text/plain": [
       "3.539546666666667e+22"
      ]
     },
     "execution_count": 53,
     "metadata": {},
     "output_type": "execute_result"
    }
   ],
   "source": [
    "result = force(5.97e24, 2.00e30, 1.5e11)\n",
    "result"
   ]
  },
  {
   "cell_type": "code",
   "execution_count": 54,
   "metadata": {
    "collapsed": false
   },
   "outputs": [
    {
     "name": "stdout",
     "output_type": "stream",
     "text": [
      "Help on function force in module __main__:\n",
      "\n",
      "force(mass1, mass2, radius)\n",
      "    Compute the gravitational force between two bodies.\n",
      "    \n",
      "    Parameters\n",
      "    ----------\n",
      "    mass1 : int, float\n",
      "        Mass of the first body, in kilograms.\n",
      "    mass2 : int, float\n",
      "        Mass of the second body, in kilograms.\n",
      "    radius : int, float\n",
      "        Separation of the bodies, in meters.\n",
      "    \n",
      "    Example\n",
      "    -------\n",
      "    To compute force between Earth and the Sun:\n",
      "    >>> F = force(5.97e24, 1.99e30, 1.5e11)\n",
      "    \n",
      "    Returns\n",
      "    -------\n",
      "    Force in Newtons : float\n",
      "\n"
     ]
    }
   ],
   "source": [
    "# To see the documentation for a function, use help:\n",
    "\n",
    "help(force)"
   ]
  },
  {
   "cell_type": "markdown",
   "metadata": {},
   "source": [
    "or with the subwindow:"
   ]
  },
  {
   "cell_type": "code",
   "execution_count": 55,
   "metadata": {
    "collapsed": true
   },
   "outputs": [],
   "source": [
    "force?"
   ]
  },
  {
   "cell_type": "markdown",
   "metadata": {},
   "source": [
    "## Some important functionality review"
   ]
  },
  {
   "cell_type": "code",
   "execution_count": 73,
   "metadata": {
    "collapsed": false
   },
   "outputs": [],
   "source": [
    "# a = []          initialize an empty list\n",
    "# a = [1., 2]     initialize a list\n",
    "# a.append(elem)  add the elem object to the end of the list\n",
    "# a + [5, 4]      concatenate (join) two lists\n",
    "# a.insert(i, e)  insert element e at index i\n",
    "# a[5]            acess the value of the element at index 5\n",
    "# a[-1]           get the last list element value\n",
    "# a[4:7]          slice list a\n",
    "# del a[i]        delete list element with index i\n",
    "# a.remove(e)     remove list element with value e (not index e)\n",
    "# a.index('test') find the index where the element has the value 'test'\n",
    "# 4 in a          find out whether 4 is in a\n",
    "# a.count(4)      count how many times 4 is in a\n",
    "# len(a)          return the number of elements in a\n",
    "# min(a)          return the smallest element in a\n",
    "# max(a)          return the largest element in a\n",
    "# sum(a)          add all the elements in a\n",
    "# sorted(a)       return a sorted version of list a\n",
    "# reversed(a)     return a reversed version of list a\n",
    "# a[1][0][4]      nested list indexing (3 dimensional list in this case)"
   ]
  }
 ],
 "metadata": {
  "kernelspec": {
   "display_name": "Python3 (stable)",
   "language": "python",
   "name": "stable"
  },
  "language_info": {
   "codemirror_mode": {
    "name": "ipython",
    "version": 3
   },
   "file_extension": ".py",
   "mimetype": "text/x-python",
   "name": "python",
   "nbconvert_exporter": "python",
   "pygments_lexer": "ipython3",
   "version": "3.5.1"
  },
  "widgets": {
   "state": {},
   "version": "1.1.1"
  }
 },
 "nbformat": 4,
 "nbformat_minor": 0
}
