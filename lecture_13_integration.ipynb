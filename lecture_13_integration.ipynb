{
 "cells": [
  {
   "cell_type": "markdown",
   "metadata": {},
   "source": [
    "### Review of Numerical Differentiation"
   ]
  },
  {
   "cell_type": "markdown",
   "metadata": {},
   "source": [
    "#### Q. What orders are the errors?"
   ]
  },
  {
   "cell_type": "code",
   "execution_count": null,
   "metadata": {
    "collapsed": false
   },
   "outputs": [],
   "source": [
    "def forward_difference(f, x, h):\n",
    "    return (f(x + h) - f(x)) / h\n",
    "\n",
    "def central_difference(f, x, h):\n",
    "    return (f(x + h) - f(x - h)) / (2. * h)"
   ]
  },
  {
   "cell_type": "markdown",
   "metadata": {},
   "source": [
    "# Integration:  Chalk Board"
   ]
  },
  {
   "cell_type": "markdown",
   "metadata": {},
   "source": [
    "## Numerical Integration"
   ]
  },
  {
   "cell_type": "raw",
   "metadata": {},
   "source": [
    "Trapezoidal integration based on our notes:"
   ]
  },
  {
   "cell_type": "code",
   "execution_count": 2,
   "metadata": {
    "collapsed": false
   },
   "outputs": [],
   "source": [
    "def trapezoidal(f, x_L, x_U, n):\n",
    "    \"\"\"\n",
    "    Integrate function f from x_L to x_U using n points.\n",
    "    \"\"\"\n",
    "    \n",
    "    # Step size (or grid spacing):\n",
    "    h = (x_U - x_L) / float(n)  # h is dx in our notes\n",
    "    \n",
    "    # Include start and end points in summation\n",
    "    tot = f(x_L) + f(x_U)  \n",
    "\n",
    "    # Loop over all the trapezoids:\n",
    "    # We don't include k = 0 (x = x_L) or k = n-1 (x = x_U) because\n",
    "    # they're included in the sum before the loop.\n",
    "    for k in range(1, n, 1):  \n",
    "        x = x_L + (k * h)\n",
    "        tot += 2. * f(x)\n",
    "\n",
    "    tot *= h/2.\n",
    "    return tot"
   ]
  },
  {
   "cell_type": "code",
   "execution_count": 3,
   "metadata": {
    "collapsed": false
   },
   "outputs": [],
   "source": [
    "%matplotlib inline"
   ]
  },
  {
   "cell_type": "code",
   "execution_count": 4,
   "metadata": {
    "collapsed": false
   },
   "outputs": [],
   "source": [
    "import numpy as np\n",
    "import matplotlib.pyplot as pl"
   ]
  },
  {
   "cell_type": "markdown",
   "metadata": {},
   "source": [
    "Test case: \n",
    "\n",
    "$$g(x) = \\tau A \\cos(\\tau x)$$\n",
    "\n",
    "with $\\tau=2\\pi$"
   ]
  },
  {
   "cell_type": "code",
   "execution_count": 7,
   "metadata": {
    "collapsed": false
   },
   "outputs": [],
   "source": [
    "tau= 2*np.pi\n",
    "g = lambda x, A=1: tau*A*np.cos(tau*x)"
   ]
  },
  {
   "cell_type": "code",
   "execution_count": 8,
   "metadata": {
    "collapsed": false
   },
   "outputs": [
    {
     "data": {
      "text/plain": [
       "<matplotlib.text.Text at 0x1187143c8>"
      ]
     },
     "execution_count": 8,
     "metadata": {},
     "output_type": "execute_result"
    },
    {
     "data": {
      "image/png": "[encoded data removed]",
      "text/plain": [
       "<matplotlib.figure.Figure at 0x1180e14e0>"
      ]
     },
     "metadata": {},
     "output_type": "display_data"
    }
   ],
   "source": [
    "x = np.linspace(0, 2, 100)\n",
    "\n",
    "pl.plot(x, g(x), color='k')\n",
    "pl.xlabel('x')\n",
    "pl.ylabel('g(x)')"
   ]
  },
  {
   "cell_type": "markdown",
   "metadata": {},
   "source": [
    "#### Q. What should we get if we integrate from 0 to 1?"
   ]
  },
  {
   "cell_type": "raw",
   "metadata": {},
   "source": [
    "\n",
    "\n",
    "\n",
    "\n",
    "\n",
    "\n",
    "\n",
    "\n",
    "\n",
    "\n",
    "\n",
    "\n",
    "\n",
    "\n",
    "\n",
    "\n"
   ]
  },
  {
   "cell_type": "markdown",
   "metadata": {},
   "source": [
    "We can verify this analytically:\n",
    "\n",
    "$\\int_{x_i}^{x_f} g(x) dx = \\tau A \\int_{x_i}^{x_f} \\cos(\\tau x) dx $\n",
    "\n",
    "Substitute $u = \\tau x$, in which case $du = \\tau dx$,\n",
    "\n",
    "$$ \\int_{x_i}^{x_f} g(x) dx = A \\int_{\\tau x_i}^{\\tau x_f} \\cos(u) du$$\n",
    "\n",
    "Finally,\n",
    "\n",
    "$$ \\int_{x_i}^{x_f} g(x) dx = A \\left[\\sin(u) \\right]_{\\tau x_i}^{\\tau x_f} du = A \\left[\\sin(\\tau x_f) - sin(\\tau x_i) \\right]$$\n",
    "\n",
    "For $x_i = 0$, $x_f = 1$,\n",
    "\n",
    "$$ \\int_0^1 g(x) dx = A \\left[\\sin(\\tau) - sin(0) \\right] = 0$$"
   ]
  },
  {
   "cell_type": "raw",
   "metadata": {},
   "source": [
    "Now, in Python:"
   ]
  },
  {
   "cell_type": "code",
   "execution_count": 9,
   "metadata": {
    "collapsed": false
   },
   "outputs": [],
   "source": [
    "from math import sin, pi\n",
    "\n",
    "int_analytic = lambda A, x_i, x_f:  A * (sin(tau*x_f) - sin(tau*x_i))"
   ]
  },
  {
   "cell_type": "code",
   "execution_count": 13,
   "metadata": {
    "collapsed": false
   },
   "outputs": [
    {
     "name": "stdout",
     "output_type": "stream",
     "text": [
      "Integral of g(x) from x_i=0 to x_f=0.2 is 0.951057 \n"
     ]
    }
   ],
   "source": [
    "print('Integral of g(x) from x_i=%g to x_f=%g is %g ' \\\n",
    "    % (0., 0.2, int_analytic(1., 0., 0.2)))"
   ]
  },
  {
   "cell_type": "raw",
   "metadata": {},
   "source": [
    "Now, let's calculate integral using the trapezoidal rule:"
   ]
  },
  {
   "cell_type": "code",
   "execution_count": 14,
   "metadata": {
    "collapsed": false
   },
   "outputs": [
    {
     "name": "stdout",
     "output_type": "stream",
     "text": [
      "Approximate integral is 0.946045\n"
     ]
    }
   ],
   "source": [
    "x_L = 0.\n",
    "x_U = 0.2\n",
    "n = 5\n",
    "print('Approximate integral is %g' % trapezoidal(g, x_L, x_U, n))"
   ]
  },
  {
   "cell_type": "markdown",
   "metadata": {},
   "source": [
    "How about from $x_i=0$ to $x_f=0.2$?"
   ]
  },
  {
   "cell_type": "markdown",
   "metadata": {},
   "source": [
    "#### Q. Before we do this, do you expect the trapezoidal sum version of the integral to be an overestimate or an underestimate? Hint: see figure below."
   ]
  },
  {
   "cell_type": "code",
   "execution_count": 15,
   "metadata": {
    "collapsed": false
   },
   "outputs": [
    {
     "data": {
      "text/plain": [
       "(0, 0.2)"
      ]
     },
     "execution_count": 15,
     "metadata": {},
     "output_type": "execute_result"
    },
    {
     "data": {
      "image/png": "[encoded data removed]",
      "text/plain": [
       "<matplotlib.figure.Figure at 0x1186a92e8>"
      ]
     },
     "metadata": {},
     "output_type": "display_data"
    }
   ],
   "source": [
    "A = 1.0\n",
    "pl.figure()\n",
    "pl.plot(x, g(x, A=A), color='k')\n",
    "pl.xlabel('x')\n",
    "pl.ylabel('g(x)')\n",
    "pl.xlim(0, 0.2)"
   ]
  },
  {
   "cell_type": "code",
   "execution_count": 16,
   "metadata": {
    "collapsed": false
   },
   "outputs": [
    {
     "name": "stdout",
     "output_type": "stream",
     "text": [
      "Analytic integral is 0.951057\n",
      "Approximate integral is 0.946045\n"
     ]
    }
   ],
   "source": [
    "print('Analytic integral is %g' % int_analytic(A, 0.0, 0.2))\n",
    "print('Approximate integral is %g' \\\n",
    "    % trapezoidal(lambda x: g(x, A=A), 0.0, 0.2, 5))"
   ]
  },
  {
   "cell_type": "markdown",
   "metadata": {},
   "source": [
    "#### Q. How can we improve the accuracy of this numerical integral?"
   ]
  },
  {
   "cell_type": "raw",
   "metadata": {},
   "source": [
    "\n",
    "\n",
    "\n",
    "\n",
    "\n",
    "\n",
    "\n",
    "\n",
    "\n",
    "\n",
    "\n",
    "\n",
    "\n"
   ]
  },
  {
   "cell_type": "raw",
   "metadata": {},
   "source": [
    "Plot error as a function of n up to n = 100"
   ]
  },
  {
   "cell_type": "code",
   "execution_count": 17,
   "metadata": {
    "collapsed": false,
    "scrolled": true
   },
   "outputs": [
    {
     "data": {
      "text/plain": [
       "<matplotlib.text.Text at 0x118a0c9e8>"
      ]
     },
     "execution_count": 17,
     "metadata": {},
     "output_type": "execute_result"
    },
    {
     "data": {
      "image/png": "[encoded data removed]",
      "text/plain": [
       "<matplotlib.figure.Figure at 0x118721630>"
      ]
     },
     "metadata": {},
     "output_type": "display_data"
    }
   ],
   "source": [
    "n = 100        # Max number of grid points\n",
    "\n",
    "x_L = 0.0      # limits of integration\n",
    "x_U = 0.2\n",
    "\n",
    "# Grid point and integral approximation arrays\n",
    "n_grid = np.arange(1, n)  # Starts with 1:  need at least one trapezoid.\n",
    "approx = np.zeros(n-1)\n",
    "\n",
    "# Loop over all n starting with n = 1 (n_grid[0] = 1):\n",
    "for i in range(n-1):\n",
    "    integral = trapezoidal(g, x_L, x_U, n_grid[i])\n",
    "    approx[i] = integral\n",
    "\n",
    "# Compute relative error in percent\n",
    "error = 100 * (approx - int_analytic(1., x_L, x_U)) / int_analytic(1., x_L, x_U)\n",
    "\n",
    "# Plot results\n",
    "pl.figure()\n",
    "pl.plot(n_grid, error)\n",
    "pl.xlabel('Number of Grid Points')\n",
    "pl.ylabel('Percent Error')"
   ]
  },
  {
   "cell_type": "markdown",
   "metadata": {},
   "source": [
    "#### Q. How many grid points do you expect to reach 1% accuracy?"
   ]
  },
  {
   "cell_type": "markdown",
   "metadata": {},
   "source": [
    "#### Q. 1% accuracy? 0.1%?"
   ]
  },
  {
   "cell_type": "raw",
   "metadata": {},
   "source": [
    "\n",
    "\n",
    "\n",
    "\n",
    "\n",
    "\n",
    "\n",
    "\n",
    "\n",
    "\n",
    "\n"
   ]
  },
  {
   "cell_type": "markdown",
   "metadata": {},
   "source": [
    "#### Expanding the y-axis using logarithm"
   ]
  },
  {
   "cell_type": "code",
   "execution_count": 18,
   "metadata": {
    "collapsed": false,
    "scrolled": true
   },
   "outputs": [
    {
     "data": {
      "text/plain": [
       "<matplotlib.lines.Line2D at 0x118c05c88>"
      ]
     },
     "execution_count": 18,
     "metadata": {},
     "output_type": "execute_result"
    },
    {
     "data": {
      "image/png": "[encoded data removed]",
      "text/plain": [
       "<matplotlib.figure.Figure at 0x11871e9b0>"
      ]
     },
     "metadata": {},
     "output_type": "display_data"
    }
   ],
   "source": [
    "error_abs = np.abs(error)  # absolute value of the error\n",
    "\n",
    "pl.semilogy(n_grid, error_abs) \n",
    "pl.xlabel('Number of Grid Points')\n",
    "pl.ylabel('Percent Relative Error')\n",
    "\n",
    "# Plot straight lines corresponding to 1% and 10% error\n",
    "pl.axhline(y=1, color='k', ls='--')\n",
    "pl.axhline(y=1e-1, color='k', ls=':')\n",
    "pl.axhline(y=1e-2, color='k', ls='-.')"
   ]
  },
  {
   "cell_type": "markdown",
   "metadata": {},
   "source": [
    "#### Q. How could we find the number of grid points required to achieve 0.01% accuracy more precisely than the visual approach above?"
   ]
  },
  {
   "cell_type": "raw",
   "metadata": {},
   "source": [
    "\n",
    "\n",
    "\n",
    "\n",
    "\n",
    "\n",
    "\n",
    "\n",
    "\n",
    "\n",
    "\n"
   ]
  },
  {
   "cell_type": "code",
   "execution_count": 19,
   "metadata": {
    "collapsed": false
   },
   "outputs": [
    {
     "name": "stdout",
     "output_type": "stream",
     "text": [
      "0.000154120202821\n"
     ]
    },
    {
     "data": {
      "text/plain": [
       "[<matplotlib.lines.Line2D at 0x1193be320>]"
      ]
     },
     "execution_count": 19,
     "metadata": {},
     "output_type": "execute_result"
    },
    {
     "data": {
      "image/png": "[encoded data removed]",
      "text/plain": [
       "<matplotlib.figure.Figure at 0x1188169b0>"
      ]
     },
     "metadata": {},
     "output_type": "display_data"
    }
   ],
   "source": [
    "# location of point closest to 0.01% error\n",
    "i = np.abs(error_abs - 0.01).argmin() # This yields the index of the point\n",
    "print(np.abs(error_abs - 0.01).min()) # This prints the point closest to 0.01%.\n",
    "pl.semilogy(np.abs(error_abs - 0.01))"
   ]
  },
  {
   "cell_type": "code",
   "execution_count": 20,
   "metadata": {
    "collapsed": false
   },
   "outputs": [
    {
     "name": "stdout",
     "output_type": "stream",
     "text": [
      "35 36 0.0101541202028\n"
     ]
    }
   ],
   "source": [
    "print(i, n_grid[i], error_abs[i])"
   ]
  },
  {
   "cell_type": "markdown",
   "metadata": {},
   "source": [
    "#### Q. Are there any downsides to letting n be very large?"
   ]
  },
  {
   "cell_type": "code",
   "execution_count": null,
   "metadata": {
    "collapsed": false
   },
   "outputs": [],
   "source": []
  }
 ],
 "metadata": {
  "kernelspec": {
   "display_name": "Python 3",
   "language": "python",
   "name": "python3"
  },
  "language_info": {
   "codemirror_mode": {
    "name": "ipython",
    "version": 3
   },
   "file_extension": ".py",
   "mimetype": "text/x-python",
   "name": "python",
   "nbconvert_exporter": "python",
   "pygments_lexer": "ipython3",
   "version": "3.5.1"
  }
 },
 "nbformat": 4,
 "nbformat_minor": 0
}
