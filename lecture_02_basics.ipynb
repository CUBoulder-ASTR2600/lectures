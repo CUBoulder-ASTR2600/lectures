{
 "cells": [
  {
   "cell_type": "markdown",
   "metadata": {},
   "source": [
    "### Saving your iPython notebook"
   ]
  },
  {
   "cell_type": "markdown",
   "metadata": {},
   "source": [
    "> File -> Save and Checkpoint\n",
    "\n",
    "Can change the name also in that menu. But also possible via clicking the name above.\n",
    "\n",
    "Talk about command mode and edit mode of cells. And the help window."
   ]
  },
  {
   "cell_type": "markdown",
   "metadata": {},
   "source": [
    "### Data Types:  Integers vs. Floats"
   ]
  },
  {
   "cell_type": "code",
   "execution_count": 35,
   "metadata": {
    "collapsed": false
   },
   "outputs": [
    {
     "data": {
      "text/plain": [
       "3.3333333333333335"
      ]
     },
     "execution_count": 35,
     "metadata": {},
     "output_type": "execute_result"
    }
   ],
   "source": [
    "10 / 3 # We provide integers\n",
    "\n",
    "#  What will the output be?"
   ]
  },
  {
   "cell_type": "markdown",
   "metadata": {},
   "source": [
    "A float. \n",
    "Note, that Python just automatically converts the result of division to floats, to be more correct.\n",
    "\n",
    "Those kind of automatic data type changes were a problem in the old times, which is why older systems would rather insist on returning the same kind of data type as the user provided.\n",
    "These days, the focus has shifted on rather doing the math correct and let the system deal with the overhead for this implicit data type change."
   ]
  },
  {
   "cell_type": "code",
   "execution_count": 36,
   "metadata": {
    "collapsed": false
   },
   "outputs": [
    {
     "data": {
      "text/plain": [
       "2.1"
      ]
     },
     "execution_count": 36,
     "metadata": {},
     "output_type": "execute_result"
    }
   ],
   "source": [
    "1 / 10 + 2.0  # all fine here as well"
   ]
  },
  {
   "cell_type": "code",
   "execution_count": 39,
   "metadata": {
    "collapsed": false
   },
   "outputs": [
    {
     "data": {
      "text/plain": [
       "2.0"
      ]
     },
     "execution_count": 39,
     "metadata": {},
     "output_type": "execute_result"
    }
   ],
   "source": [
    "4 / 2 # even so, mathematically not required, Python returns a float here as well."
   ]
  },
  {
   "cell_type": "code",
   "execution_count": 40,
   "metadata": {
    "collapsed": false
   },
   "outputs": [
    {
     "data": {
      "text/plain": [
       "2"
      ]
     },
     "execution_count": 40,
     "metadata": {},
     "output_type": "execute_result"
    }
   ],
   "source": [
    "4 // 2   # But if you need an integer to be returned, force it with //"
   ]
  },
  {
   "cell_type": "markdown",
   "metadata": {},
   "source": [
    "The reason why this automatic type conversion is even possible within Python is because it is a so called \"dynamically typed\" programming languages.\n",
    "\n",
    "As opposed to \"statically typed\" ones like C(++) and Java.\n",
    "\n",
    "Meaning, in Python this is possible:"
   ]
  },
  {
   "cell_type": "code",
   "execution_count": 41,
   "metadata": {
    "collapsed": false
   },
   "outputs": [
    {
     "data": {
      "text/plain": [
       "5"
      ]
     },
     "execution_count": 41,
     "metadata": {},
     "output_type": "execute_result"
    }
   ],
   "source": [
    "a = 5\n",
    "a"
   ]
  },
  {
   "cell_type": "code",
   "execution_count": 42,
   "metadata": {
    "collapsed": false
   },
   "outputs": [
    {
     "data": {
      "text/plain": [
       "'astring'"
      ]
     },
     "execution_count": 42,
     "metadata": {},
     "output_type": "execute_result"
    }
   ],
   "source": [
    "a = 'astring'\n",
    "a"
   ]
  },
  {
   "cell_type": "markdown",
   "metadata": {},
   "source": [
    "I just changed the datatype of `a` without deleting it first. It was just changed to whatever I need it to be.\n",
    "\n",
    "# But remember:"
   ]
  },
  {
   "cell_type": "code",
   "execution_count": 43,
   "metadata": {
    "collapsed": false
   },
   "outputs": [
    {
     "data": {
      "image/jpeg": "[encoded data removed]",
      "text/html": [
       "\n",
       "        <iframe\n",
       "            width=\"400\"\n",
       "            height=\"300\"\n",
       "            src=\"https://www.youtube.com/embed/b23wrRfy7SM\"\n",
       "            frameborder=\"0\"\n",
       "            allowfullscreen\n",
       "        ></iframe>\n",
       "        "
      ],
      "text/plain": [
       "<IPython.lib.display.YouTubeVideo at 0x115c47908>"
      ]
     },
     "execution_count": 43,
     "metadata": {},
     "output_type": "execute_result"
    }
   ],
   "source": [
    "from IPython.display import YouTubeVideo\n",
    "YouTubeVideo('b23wrRfy7SM')"
   ]
  },
  {
   "cell_type": "markdown",
   "metadata": {},
   "source": [
    "(read [here](http://nbviewer.jupyter.org/github/ipython/ipython/blob/1.x/examples/notebooks/Part%205%20-%20Rich%20Display%20System.ipynb), if you are interested in all the multi-media display capabilities of the Jupyter notebook.)\n",
    "\n",
    "### A note about names and values"
   ]
  },
  {
   "cell_type": "code",
   "execution_count": 53,
   "metadata": {
    "collapsed": false
   },
   "outputs": [
    {
     "data": {
      "text/plain": [
       "20"
      ]
     },
     "execution_count": 53,
     "metadata": {},
     "output_type": "execute_result"
    }
   ],
   "source": [
    "x = 10\n",
    "y = 2 * x\n",
    "x = 25\n",
    "\n",
    "y\n",
    "\n",
    "#  What is the value of y? If you are surprised, please discuss it."
   ]
  },
  {
   "cell_type": "markdown",
   "metadata": {},
   "source": [
    "Nice (lengthy / thorough) discussion of this:\n",
    "\n",
    "http://nedbatchelder.com/text/names.html\n",
    "\n",
    "*We haven't yet covered some of the concepts that appear in this blog post so don't panic if something looks unfamiliar.*"
   ]
  },
  {
   "cell_type": "markdown",
   "metadata": {},
   "source": [
    "## Today: More practice with IPython & a simple formula"
   ]
  },
  {
   "cell_type": "markdown",
   "metadata": {},
   "source": [
    "Recall that to start an Jupyter notebook, simply type (in your Linux shell):\n",
    "\n",
    "    $> jupyter notebook\n",
    "\n",
    "or to open a specific file and keep the terminal session free:\n",
    "\n",
    "    $> jupyter notebook filename.ipynb &\n",
    "\n",
    "Note: Discuss cell types Code vs Markdown vs raw NB convert briefly"
   ]
  },
  {
   "cell_type": "markdown",
   "metadata": {},
   "source": [
    "### Law of gravitation equation"
   ]
  },
  {
   "cell_type": "markdown",
   "metadata": {},
   "source": [
    "$F(r) = G \\frac{m_1 m_2}{r^2}$"
   ]
  },
  {
   "cell_type": "markdown",
   "metadata": {},
   "source": [
    "$G = 6.67 \\times 10^{-11} \\frac{\\text{m}^3}{\\text{kg} \\cdot \\text{s}^2}$ (the gravitational constant)"
   ]
  },
  {
   "cell_type": "markdown",
   "metadata": {},
   "source": [
    "$m_1$ is the mass of the first body in kilograms (kg)"
   ]
  },
  {
   "cell_type": "markdown",
   "metadata": {},
   "source": [
    "$m_2$ is the mass of the second body in kilograms (kg)"
   ]
  },
  {
   "cell_type": "markdown",
   "metadata": {},
   "source": [
    "$r$ is the distance between the centers of the two bodies in meters (m)"
   ]
  },
  {
   "cell_type": "markdown",
   "metadata": {},
   "source": [
    "### Example 1 - Find the force of a person standing on earth"
   ]
  },
  {
   "cell_type": "markdown",
   "metadata": {},
   "source": [
    "For a person of mass 70 kg standing on the surface of the Earth (mass $5.97 \\times 10^{24}$ kg, radius 6370 km ([Earth fact sheet](http://nssdc.gsfc.nasa.gov/planetary/factsheet/earthfact.html))) the force will be (in units of Newtons, 1 N = 0.225 lbs):"
   ]
  },
  {
   "cell_type": "markdown",
   "metadata": {},
   "source": [
    "$$F(6.37 \\times 10^{6}) = 6.67 \\times 10^{-11} \\cdot \\frac{5.97 \\times 10^{24} \\cdot 70}{(6.37 \\times 10^{6})^2}$$"
   ]
  },
  {
   "cell_type": "code",
   "execution_count": 56,
   "metadata": {
    "collapsed": false
   },
   "outputs": [
    {
     "data": {
      "text/plain": [
       "686.9408456535615"
      ]
     },
     "execution_count": 56,
     "metadata": {},
     "output_type": "execute_result"
    }
   ],
   "source": [
    "6.67e-11 * 5.97e24 * 70 / (6.37e6)**2  \n",
    "# remember: the return of the last line in any cell will be automatically printed"
   ]
  },
  {
   "cell_type": "markdown",
   "metadata": {},
   "source": [
    "Notice that I put spaces on either side of each mathematical operator. This isn't required, but enhances clarity. Consider the alternative:"
   ]
  },
  {
   "cell_type": "code",
   "execution_count": 57,
   "metadata": {
    "collapsed": false
   },
   "outputs": [
    {
     "data": {
      "text/plain": [
       "686.9408456535615"
      ]
     },
     "execution_count": 57,
     "metadata": {},
     "output_type": "execute_result"
    }
   ],
   "source": [
    "6.67e-11*5.97e24*70/(6.37e6)**2"
   ]
  },
  {
   "cell_type": "markdown",
   "metadata": {},
   "source": [
    "### Example 2 - Find the acceleration due to Earth's gravity (the g in F = mg)"
   ]
  },
  {
   "cell_type": "markdown",
   "metadata": {},
   "source": [
    "Using the gravitation equation above, set $m_2 = 1$ kg"
   ]
  },
  {
   "cell_type": "markdown",
   "metadata": {},
   "source": [
    "$$F(6.37 \\times 10^{6}) = 6.67 \\times 10^{-11} \\cdot \\frac{5.97 \\times 10^{24} \\cdot 1}{(6.37 \\times 10^{6})^2}$$"
   ]
  },
  {
   "cell_type": "code",
   "execution_count": 58,
   "metadata": {
    "collapsed": false
   },
   "outputs": [
    {
     "data": {
      "text/plain": [
       "9.813440652193735"
      ]
     },
     "execution_count": 58,
     "metadata": {},
     "output_type": "execute_result"
    }
   ],
   "source": [
    "6.67e-11 * 5.97e24 * 1 / (6.37e6)**2"
   ]
  },
  {
   "cell_type": "markdown",
   "metadata": {},
   "source": [
    "#### Q. Why would the above $F(r)$ implementation be inconvenient if we had to do this computation many times, say for different masses?"
   ]
  },
  {
   "cell_type": "markdown",
   "metadata": {},
   "source": [
    "#### Q. How could we improve this?"
   ]
  },
  {
   "cell_type": "code",
   "execution_count": 48,
   "metadata": {
    "collapsed": true
   },
   "outputs": [],
   "source": [
    "G = 55"
   ]
  },
  {
   "cell_type": "code",
   "execution_count": 51,
   "metadata": {
    "collapsed": false
   },
   "outputs": [
    {
     "data": {
      "text/plain": [
       "686.9408456535615"
      ]
     },
     "execution_count": 51,
     "metadata": {},
     "output_type": "execute_result"
    }
   ],
   "source": [
    "G  = 6.67e-11\n",
    "m1 = 5.97e24 \n",
    "m2 = 70\n",
    "r  = 6.37e6\n",
    "\n",
    "F = G * m1 * m2 / r**2  #  white-space for clarity!\n",
    "\n",
    "F  # remember: no print needed for the last item of a cell."
   ]
  },
  {
   "cell_type": "markdown",
   "metadata": {},
   "source": [
    "#### Q. What do the \"x = y\" statements do?"
   ]
  },
  {
   "cell_type": "raw",
   "metadata": {},
   "source": [
    "Using descriptive names (good programming practice!):"
   ]
  },
  {
   "cell_type": "code",
   "execution_count": 60,
   "metadata": {
    "collapsed": false
   },
   "outputs": [
    {
     "data": {
      "text/plain": [
       "686.9408456535615"
      ]
     },
     "execution_count": 60,
     "metadata": {},
     "output_type": "execute_result"
    }
   ],
   "source": [
    "G          = 6.67e-11\n",
    "mass_earth  = 5.97e24\n",
    "mass_object = 70\n",
    "radius     = 6.37e6\n",
    "\n",
    "force = G * mass_earth * mass_object / radius**2\n",
    "\n",
    "force"
   ]
  },
  {
   "cell_type": "markdown",
   "metadata": {},
   "source": [
    "#### Q. Can you imagine a downside to descriptive variable names?"
   ]
  },
  {
   "cell_type": "markdown",
   "metadata": {},
   "source": [
    "### Dealing with long lines of code"
   ]
  },
  {
   "cell_type": "markdown",
   "metadata": {},
   "source": [
    "Split long lines with a backslash (with no space after it, just carriage return):"
   ]
  },
  {
   "cell_type": "code",
   "execution_count": 61,
   "metadata": {
    "collapsed": false
   },
   "outputs": [],
   "source": [
    "force2 = G * massEarth * \\\n",
    "         massObject / radius**2"
   ]
  },
  {
   "cell_type": "code",
   "execution_count": 62,
   "metadata": {
    "collapsed": false
   },
   "outputs": [
    {
     "data": {
      "text/plain": [
       "686.9408456535615"
      ]
     },
     "execution_count": 62,
     "metadata": {},
     "output_type": "execute_result"
    }
   ],
   "source": [
    "force2"
   ]
  },
  {
   "cell_type": "markdown",
   "metadata": {},
   "source": [
    "### Reserved Words"
   ]
  },
  {
   "cell_type": "markdown",
   "metadata": {},
   "source": [
    "Using \"reserved words\" will lead to an error:"
   ]
  },
  {
   "cell_type": "code",
   "execution_count": 63,
   "metadata": {
    "collapsed": false
   },
   "outputs": [
    {
     "ename": "SyntaxError",
     "evalue": "invalid syntax (<ipython-input-63-429e30a38e51>, line 1)",
     "output_type": "error",
     "traceback": [
      "\u001b[0;36m  File \u001b[0;32m\"<ipython-input-63-429e30a38e51>\"\u001b[0;36m, line \u001b[0;32m1\u001b[0m\n\u001b[0;31m    lambda = 5000     #  Some wavelength in Angstroms\u001b[0m\n\u001b[0m           ^\u001b[0m\n\u001b[0;31mSyntaxError\u001b[0m\u001b[0;31m:\u001b[0m invalid syntax\n"
     ]
    }
   ],
   "source": [
    "lambda = 5000     #  Some wavelength in Angstroms"
   ]
  },
  {
   "cell_type": "markdown",
   "metadata": {},
   "source": [
    "See p.10 of the textbook for a list of Python's reserved words. Some really common ones are:\n",
    "\n",
    "    and, break, class, continue, def,\n",
    "    del, if, elif, else, except, False,\n",
    "    for, from, import, in, is, lambda, None,\n",
    "    not, or, pass, return, True, try, while"
   ]
  },
  {
   "cell_type": "markdown",
   "metadata": {},
   "source": [
    "### Comments"
   ]
  },
  {
   "cell_type": "code",
   "execution_count": 64,
   "metadata": {
    "collapsed": false
   },
   "outputs": [],
   "source": [
    "#  Comments are specified with the pound symbol #\n",
    "#  Everything after a # in a line is ignored by Python"
   ]
  },
  {
   "cell_type": "markdown",
   "metadata": {},
   "source": [
    "#### Q. What will the line below do?"
   ]
  },
  {
   "cell_type": "code",
   "execution_count": 65,
   "metadata": {
    "collapsed": false
   },
   "outputs": [
    {
     "name": "stdout",
     "output_type": "stream",
     "text": [
      "this\n"
     ]
    }
   ],
   "source": [
    "print('this') # but not 'that'"
   ]
  },
  {
   "cell_type": "markdown",
   "metadata": {},
   "source": [
    "> As an approx value, it's good practice to comment about 50\\% of your code!\n",
    "\n",
    "But one can reduce that reasonbly, by choosing intelligle variable names."
   ]
  },
  {
   "cell_type": "markdown",
   "metadata": {},
   "source": [
    "There is another way to specify \"block comments\": using two sets of 3 quotation marks ''' '''."
   ]
  },
  {
   "cell_type": "code",
   "execution_count": 69,
   "metadata": {
    "collapsed": false
   },
   "outputs": [
    {
     "ename": "SyntaxError",
     "evalue": "invalid syntax (<ipython-input-69-f9af7a1919b3>, line 2)",
     "output_type": "error",
     "traceback": [
      "\u001b[0;36m  File \u001b[0;32m\"<ipython-input-69-f9af7a1919b3>\"\u001b[0;36m, line \u001b[0;32m2\u001b[0m\n\u001b[0;31m    This is a comment\u001b[0m\n\u001b[0m                    ^\u001b[0m\n\u001b[0;31mSyntaxError\u001b[0m\u001b[0;31m:\u001b[0m invalid syntax\n"
     ]
    }
   ],
   "source": [
    "# Comments without ''' ''' or # create an error:\n",
    "This is a comment\n",
    "that takes\n",
    "several lines."
   ]
  },
  {
   "cell_type": "code",
   "execution_count": 70,
   "metadata": {
    "collapsed": false
   },
   "outputs": [
    {
     "data": {
      "text/plain": [
       "'\\nThis is a really, super, super, super, super, super, super, super,\\nsuper, super, super, super, super, super, super, super, super,\\nlong comment (not really).\\n'"
      ]
     },
     "execution_count": 70,
     "metadata": {},
     "output_type": "execute_result"
    }
   ],
   "source": [
    "#  However, in this form it does not, even for multiple lines:\n",
    "#\n",
    "'''\n",
    "This is a really, super, super, super, super, super, super, super,\n",
    "super, super, super, super, super, super, super, super, super,\n",
    "long comment (not really).\n",
    "'''\n",
    "#\n",
    "#  We will use block comments to document modules later!"
   ]
  },
  {
   "cell_type": "markdown",
   "metadata": {},
   "source": [
    "Notice that that `comment` was actually printed. That's because it's not technically a `comment` that is totally ignored, but just a multi-line string object.\n",
    "\n",
    "It is being used in source code for documenting your code. Why does that work? Because that long multi-line string is not being assigned to a variable, so the Python interpreter just throws it away for not being used. But it's very useful for creating documented code!\n",
    "\n",
    "### Formatting text and numbers"
   ]
  },
  {
   "cell_type": "code",
   "execution_count": 71,
   "metadata": {
    "collapsed": false
   },
   "outputs": [],
   "source": [
    "from math import pi              # more in today's tutorial"
   ]
  },
  {
   "cell_type": "code",
   "execution_count": 72,
   "metadata": {
    "collapsed": false
   },
   "outputs": [
    {
     "data": {
      "text/plain": [
       "'pi = 3.141593'"
      ]
     },
     "execution_count": 72,
     "metadata": {},
     "output_type": "execute_result"
    }
   ],
   "source": [
    "#  With old style formatting\n",
    "\n",
    "\"pi = %.6f\" % pi"
   ]
  },
  {
   "cell_type": "code",
   "execution_count": 75,
   "metadata": {
    "collapsed": false
   },
   "outputs": [
    {
     "data": {
      "text/plain": [
       "'pi = 3.141593'"
      ]
     },
     "execution_count": 75,
     "metadata": {},
     "output_type": "execute_result"
    }
   ],
   "source": [
    "#  With new style formatting. \n",
    "# It's longer in this example, but is much more powerful in general.\n",
    "# You decide, which one you want to use.\n",
    "\n",
    "\"pi = {:.6f}\".format(pi)"
   ]
  },
  {
   "cell_type": "code",
   "execution_count": 82,
   "metadata": {
    "collapsed": false
   },
   "outputs": [
    {
     "name": "stdout",
     "output_type": "stream",
     "text": [
      "The Earth's mass is 4 kilograms.\n",
      "This is myPi: 3 is awesome\n"
     ]
    }
   ],
   "source": [
    "myPi = 3.92834234 \n",
    "print(\"The Earth's mass is %.0f kilograms.\" % myPi)   # note the rounding that happens!\n",
    "print(\"This is myPi: {} is awesome\".format(str(int(myPi))))\n",
    "# converting to int cuts off decimals"
   ]
  },
  {
   "cell_type": "markdown",
   "metadata": {},
   "source": [
    "Hard to read!!  (And, note the junk at the end.)"
   ]
  },
  {
   "cell_type": "markdown",
   "metadata": {},
   "source": [
    "Consider %x.yz\n",
    "\n",
    "    % inside the quotes\n",
    "        - means a \"format statement\" follows\n",
    "\n",
    "    x is the number of characters in the resulting string \n",
    "        - Not required\n",
    "\n",
    "    y is the number of digits after the decimal point \n",
    "        - Not required\n",
    "\n",
    "    z is the format (e.g. f (float), e (scientific), s (string))\n",
    "        - Required\n",
    "\n",
    "    % outside and to the right of the quotes\n",
    "        - Separates text from variables -- more on this later\n",
    "        - Uses parentheses if there is more than one variable"
   ]
  },
  {
   "cell_type": "markdown",
   "metadata": {},
   "source": [
    "There is a list of print format specifications on p. 12 in the textbook\n",
    "\n",
    "    %s          string (of ascii characters)\n",
    "    %d          integer\n",
    "    %0xd        integer padded with x leading zeros\n",
    "    %f          decimal notation with six decimals\n",
    "    %e or %E    compact scientific notation\n",
    "    %g or %G    compact decimal or scientific notation\n",
    "    %xz         format z right-justified in a field of width x\n",
    "    %-xy        same, left-justified\n",
    "    %.yz        format z with y decimals\n",
    "    %x.yz       format z with y decimals in a field of width x\n",
    "    %%          percentage sign"
   ]
  },
  {
   "cell_type": "markdown",
   "metadata": {},
   "source": [
    "### The power of the new formatting\n",
    "\n",
    "If you don't care about length of the print: The type is being chosen correctly for you."
   ]
  },
  {
   "cell_type": "markdown",
   "metadata": {},
   "source": [
    "### Some more examples"
   ]
  },
  {
   "cell_type": "code",
   "execution_count": 84,
   "metadata": {
    "collapsed": false
   },
   "outputs": [
    {
     "name": "stdout",
     "output_type": "stream",
     "text": [
      "6370000.0 686.9408456535615\n"
     ]
    }
   ],
   "source": [
    "print(radius, force)  # still alive from far above!"
   ]
  },
  {
   "cell_type": "markdown",
   "metadata": {},
   "source": [
    "#### Q. What will the next statement print?"
   ]
  },
  {
   "cell_type": "code",
   "execution_count": 86,
   "metadata": {
    "collapsed": false
   },
   "outputs": [
    {
     "name": "stdout",
     "output_type": "stream",
     "text": [
      "At the Earth's radius of 6.37e+06 meters,\n",
      "the force is    687 Newtons.\n"
     ]
    }
   ],
   "source": [
    "#  If we use triple quotes we don't have to \n",
    "#  use \\ for multiple lines\n",
    "\n",
    "print('''At the Earth's radius of %.2e meters,\n",
    "the force is %6.0f Newtons.''' % (radius, force))"
   ]
  },
  {
   "cell_type": "code",
   "execution_count": 87,
   "metadata": {
    "collapsed": false
   },
   "outputs": [
    {
     "name": "stdout",
     "output_type": "stream",
     "text": [
      "At the Earth's radius of 6.37e+06 meters, the force is 686.940846           Newtons.\n"
     ]
    }
   ],
   "source": [
    "#  Justification\n",
    "\n",
    "print(\"At the Earth's radius of %.2e meters, \\\n",
    "the force is %-20f Newtons.\" % (radius, force))"
   ]
  },
  {
   "cell_type": "markdown",
   "metadata": {},
   "source": [
    "Note when block comments are used, the text appears on 2 lines versus when using the \\, the text appears all on 1 line."
   ]
  },
  {
   "cell_type": "code",
   "execution_count": 91,
   "metadata": {
    "collapsed": false
   },
   "outputs": [
    {
     "name": "stdout",
     "output_type": "stream",
     "text": [
      "At the Earth's radius of 6.37e+06 meters, the force is 687 Newtons.\n",
      "At the Earth's radius of 6.37e+06 meters, the force is 686 Newtons.\n"
     ]
    }
   ],
   "source": [
    "print(\"At the Earth's radius of %.2e meters, the force is %.0f Newtons.\" % (radius, force))\n",
    "print(\"At the Earth's radius of %.2e meters, the force is %i Newtons.\" % (radius, force))"
   ]
  },
  {
   "cell_type": "markdown",
   "metadata": {},
   "source": [
    "Note the difference between %.0f (float) and %i (integer) (rounding vs. truncating)\n",
    "\n",
    "Also note, that the new formatting system actually warns you when you do something that would lose precision:"
   ]
  },
  {
   "cell_type": "code",
   "execution_count": 99,
   "metadata": {
    "collapsed": false
   },
   "outputs": [
    {
     "name": "stdout",
     "output_type": "stream",
     "text": [
      "At the Earth's radius of 6.37e+06 meters, the force is 687 Newtons.\n"
     ]
    },
    {
     "ename": "ValueError",
     "evalue": "Unknown format code 'i' for object of type 'float'",
     "output_type": "error",
     "traceback": [
      "\u001b[0;31m---------------------------------------------------------------------------\u001b[0m",
      "\u001b[0;31mValueError\u001b[0m                                Traceback (most recent call last)",
      "\u001b[0;32m<ipython-input-99-97623acfb550>\u001b[0m in \u001b[0;36m<module>\u001b[0;34m()\u001b[0m\n\u001b[1;32m      1\u001b[0m \u001b[0mprint\u001b[0m\u001b[0;34m(\u001b[0m\u001b[0;34m\"At the Earth's radius of {:.2e} meters, the force is {:.0f} Newtons.\"\u001b[0m\u001b[0;34m.\u001b[0m\u001b[0mformat\u001b[0m\u001b[0;34m(\u001b[0m\u001b[0mradius\u001b[0m\u001b[0;34m,\u001b[0m \u001b[0mforce\u001b[0m\u001b[0;34m)\u001b[0m\u001b[0;34m)\u001b[0m\u001b[0;34m\u001b[0m\u001b[0m\n\u001b[0;32m----> 2\u001b[0;31m \u001b[0mprint\u001b[0m\u001b[0;34m(\u001b[0m\u001b[0;34m\"At the Earth's radius of {:.2e} meters, the force is {:i} Newtons.\"\u001b[0m\u001b[0;34m.\u001b[0m\u001b[0mformat\u001b[0m\u001b[0;34m(\u001b[0m\u001b[0mradius\u001b[0m\u001b[0;34m,\u001b[0m \u001b[0mforce\u001b[0m\u001b[0;34m)\u001b[0m\u001b[0;34m)\u001b[0m\u001b[0;34m\u001b[0m\u001b[0m\n\u001b[0m",
      "\u001b[0;31mValueError\u001b[0m: Unknown format code 'i' for object of type 'float'"
     ]
    }
   ],
   "source": [
    "print(\"At the Earth's radius of {:.2e} meters, the force is {:.0f} Newtons.\".format(radius, force))\n",
    "print(\"At the Earth's radius of {:.2e} meters, the force is {:i} Newtons.\".format(radius, force))"
   ]
  },
  {
   "cell_type": "code",
   "execution_count": 102,
   "metadata": {
    "collapsed": false
   },
   "outputs": [
    {
     "name": "stdout",
     "output_type": "stream",
     "text": [
      "At the Earth radius of 6.37e+06 meters,\n",
      "the force is\n",
      "687 Newtons.\n"
     ]
    }
   ],
   "source": [
    "# Line breaks can also be implemented with \\n\n",
    "\n",
    "print('At the Earth radius of %.2e meters,\\nthe force is\\n%0.0f Newtons.' % (radius, force))"
   ]
  },
  {
   "cell_type": "markdown",
   "metadata": {},
   "source": [
    "Above would **not** be printed on 3 lines if used without the `print` command. Because the automatic notebook printing doesn't follow the same rules as the `print` command.\n",
    "\n",
    "#### Q. What situations can you imagine in which printing information like this (i.e., full sentences, carefully formatted numbers) would be useful?"
   ]
  },
  {
   "cell_type": "markdown",
   "metadata": {},
   "source": [
    "----"
   ]
  },
  {
   "cell_type": "markdown",
   "metadata": {},
   "source": [
    "### Computer Science Glossary:"
   ]
  },
  {
   "cell_type": "markdown",
   "metadata": {},
   "source": [
    "Some terms we need to learn:\n",
    "(a few you know already, a few will appear in today's tutorial):\n",
    "    \n",
    "    OPERATING SYSTEM: the collection of programs that manage the hardware\n",
    "                      and software resources of the computer (e.g. Windows, Mac OS X, Linux)\n",
    "    \n",
    "    PYTHON: a program which interprets the text in our program files\n",
    "    \n",
    "    SYNTAX: the language of the programming language\n",
    "            (e.g. words, spelling, spacing, punctuation, etc)\n",
    "\n",
    "    MODULE: a self-contained program called or used by other programs\n",
    "    \n",
    "    PACKAGE: a collection of modules\n",
    "\n",
    "    LIBRARIES: modules and packages (like numpy)\n",
    "    \n",
    "    ALGORITHM: the steps the program takes to run\n",
    "\n",
    "    SOURCE CODE: the text that constitutes the program\n",
    "\n",
    "    STATEMENTS: a short collection of source code\n",
    "    \n",
    "    INPUT: the information that goes into the program\n",
    "\n",
    "    OUTPUT: the result of the program (what comes out)\n"
   ]
  }
 ],
 "metadata": {
  "kernelspec": {
   "display_name": "Python3 (stable)",
   "language": "python",
   "name": "stable"
  },
  "language_info": {
   "codemirror_mode": {
    "name": "ipython",
    "version": 3
   },
   "file_extension": ".py",
   "mimetype": "text/x-python",
   "name": "python",
   "nbconvert_exporter": "python",
   "pygments_lexer": "ipython3",
   "version": "3.5.1"
  }
 },
 "nbformat": 4,
 "nbformat_minor": 0
}
