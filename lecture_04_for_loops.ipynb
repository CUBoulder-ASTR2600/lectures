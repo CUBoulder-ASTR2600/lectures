{
 "cells": [
  {
   "cell_type": "markdown",
   "metadata": {},
   "source": [
    "# Some meta comments\n",
    "\n",
    "* My teaching feedback\n",
    " * References to the future are mostly just abstract without a mental map.\n",
    " * Same is true with references to other programming languages if you are not\n",
    " familiar with them.\n",
    " * Focus on one teaching object at a time.\n",
    "* Devices in class room\n",
    "* Why tutorials?"
   ]
  },
  {
   "cell_type": "markdown",
   "metadata": {},
   "source": [
    "### Recap: while loops and lists"
   ]
  },
  {
   "cell_type": "markdown",
   "metadata": {},
   "source": [
    "#### What does it do?"
   ]
  },
  {
   "cell_type": "code",
   "execution_count": 169,
   "metadata": {
    "collapsed": false
   },
   "outputs": [
    {
     "data": {
      "text/plain": [
       "100"
      ]
     },
     "execution_count": 169,
     "metadata": {},
     "output_type": "execute_result"
    }
   ],
   "source": [
    "count = 0\n",
    "while count < 100:\n",
    "    count += 1\n",
    "count"
   ]
  },
  {
   "cell_type": "markdown",
   "metadata": {},
   "source": [
    "#### Q. What would this program print?"
   ]
  },
  {
   "cell_type": "markdown",
   "metadata": {},
   "source": [
    "Rather than type in long lists, we can use while loops:"
   ]
  },
  {
   "cell_type": "code",
   "execution_count": 170,
   "metadata": {
    "collapsed": false
   },
   "outputs": [],
   "source": [
    "#\n",
    "# Initializations first\n",
    "#\n",
    "massRatioList = []         # Creates an empty list\n",
    "massRatioValue = 1   # For the conditional\n",
    "massRatioMax = 15   # Also for the conditional\n",
    "#\n",
    "# And the while loop:\n",
    "# \n",
    "while massRatioValue <= massRatioMax:  # Note the colon!\n",
    "    massRatioList.append(massRatioValue)   # Note the indentation!\n",
    "    massRatioValue += 1"
   ]
  },
  {
   "cell_type": "code",
   "execution_count": 171,
   "metadata": {
    "collapsed": false
   },
   "outputs": [
    {
     "name": "stdout",
     "output_type": "stream",
     "text": [
      "[1, 2, 3, 4, 5, 6, 7, 8, 9, 10, 11, 12, 13, 14, 15]\n",
      "16\n"
     ]
    }
   ],
   "source": [
    "print(massRatioList)\n",
    "print(massRatioValue)"
   ]
  },
  {
   "cell_type": "markdown",
   "metadata": {},
   "source": [
    "## Today: for loops and lists, list comprehensions, tuples"
   ]
  },
  {
   "cell_type": "markdown",
   "metadata": {},
   "source": [
    "For loops operate on elements in a list."
   ]
  },
  {
   "cell_type": "markdown",
   "metadata": {},
   "source": [
    "Basic structure:\n",
    "\n",
    "```python\n",
    "for <element> in <list>:\n",
    "    <do something with element>\n",
    "```    \n",
    "<element> will be a variable name assigned to \n",
    "individual elements in <list>\n",
    "    \n",
    "as opposed to while loops:\n",
    "\n",
    "```python\n",
    "while <condition is True>:\n",
    "    <do something>\n",
    "```"
   ]
  },
  {
   "cell_type": "code",
   "execution_count": 172,
   "metadata": {
    "collapsed": false
   },
   "outputs": [
    {
     "name": "stdout",
     "output_type": "stream",
     "text": [
      "1\n",
      "2\n",
      "3\n",
      "4\n",
      "5\n",
      "6\n",
      "7\n",
      "8\n",
      "9\n",
      "10\n",
      "11\n",
      "12\n",
      "13\n",
      "14\n",
      "15\n"
     ]
    },
    {
     "data": {
      "text/plain": [
       "15"
      ]
     },
     "execution_count": 172,
     "metadata": {},
     "output_type": "execute_result"
    }
   ],
   "source": [
    "for massRatio in massRatioList:  # Note the colon!\n",
    "    print(massRatio) # Note the indent!\n",
    "\n",
    "massRatio"
   ]
  },
  {
   "cell_type": "code",
   "execution_count": 173,
   "metadata": {
    "collapsed": false
   },
   "outputs": [
    {
     "name": "stdout",
     "output_type": "stream",
     "text": [
      "massRatioList element = 1\n",
      "massRatioList element = 2\n",
      "massRatioList element = 3\n",
      "massRatioList element = 4\n",
      "massRatioList element = 5\n",
      "massRatioList element = 6\n",
      "massRatioList element = 7\n",
      "massRatioList element = 8\n",
      "massRatioList element = 9\n",
      "massRatioList element = 10\n",
      "massRatioList element = 11\n",
      "massRatioList element = 12\n",
      "massRatioList element = 13\n",
      "massRatioList element = 14\n",
      "massRatioList element = 15\n",
      "\n",
      "massRatioList has 15 elements!\n"
     ]
    },
    {
     "data": {
      "text/plain": [
       "15"
      ]
     },
     "execution_count": 173,
     "metadata": {},
     "output_type": "execute_result"
    }
   ],
   "source": [
    "for massRatio in massRatioList:  # Note the colon!\n",
    "    print('massRatioList element = {}'.format(massRatio)) # Note the indent!\n",
    "\n",
    "print('\\nmassRatioList has {} elements!'.format(len(massRatioList)))\n",
    "massRatio"
   ]
  },
  {
   "cell_type": "markdown",
   "metadata": {},
   "source": [
    "Note that you do _**not**_ have to \n",
    "* know the length of the list\n",
    "* define a walking index."
   ]
  },
  {
   "cell_type": "markdown",
   "metadata": {},
   "source": [
    "Let's use a for loop to make a table of mass ratios and gravitational forces:"
   ]
  },
  {
   "cell_type": "code",
   "execution_count": 174,
   "metadata": {
    "collapsed": false
   },
   "outputs": [
    {
     "name": "stdout",
     "output_type": "stream",
     "text": [
      "# Mass-Ratio\tForce\n",
      "1\t\t686.94\n",
      "2\t\t1373.88\n",
      "3\t\t2060.82\n",
      "4\t\t2747.76\n",
      "5\t\t3434.70\n",
      "6\t\t4121.65\n",
      "7\t\t4808.59\n",
      "8\t\t5495.53\n",
      "9\t\t6182.47\n",
      "10\t\t6869.41\n",
      "11\t\t7556.35\n",
      "12\t\t8243.29\n",
      "13\t\t8930.23\n",
      "14\t\t9617.17\n",
      "15\t\t10304.11\n"
     ]
    }
   ],
   "source": [
    "# First, initialize variables\n",
    "G       = 6.67e-11           # Grav. const.\n",
    "mEarth  = 5.97e24            # Earth mass\n",
    "mPerson = 70                 # Person mass \n",
    "radius  = 6.37e6             # Earth radius\n",
    "\n",
    "massRatioList  = []          # Creates an empty list\n",
    "massRatioValue = 1           # First mass ratio value\n",
    "massRatioMax   = 15          # Last mass ratio value\n",
    "\n",
    "# Create a list of mass ratios using a for loop\n",
    "for massRatioValue in range(massRatioValue, massRatioMax + 1):   # Note the \"+ 1\"\n",
    "    massRatioList.append(massRatioValue)\n",
    "\n",
    "# Make a header for the table\n",
    "print(\"# Mass-Ratio\\tForce\")\n",
    "\n",
    "# Calculate the force for each mass ratio\n",
    "for massRatio in massRatioList:\n",
    "    force = G * massRatio * mEarth * mPerson / radius**2  \n",
    "\n",
    "    # print contents of table line-by-line\n",
    "    print(\"{}\\t\\t{:.2f}\".format(massRatio, force))"
   ]
  },
  {
   "cell_type": "markdown",
   "metadata": {},
   "source": [
    "Note, how the force value automatically became a float, how it should be.\n",
    "\n",
    "### While loop implementation of a for loop\n",
    "\n",
    "A simple for loop:"
   ]
  },
  {
   "cell_type": "code",
   "execution_count": 175,
   "metadata": {
    "collapsed": false
   },
   "outputs": [
    {
     "name": "stdout",
     "output_type": "stream",
     "text": [
      "1\n",
      "2\n",
      "3\n",
      "4\n",
      "5\n",
      "6\n",
      "7\n",
      "8\n",
      "9\n",
      "10\n",
      "11\n",
      "12\n",
      "13\n",
      "14\n",
      "15\n"
     ]
    }
   ],
   "source": [
    "for massRatio in massRatioList:\n",
    "    print(massRatio)"
   ]
  },
  {
   "cell_type": "markdown",
   "metadata": {},
   "source": [
    "Can also be implemented as a while loop:"
   ]
  },
  {
   "cell_type": "code",
   "execution_count": 176,
   "metadata": {
    "collapsed": false
   },
   "outputs": [
    {
     "name": "stdout",
     "output_type": "stream",
     "text": [
      "1\n",
      "2\n",
      "3\n",
      "4\n",
      "5\n",
      "6\n",
      "7\n",
      "8\n",
      "9\n",
      "10\n",
      "11\n",
      "12\n",
      "13\n",
      "14\n",
      "15\n"
     ]
    }
   ],
   "source": [
    "index = 0   # Remember that the index starts with zero!\n",
    "while index < len(massRatioList):\n",
    "    print(massRatioList[index])\n",
    "    index += 1"
   ]
  },
  {
   "cell_type": "markdown",
   "metadata": {},
   "source": [
    "This is a little less compact, but very intuitive.\n",
    "\n",
    "#### Q. What is the value of index at the end (trace it!)?"
   ]
  },
  {
   "cell_type": "code",
   "execution_count": 177,
   "metadata": {
    "collapsed": false
   },
   "outputs": [
    {
     "data": {
      "text/plain": [
       "15"
      ]
     },
     "execution_count": 177,
     "metadata": {},
     "output_type": "execute_result"
    }
   ],
   "source": [
    "index"
   ]
  },
  {
   "cell_type": "markdown",
   "metadata": {},
   "source": [
    "#### Interlude: make print work `side-ways`\n",
    "\n",
    "#### Q. How could I learn about the ability's of print?\n",
    "\n",
    "### The built-in help system\n",
    "IPython and therefore its kernel here in Jupyter has a built-in help system.\n",
    "It depends on code author to fill in these docstrings (I show you how later.)\n",
    "\n",
    "Enter help system by calling `object?`. In Jupyter a sub-window appears. When done reading you leave it by pressing `q` or clickin the `x` in the upper right corner.\n",
    "\n",
    "Example: Learn how to make `print` print `side-ways`."
   ]
  },
  {
   "cell_type": "code",
   "execution_count": 178,
   "metadata": {
    "collapsed": true
   },
   "outputs": [],
   "source": [
    "print?"
   ]
  },
  {
   "cell_type": "code",
   "execution_count": 181,
   "metadata": {
    "collapsed": false
   },
   "outputs": [
    {
     "name": "stdout",
     "output_type": "stream",
     "text": [
      "1 2 3 4 5 6 7 8 9 10 11 12 13 14 15 "
     ]
    }
   ],
   "source": [
    "index = 0   # Remember that the index starts with zero!\n",
    "while index < len(massRatioList):\n",
    "    print(massRatioList[index], end=' ')\n",
    "    index += 1"
   ]
  },
  {
   "cell_type": "markdown",
   "metadata": {},
   "source": [
    "### The \"range\" function\n",
    "\n",
    "An easy way to populate lists!\n",
    "\n",
    "(In case you haven't noticed, there are already Python\n",
    "functions to do most things!)\n",
    "\n",
    "Syntax:  range(n)\n",
    "  generates integers 0, 1, 2, ... n-1\n",
    "\n",
    "Syntax: range (start, stop, step) \n",
    "  generates from start to stop-1 with stepsize = step\n",
    "  If step is not specified, it is assumed to be 1.\n",
    "  \n",
    "#### Python 3 to 2 difference:\n",
    "Python 3 returns a generator for the list, not the list itself.\n",
    "\n",
    "That means, if you want to see the list, it needs to be fully generated. To enforce this, convert the generator with the list funcion:"
   ]
  },
  {
   "cell_type": "code",
   "execution_count": 182,
   "metadata": {
    "collapsed": false
   },
   "outputs": [
    {
     "name": "stdout",
     "output_type": "stream",
     "text": [
      "range(0, 10)\n"
     ]
    },
    {
     "data": {
      "text/plain": [
       "[0, 1, 2, 3, 4, 5, 6, 7, 8, 9]"
      ]
     },
     "execution_count": 182,
     "metadata": {},
     "output_type": "execute_result"
    }
   ],
   "source": [
    "mygenerator = range(10)  # note how the print out also shows the default 0 starting value.\n",
    "print(mygenerator)\n",
    "mylist = list(mygenerator)\n",
    "mylist"
   ]
  },
  {
   "cell_type": "code",
   "execution_count": 183,
   "metadata": {
    "collapsed": true
   },
   "outputs": [],
   "source": [
    "range?"
   ]
  },
  {
   "cell_type": "markdown",
   "metadata": {},
   "source": [
    "#### Q. What does this generate?"
   ]
  },
  {
   "cell_type": "code",
   "execution_count": 184,
   "metadata": {
    "collapsed": false
   },
   "outputs": [
    {
     "name": "stdout",
     "output_type": "stream",
     "text": [
      "[-10, -8, -6, -4, -2, 0]\n",
      "[]\n"
     ]
    }
   ],
   "source": [
    "print(list(range(-10, 2, 2)))\n",
    "print(list(range(-5)))"
   ]
  },
  {
   "cell_type": "markdown",
   "metadata": {},
   "source": [
    "#### Q. Why is the last list empty?"
   ]
  },
  {
   "cell_type": "raw",
   "metadata": {},
   "source": [
    "\n",
    "\n",
    "\n",
    "\n",
    "\n",
    "\n",
    "\n",
    "\n",
    "\n",
    "\n",
    "\n",
    "\n",
    "\n",
    "\n",
    "\n",
    "\n"
   ]
  },
  {
   "cell_type": "markdown",
   "metadata": {},
   "source": [
    "#### A. Because the default values don't match.\n",
    "\n",
    "Calling range() with only 1 value means it is intepreted as STOP value, with START assumed to be 0 and STEP to be +1. \n",
    "\n",
    "So, \n",
    "```python\n",
    "range(-5)\n",
    "``` \n",
    "is the same as \n",
    "```python\n",
    "range(0,-5,1)\n",
    "```\n",
    "See why the list is empty?\n",
    "\n",
    "Does this work?"
   ]
  },
  {
   "cell_type": "code",
   "execution_count": 185,
   "metadata": {
    "collapsed": false
   },
   "outputs": [
    {
     "data": {
      "text/plain": [
       "[]"
      ]
     },
     "execution_count": 185,
     "metadata": {},
     "output_type": "execute_result"
    }
   ],
   "source": [
    "list(range(0, -5))"
   ]
  },
  {
   "cell_type": "markdown",
   "metadata": {},
   "source": [
    "No, because the last default value is -1!\n",
    "We wanted:"
   ]
  },
  {
   "cell_type": "code",
   "execution_count": 186,
   "metadata": {
    "collapsed": false
   },
   "outputs": [
    {
     "data": {
      "text/plain": [
       "[0, -1, -2, -3, -4]"
      ]
     },
     "execution_count": 186,
     "metadata": {},
     "output_type": "execute_result"
    }
   ],
   "source": [
    "list(range(0, -5, -1))"
   ]
  },
  {
   "cell_type": "markdown",
   "metadata": {},
   "source": [
    "For fun: using a function as an argument:"
   ]
  },
  {
   "cell_type": "code",
   "execution_count": 187,
   "metadata": {
    "collapsed": false
   },
   "outputs": [
    {
     "name": "stdout",
     "output_type": "stream",
     "text": [
      "[-10, -8, -6, -4, -2]\n"
     ]
    },
    {
     "data": {
      "text/plain": [
       "5"
      ]
     },
     "execution_count": 187,
     "metadata": {},
     "output_type": "execute_result"
    }
   ],
   "source": [
    "print(list(range(-10, 0, 2)))\n",
    "len(range(-10, 0, 2))"
   ]
  },
  {
   "cell_type": "markdown",
   "metadata": {},
   "source": [
    "For our mass ratio list example:"
   ]
  },
  {
   "cell_type": "code",
   "execution_count": 189,
   "metadata": {
    "collapsed": false
   },
   "outputs": [
    {
     "data": {
      "text/plain": [
       "[1, 2, 3, 4, 5, 6, 7, 8, 9, 10]"
      ]
     },
     "execution_count": 189,
     "metadata": {},
     "output_type": "execute_result"
    }
   ],
   "source": [
    "massRatioList = []\n",
    "for massRatio in range(1, 11, 1):\n",
    "    massRatioList.append(massRatio)\n",
    "massRatioList"
   ]
  },
  {
   "cell_type": "markdown",
   "metadata": {},
   "source": [
    "#### Q. What could we simplify now, knowing about the range function?"
   ]
  },
  {
   "cell_type": "raw",
   "metadata": {},
   "source": [
    "\n",
    "\n",
    "\n",
    "\n",
    "\n",
    "\n",
    "\n",
    "\n",
    "\n",
    "\n",
    "\n",
    "\n",
    "\n",
    "\n",
    "\n",
    "\n"
   ]
  },
  {
   "cell_type": "markdown",
   "metadata": {},
   "source": [
    "Use `range()` for the massRatioList itself!"
   ]
  },
  {
   "cell_type": "code",
   "execution_count": 191,
   "metadata": {
    "collapsed": false
   },
   "outputs": [
    {
     "data": {
      "text/plain": [
       "[1, 2, 3, 4, 5, 6, 7, 8, 9, 10]"
      ]
     },
     "execution_count": 191,
     "metadata": {},
     "output_type": "execute_result"
    }
   ],
   "source": [
    "massRatioList = list(range(1,11))\n",
    "massRatioList"
   ]
  },
  {
   "cell_type": "markdown",
   "metadata": {},
   "source": [
    "### The \"enumerate\" function"
   ]
  },
  {
   "cell_type": "markdown",
   "metadata": {},
   "source": [
    "Often, you'll want the indices and the list element values, to steer or access other values in other lists. Python has a short-cut function for this sort of thing: `enumerate`\n",
    "\n",
    "Note: This is better Python style than to create your index yourself and use that to access elements in the array.\n",
    "So, this is bad(-ish):"
   ]
  },
  {
   "cell_type": "code",
   "execution_count": 192,
   "metadata": {
    "collapsed": false
   },
   "outputs": [
    {
     "name": "stdout",
     "output_type": "stream",
     "text": [
      "0 1\n",
      "1 2\n",
      "2 3\n",
      "3 4\n",
      "4 5\n",
      "5 6\n",
      "6 7\n",
      "7 8\n",
      "8 9\n",
      "9 10\n"
     ]
    }
   ],
   "source": [
    "for i in range(len(massRatioList)):\n",
    "    print(i, massRatioList[i])"
   ]
  },
  {
   "cell_type": "markdown",
   "metadata": {},
   "source": [
    "This is better:"
   ]
  },
  {
   "cell_type": "code",
   "execution_count": 193,
   "metadata": {
    "collapsed": false
   },
   "outputs": [
    {
     "name": "stdout",
     "output_type": "stream",
     "text": [
      "0 1\n",
      "1 2\n",
      "2 3\n",
      "3 4\n",
      "4 5\n",
      "5 6\n",
      "6 7\n",
      "7 8\n",
      "8 9\n",
      "9 10\n"
     ]
    }
   ],
   "source": [
    "for i, massRatio in enumerate(massRatioList):  # enumerate returns both the index and the item\n",
    "    print(i, massRatio)"
   ]
  },
  {
   "cell_type": "code",
   "execution_count": 194,
   "metadata": {
    "collapsed": false
   },
   "outputs": [
    {
     "name": "stdout",
     "output_type": "stream",
     "text": [
      "0 1\n",
      "1 2\n",
      "2 3\n",
      "3 4\n",
      "4 5\n",
      "5 6\n",
      "6 7\n",
      "7 8\n",
      "8 9\n",
      "9 10\n"
     ]
    }
   ],
   "source": [
    " # Equivalently (but not exactly the same):\n",
    "\n",
    "for stuff in enumerate(massRatioList):\n",
    "    print(stuff[0], stuff[1])"
   ]
  },
  {
   "cell_type": "markdown",
   "metadata": {},
   "source": [
    "Python tries to be helpful here! As learned above, `enumerate` returns both the index and the current item for the loop.\n",
    "\n",
    "It could have thrown you an error, because you only `catch` one value. Instead, in Python, it stores `too many items` in a new compound item:"
   ]
  },
  {
   "cell_type": "code",
   "execution_count": 195,
   "metadata": {
    "collapsed": false
   },
   "outputs": [
    {
     "data": {
      "text/plain": [
       "tuple"
      ]
     },
     "execution_count": 195,
     "metadata": {},
     "output_type": "execute_result"
    }
   ],
   "source": [
    "# Notice the parentheses.\n",
    "# What kind of variable type is stuff?\n",
    "\n",
    "type(stuff)"
   ]
  },
  {
   "cell_type": "code",
   "execution_count": null,
   "metadata": {
    "collapsed": false
   },
   "outputs": [],
   "source": [
    "print(stuff)"
   ]
  },
  {
   "cell_type": "markdown",
   "metadata": {},
   "source": [
    "Tuples are the so called immutable versions of lists. Useful if you want to make sure you don't accidently change them while using them:"
   ]
  },
  {
   "cell_type": "code",
   "execution_count": 197,
   "metadata": {
    "collapsed": false
   },
   "outputs": [
    {
     "data": {
      "text/plain": [
       "[1, 2]"
      ]
     },
     "execution_count": 197,
     "metadata": {},
     "output_type": "execute_result"
    }
   ],
   "source": [
    "a = [1,2]\n",
    "a"
   ]
  },
  {
   "cell_type": "code",
   "execution_count": 198,
   "metadata": {
    "collapsed": false
   },
   "outputs": [
    {
     "data": {
      "text/plain": [
       "[3, 2]"
      ]
     },
     "execution_count": 198,
     "metadata": {},
     "output_type": "execute_result"
    }
   ],
   "source": [
    "a[0] = 3\n",
    "a"
   ]
  },
  {
   "cell_type": "code",
   "execution_count": 203,
   "metadata": {
    "collapsed": false
   },
   "outputs": [
    {
     "data": {
      "text/plain": [
       "(3, 2)"
      ]
     },
     "execution_count": 203,
     "metadata": {},
     "output_type": "execute_result"
    }
   ],
   "source": [
    "a = tuple(a)\n",
    "a"
   ]
  },
  {
   "cell_type": "code",
   "execution_count": 204,
   "metadata": {
    "collapsed": false
   },
   "outputs": [
    {
     "name": "stdout",
     "output_type": "stream",
     "text": [
      "3\n"
     ]
    }
   ],
   "source": [
    "print(t[0])"
   ]
  },
  {
   "cell_type": "code",
   "execution_count": 205,
   "metadata": {
    "collapsed": false
   },
   "outputs": [
    {
     "ename": "TypeError",
     "evalue": "'tuple' object does not support item assignment",
     "output_type": "error",
     "traceback": [
      "\u001b[0;31m---------------------------------------------------------------------------\u001b[0m",
      "\u001b[0;31mTypeError\u001b[0m                                 Traceback (most recent call last)",
      "\u001b[0;32m<ipython-input-205-e765ed0031c3>\u001b[0m in \u001b[0;36m<module>\u001b[0;34m()\u001b[0m\n\u001b[0;32m----> 1\u001b[0;31m \u001b[0mt\u001b[0m\u001b[0;34m[\u001b[0m\u001b[0;36m0\u001b[0m\u001b[0;34m]\u001b[0m \u001b[0;34m=\u001b[0m \u001b[0;36m8\u001b[0m\u001b[0;34m\u001b[0m\u001b[0m\n\u001b[0m",
      "\u001b[0;31mTypeError\u001b[0m: 'tuple' object does not support item assignment"
     ]
    }
   ],
   "source": [
    "t[0] = 8"
   ]
  },
  {
   "cell_type": "markdown",
   "metadata": {},
   "source": [
    "### Processing lists simultaneously with for loops"
   ]
  },
  {
   "cell_type": "markdown",
   "metadata": {},
   "source": [
    "The following construction is a bit lengthy (with 3 loops),\n",
    "but it shows how multiple lists (massRatioList and forceList) \n",
    "can be processed simultaneously with for loops"
   ]
  },
  {
   "cell_type": "markdown",
   "metadata": {},
   "source": [
    "Good mnemonic for lists: Use PLURAL!"
   ]
  },
  {
   "cell_type": "code",
   "execution_count": 206,
   "metadata": {
    "collapsed": true
   },
   "outputs": [],
   "source": [
    "massRatios = range(5)"
   ]
  },
  {
   "cell_type": "code",
   "execution_count": 207,
   "metadata": {
    "collapsed": false
   },
   "outputs": [
    {
     "name": "stdout",
     "output_type": "stream",
     "text": [
      "0 1 2 3 4 "
     ]
    }
   ],
   "source": [
    "for massRatio in massRatios:\n",
    "    print(massRatio, end=' ')"
   ]
  },
  {
   "cell_type": "code",
   "execution_count": 209,
   "metadata": {
    "collapsed": false
   },
   "outputs": [],
   "source": [
    "massRatios  = []        # Initialize.Why? If it's not there, can't append!\n",
    "numElements    = 10        # Number of elements\n",
    "massRatioMin   = 1      # Minimum mass ratio\n",
    "massRatioMax   = 10      # Maximum mass ratio\n",
    "massRatioDelta = (massRatioMax - massRatioMin) / (numElements - 1)   # Mass ratio increment"
   ]
  },
  {
   "cell_type": "raw",
   "metadata": {},
   "source": [
    "Now, construct massRatios:"
   ]
  },
  {
   "cell_type": "code",
   "execution_count": 210,
   "metadata": {
    "collapsed": false
   },
   "outputs": [
    {
     "name": "stdout",
     "output_type": "stream",
     "text": [
      "0 1.0\n",
      "1 2.0\n",
      "2 3.0\n",
      "3 4.0\n",
      "4 5.0\n",
      "5 6.0\n",
      "6 7.0\n",
      "7 8.0\n",
      "8 9.0\n",
      "9 10.0\n"
     ]
    }
   ],
   "source": [
    "for index in range(0, numElements):\n",
    "    massRatio = massRatioMin + index * massRatioDelta\n",
    "    massRatios.append(massRatio)\n",
    "    print(index, massRatio)"
   ]
  },
  {
   "cell_type": "markdown",
   "metadata": {},
   "source": [
    "Now, calculate the forces using massRatios:"
   ]
  },
  {
   "cell_type": "code",
   "execution_count": 211,
   "metadata": {
    "collapsed": false
   },
   "outputs": [],
   "source": [
    "G         = 6.67e-11         # Gravitational constant\n",
    "mEarth    = 5.97e24          # Earth mass\n",
    "mPerson   = 70               # Person mass \n",
    "radius    = 6.37e6           # Earth radius\n",
    "forces = []               # Empty list -- I don't have to specify its length\n",
    "\n",
    "for massRatio in massRatios:\n",
    "    force = massRatio * G * mEarth * mPerson / radius**2  \n",
    "    forces.append(force)"
   ]
  },
  {
   "cell_type": "raw",
   "metadata": {},
   "source": [
    "Finally, to print the table:\n",
    "(demonstrating processing lists simultaneously)"
   ]
  },
  {
   "cell_type": "code",
   "execution_count": 212,
   "metadata": {
    "collapsed": false
   },
   "outputs": [
    {
     "name": "stdout",
     "output_type": "stream",
     "text": [
      "Index\tM_Ratio\tForce\n",
      "0\t1.0\t686.94\n",
      "1\t2.0\t1373.88\n",
      "2\t3.0\t2060.82\n",
      "3\t4.0\t2747.76\n",
      "4\t5.0\t3434.70\n",
      "5\t6.0\t4121.65\n",
      "6\t7.0\t4808.59\n",
      "7\t8.0\t5495.53\n",
      "8\t9.0\t6182.47\n",
      "9\t10.0\t6869.41\n"
     ]
    }
   ],
   "source": [
    "print(\"Index\\tM_Ratio\\tForce\")  # note how special characters are tightly embedded into the string\n",
    "\n",
    "#for index in range(min(len(massRatioList), len(forceList))):\n",
    "for index in range(len(massRatios)):\n",
    "    massRatio = massRatios[index]\n",
    "    force = forces[index]\n",
    "    print('{}\\t{:.1f}\\t{:.2f}'.format(index, massRatio, force))"
   ]
  },
  {
   "cell_type": "code",
   "execution_count": 213,
   "metadata": {
    "collapsed": true
   },
   "outputs": [],
   "source": [
    "a = range(1,11)\n",
    "b = range(21,31 )"
   ]
  },
  {
   "cell_type": "code",
   "execution_count": 215,
   "metadata": {
    "collapsed": false
   },
   "outputs": [
    {
     "data": {
      "text/plain": [
       "[1, 2, 3, 4, 5, 6, 7, 8, 9, 10]"
      ]
     },
     "execution_count": 215,
     "metadata": {},
     "output_type": "execute_result"
    }
   ],
   "source": [
    "list(a)"
   ]
  },
  {
   "cell_type": "code",
   "execution_count": 216,
   "metadata": {
    "collapsed": false
   },
   "outputs": [
    {
     "data": {
      "text/plain": [
       "[21, 22, 23, 24, 25, 26, 27, 28, 29, 30]"
      ]
     },
     "execution_count": 216,
     "metadata": {},
     "output_type": "execute_result"
    }
   ],
   "source": [
    "list(b)"
   ]
  },
  {
   "cell_type": "code",
   "execution_count": 217,
   "metadata": {
    "collapsed": false
   },
   "outputs": [
    {
     "name": "stdout",
     "output_type": "stream",
     "text": [
      "1 21\n",
      "2 22\n",
      "3 23\n",
      "4 24\n",
      "5 25\n",
      "6 26\n",
      "7 27\n",
      "8 28\n",
      "9 29\n",
      "10 30\n"
     ]
    }
   ],
   "source": [
    "for itema, itemb in zip(a,b):\n",
    "    print(itema, itemb)"
   ]
  },
  {
   "cell_type": "markdown",
   "metadata": {},
   "source": [
    "Above the index is not used for calculations, therefore there is a better way to do it: Use zip to combine lists in a 'zipper' like fashion.\n",
    "\n",
    "> The automatic unpacking of tuples can never have too many receivers, but it can too few!"
   ]
  },
  {
   "cell_type": "code",
   "execution_count": 218,
   "metadata": {
    "collapsed": false
   },
   "outputs": [
    {
     "name": "stdout",
     "output_type": "stream",
     "text": [
      "Index\tm_Ratio\tForce\n"
     ]
    },
    {
     "ename": "ValueError",
     "evalue": "not enough values to unpack (expected 3, got 2)",
     "output_type": "error",
     "traceback": [
      "\u001b[0;31m---------------------------------------------------------------------------\u001b[0m",
      "\u001b[0;31mValueError\u001b[0m                                Traceback (most recent call last)",
      "\u001b[0;32m<ipython-input-218-391321ba32b8>\u001b[0m in \u001b[0;36m<module>\u001b[0;34m()\u001b[0m\n\u001b[1;32m      2\u001b[0m \u001b[0;34m\u001b[0m\u001b[0m\n\u001b[1;32m      3\u001b[0m \u001b[0;31m#for index in range(min(len(massRatioList), len(forceList))):\u001b[0m\u001b[0;34m\u001b[0m\u001b[0;34m\u001b[0m\u001b[0m\n\u001b[0;32m----> 4\u001b[0;31m \u001b[0;32mfor\u001b[0m \u001b[0mi\u001b[0m\u001b[0;34m,\u001b[0m \u001b[0mmassRatio\u001b[0m\u001b[0;34m,\u001b[0m \u001b[0mforce\u001b[0m \u001b[0;32min\u001b[0m \u001b[0menumerate\u001b[0m\u001b[0;34m(\u001b[0m\u001b[0mzip\u001b[0m\u001b[0;34m(\u001b[0m\u001b[0mmassRatios\u001b[0m\u001b[0;34m,\u001b[0m \u001b[0mforces\u001b[0m\u001b[0;34m)\u001b[0m\u001b[0;34m)\u001b[0m\u001b[0;34m:\u001b[0m\u001b[0;34m\u001b[0m\u001b[0m\n\u001b[0m\u001b[1;32m      5\u001b[0m     \u001b[0mprint\u001b[0m\u001b[0;34m(\u001b[0m\u001b[0;34m'{}\\t{:.1f}\\t{:.2f}'\u001b[0m\u001b[0;34m.\u001b[0m\u001b[0mformat\u001b[0m\u001b[0;34m(\u001b[0m\u001b[0mi\u001b[0m\u001b[0;34m,\u001b[0m \u001b[0mmassRatio\u001b[0m\u001b[0;34m,\u001b[0m \u001b[0mforce\u001b[0m\u001b[0;34m)\u001b[0m\u001b[0;34m)\u001b[0m\u001b[0;34m\u001b[0m\u001b[0m\n",
      "\u001b[0;31mValueError\u001b[0m: not enough values to unpack (expected 3, got 2)"
     ]
    }
   ],
   "source": [
    "print(\"Index\\tm_Ratio\\tForce\")  # note how special characters are tightly embedded into the string\n",
    "\n",
    "#for index in range(min(len(massRatioList), len(forceList))):\n",
    "for i, massRatio, force in enumerate(zip(massRatios, forces)):\n",
    "    print('{}\\t{:.1f}\\t{:.2f}'.format(i, massRatio, force))"
   ]
  },
  {
   "cell_type": "code",
   "execution_count": 219,
   "metadata": {
    "collapsed": false
   },
   "outputs": [
    {
     "name": "stdout",
     "output_type": "stream",
     "text": [
      "Index\tm_Ratio\tForce\n",
      "(0, (1.0, 686.9408456535615))\t10.0\t6869.41\n",
      "(1, (2.0, 1373.881691307123))\t10.0\t6869.41\n",
      "(2, (3.0, 2060.822536960685))\t10.0\t6869.41\n",
      "(3, (4.0, 2747.763382614246))\t10.0\t6869.41\n",
      "(4, (5.0, 3434.7042282678076))\t10.0\t6869.41\n",
      "(5, (6.0, 4121.64507392137))\t10.0\t6869.41\n",
      "(6, (7.0, 4808.585919574931))\t10.0\t6869.41\n",
      "(7, (8.0, 5495.526765228492))\t10.0\t6869.41\n",
      "(8, (9.0, 6182.467610882054))\t10.0\t6869.41\n",
      "(9, (10.0, 6869.408456535615))\t10.0\t6869.41\n"
     ]
    }
   ],
   "source": [
    "print(\"Index\\tm_Ratio\\tForce\")  # note how special characters are tightly embedded into the string\n",
    "\n",
    "#for index in range(min(len(massRatioList), len(forceList))):\n",
    "for i in enumerate(zip(massRatios, forces)):\n",
    "    print('{}\\t{:.1f}\\t{:.2f}'.format(i, massRatio, force))"
   ]
  },
  {
   "cell_type": "code",
   "execution_count": 220,
   "metadata": {
    "collapsed": false
   },
   "outputs": [
    {
     "name": "stdout",
     "output_type": "stream",
     "text": [
      "Index\tm_Ratio\tForce\n",
      "0\t1.0\t686.94\n",
      "1\t2.0\t1373.88\n",
      "2\t3.0\t2060.82\n",
      "3\t4.0\t2747.76\n",
      "4\t5.0\t3434.70\n",
      "5\t6.0\t4121.65\n",
      "6\t7.0\t4808.59\n",
      "7\t8.0\t5495.53\n",
      "8\t9.0\t6182.47\n",
      "9\t10.0\t6869.41\n"
     ]
    }
   ],
   "source": [
    "print(\"Index\\tm_Ratio\\tForce\")  # note how special characters are tightly embedded into the string\n",
    "\n",
    "#for index in range(min(len(massRatioList), len(forceList))):\n",
    "for i, (massRatio, force) in enumerate(zip(massRatios, forces)):\n",
    "    print('{}\\t{:.1f}\\t{:.2f}'.format(i, massRatio, force))"
   ]
  },
  {
   "cell_type": "markdown",
   "metadata": {},
   "source": [
    "### List comprehension"
   ]
  },
  {
   "cell_type": "raw",
   "metadata": {},
   "source": [
    "Really, really compact way of populating lists:"
   ]
  },
  {
   "cell_type": "code",
   "execution_count": 221,
   "metadata": {
    "collapsed": false
   },
   "outputs": [
    {
     "data": {
      "text/plain": [
       "[0, 1, 2, 3, 4, 5, 6, 7, 8, 9]"
      ]
     },
     "execution_count": 221,
     "metadata": {},
     "output_type": "execute_result"
    }
   ],
   "source": [
    "mylist = []\n",
    "for i in range(10):\n",
    "    mylist.append(i)\n",
    "mylist"
   ]
  },
  {
   "cell_type": "markdown",
   "metadata": {},
   "source": [
    "can be written as:"
   ]
  },
  {
   "cell_type": "code",
   "execution_count": 224,
   "metadata": {
    "collapsed": false
   },
   "outputs": [
    {
     "data": {
      "text/plain": [
       "[0, 1, 4, 9, 16, 25, 36, 49, 64, 81]"
      ]
     },
     "execution_count": 224,
     "metadata": {},
     "output_type": "execute_result"
    }
   ],
   "source": [
    "mylist = [i**2 for i in range(10)]\n",
    "mylist"
   ]
  },
  {
   "cell_type": "code",
   "execution_count": 226,
   "metadata": {
    "collapsed": false
   },
   "outputs": [],
   "source": [
    "numElements = 10\n",
    "\n",
    "massRatios = [1.0 + index for index in range(numElements)]          # list comprehension!\n",
    "forces     = [massRatio * G * mEarth * mPerson / radius**2\\\n",
    "              for massRatio in massRatios]"
   ]
  },
  {
   "cell_type": "markdown",
   "metadata": {},
   "source": [
    "Wow, that is compact!  Two lines!  Did it work?"
   ]
  },
  {
   "cell_type": "code",
   "execution_count": 227,
   "metadata": {
    "collapsed": false
   },
   "outputs": [
    {
     "name": "stdout",
     "output_type": "stream",
     "text": [
      "Mass Ratio\tForce\n",
      "1.0\t\t686.94\n",
      "2.0\t\t1373.88\n",
      "3.0\t\t2060.82\n",
      "4.0\t\t2747.76\n",
      "5.0\t\t3434.70\n",
      "6.0\t\t4121.65\n",
      "7.0\t\t4808.59\n",
      "8.0\t\t5495.53\n",
      "9.0\t\t6182.47\n",
      "10.0\t\t6869.41\n"
     ]
    }
   ],
   "source": [
    "print(\"Mass Ratio\\tForce\")  # note that \"Mass Ratio\" is so long, it swallows one \\t from below.\n",
    "\n",
    "for massRatio,force in zip(massRatios, forces):\n",
    "    print('{:.1f}\\t\\t{:.2f}'.format(massRatio, force))"
   ]
  },
  {
   "cell_type": "markdown",
   "metadata": {},
   "source": [
    "### Learn how fast your code works"
   ]
  },
  {
   "cell_type": "code",
   "execution_count": 229,
   "metadata": {
    "collapsed": false
   },
   "outputs": [
    {
     "name": "stdout",
     "output_type": "stream",
     "text": [
      "100000 loops, best of 3: 6.95 µs per loop\n"
     ]
    }
   ],
   "source": [
    "%%timeit  # this is called \"IPython magic\"\n",
    "massRatios = [0] * numElements\n",
    "forces     = [0] * numElements\n",
    "\n",
    "#  Using a single for loop, populate the two lists\n",
    "for index in range(len(massRatios)):\n",
    "    #  Calculate the mass ratio\n",
    "    massRatios[index] = massRatioMin + index * massRatioDelta\n",
    "\n",
    "    #  Calculate the force\n",
    "    forces[index] = massRatioList[index] * G * mEarth * mPerson / radius**2\n"
   ]
  },
  {
   "cell_type": "code",
   "execution_count": 228,
   "metadata": {
    "collapsed": false
   },
   "outputs": [],
   "source": [
    "%%timeit?"
   ]
  },
  {
   "cell_type": "code",
   "execution_count": null,
   "metadata": {
    "collapsed": false
   },
   "outputs": [],
   "source": [
    "%%timeit\n",
    "numElements = 10\n",
    "\n",
    "massRatios = [1.0 + index for index in range(numElements)]          # list comprehension!\n",
    "forces     = [massRatio * G * mEarth * mPerson / radius**2 for massRatio in massRatioList]"
   ]
  },
  {
   "cell_type": "markdown",
   "metadata": {},
   "source": [
    "In Python 2 the shorter version was 26% faster, in Python 3 not much.\n",
    "\n",
    "While writing compact code is elegant, it may come at the cost of readability. \n",
    "\n",
    "Use with caution! \n",
    "\n",
    "Advice: err on the side of easily comprehensible code."
   ]
  },
  {
   "cell_type": "markdown",
   "metadata": {},
   "source": [
    "#### Q. When might you use a while loop instead of a for loop?"
   ]
  },
  {
   "cell_type": "raw",
   "metadata": {},
   "source": [
    "\n",
    "\n",
    "\n",
    "\n",
    "\n",
    "\n",
    "\n",
    "\n",
    "\n",
    "\n",
    "\n",
    "\n",
    "\n",
    "\n",
    "\n",
    "\n"
   ]
  },
  {
   "cell_type": "markdown",
   "metadata": {},
   "source": [
    "#### Q. When might you use a for loop instead of a while loop?"
   ]
  },
  {
   "cell_type": "raw",
   "metadata": {},
   "source": [
    "\n",
    "\n",
    "\n",
    "\n",
    "\n",
    "\n",
    "\n",
    "\n",
    "\n",
    "\n",
    "\n",
    "\n",
    "\n",
    "\n",
    "\n",
    "\n"
   ]
  },
  {
   "cell_type": "markdown",
   "metadata": {},
   "source": [
    "If you don't have a tidy data structure to iterate through, or you don't have a generator function (like `range()`) that drives your processing, you must use `while`."
   ]
  },
  {
   "cell_type": "code",
   "execution_count": null,
   "metadata": {
    "collapsed": true
   },
   "outputs": [],
   "source": []
  }
 ],
 "metadata": {
  "kernelspec": {
   "display_name": "Python3 (stable)",
   "language": "python",
   "name": "stable"
  },
  "language_info": {
   "codemirror_mode": {
    "name": "ipython",
    "version": 3
   },
   "file_extension": ".py",
   "mimetype": "text/x-python",
   "name": "python",
   "nbconvert_exporter": "python",
   "pygments_lexer": "ipython3",
   "version": "3.5.1"
  },
  "widgets": {
   "state": {},
   "version": "1.1.1"
  }
 },
 "nbformat": 4,
 "nbformat_minor": 0
}
