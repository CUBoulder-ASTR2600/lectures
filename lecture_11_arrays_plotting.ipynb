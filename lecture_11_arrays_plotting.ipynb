{
 "cells": [
  {
   "cell_type": "markdown",
   "metadata": {},
   "source": [
    "# Plotting Arrays Using matplotlib"
   ]
  },
  {
   "cell_type": "code",
   "execution_count": null,
   "metadata": {
    "collapsed": false
   },
   "outputs": [],
   "source": [
    "%matplotlib inline"
   ]
  },
  {
   "cell_type": "markdown",
   "metadata": {},
   "source": [
    "The argument after the ipython magic is called the `backend` for plotting. There are several available, also for creating their own zoomable windows. But we also can zoom within the notebook, see below."
   ]
  },
  {
   "cell_type": "code",
   "execution_count": null,
   "metadata": {
    "collapsed": false
   },
   "outputs": [],
   "source": [
    "import numpy as np\n",
    "import matplotlib.pyplot as pl # import this for plotting routines"
   ]
  },
  {
   "cell_type": "markdown",
   "metadata": {},
   "source": [
    "### Refresher -- acceleration with no initial velocity or displacement"
   ]
  },
  {
   "cell_type": "code",
   "execution_count": 83,
   "metadata": {
    "collapsed": false
   },
   "outputs": [],
   "source": [
    "a = 9.8       # Acceleration m s^{-2}\n",
    "count = 101   # Number of numbers\n",
    "\n",
    "timeArray = np.linspace(0, 10, count)    # Create an array of 101 times between 0 and 10 (inclusive)\n",
    "distArray = 0.5 * a * timeArray**2       # Create an array of distances calculate from the times"
   ]
  },
  {
   "cell_type": "markdown",
   "metadata": {},
   "source": [
    "#### Q. What do these arrays (distArray and timeArray) contain?"
   ]
  },
  {
   "cell_type": "code",
   "execution_count": 84,
   "metadata": {
    "collapsed": false
   },
   "outputs": [
    {
     "name": "stdout",
     "output_type": "stream",
     "text": [
      "[  0.    0.1   0.2   0.3   0.4   0.5   0.6   0.7   0.8   0.9   1.    1.1\n",
      "   1.2   1.3   1.4   1.5   1.6   1.7   1.8   1.9   2.    2.1   2.2   2.3\n",
      "   2.4   2.5   2.6   2.7   2.8   2.9   3.    3.1   3.2   3.3   3.4   3.5\n",
      "   3.6   3.7   3.8   3.9   4.    4.1   4.2   4.3   4.4   4.5   4.6   4.7\n",
      "   4.8   4.9   5.    5.1   5.2   5.3   5.4   5.5   5.6   5.7   5.8   5.9\n",
      "   6.    6.1   6.2   6.3   6.4   6.5   6.6   6.7   6.8   6.9   7.    7.1\n",
      "   7.2   7.3   7.4   7.5   7.6   7.7   7.8   7.9   8.    8.1   8.2   8.3\n",
      "   8.4   8.5   8.6   8.7   8.8   8.9   9.    9.1   9.2   9.3   9.4   9.5\n",
      "   9.6   9.7   9.8   9.9  10. ]\n",
      "[  0.00000000e+00   4.90000000e-02   1.96000000e-01   4.41000000e-01\n",
      "   7.84000000e-01   1.22500000e+00   1.76400000e+00   2.40100000e+00\n",
      "   3.13600000e+00   3.96900000e+00   4.90000000e+00   5.92900000e+00\n",
      "   7.05600000e+00   8.28100000e+00   9.60400000e+00   1.10250000e+01\n",
      "   1.25440000e+01   1.41610000e+01   1.58760000e+01   1.76890000e+01\n",
      "   1.96000000e+01   2.16090000e+01   2.37160000e+01   2.59210000e+01\n",
      "   2.82240000e+01   3.06250000e+01   3.31240000e+01   3.57210000e+01\n",
      "   3.84160000e+01   4.12090000e+01   4.41000000e+01   4.70890000e+01\n",
      "   5.01760000e+01   5.33610000e+01   5.66440000e+01   6.00250000e+01\n",
      "   6.35040000e+01   6.70810000e+01   7.07560000e+01   7.45290000e+01\n",
      "   7.84000000e+01   8.23690000e+01   8.64360000e+01   9.06010000e+01\n",
      "   9.48640000e+01   9.92250000e+01   1.03684000e+02   1.08241000e+02\n",
      "   1.12896000e+02   1.17649000e+02   1.22500000e+02   1.27449000e+02\n",
      "   1.32496000e+02   1.37641000e+02   1.42884000e+02   1.48225000e+02\n",
      "   1.53664000e+02   1.59201000e+02   1.64836000e+02   1.70569000e+02\n",
      "   1.76400000e+02   1.82329000e+02   1.88356000e+02   1.94481000e+02\n",
      "   2.00704000e+02   2.07025000e+02   2.13444000e+02   2.19961000e+02\n",
      "   2.26576000e+02   2.33289000e+02   2.40100000e+02   2.47009000e+02\n",
      "   2.54016000e+02   2.61121000e+02   2.68324000e+02   2.75625000e+02\n",
      "   2.83024000e+02   2.90521000e+02   2.98116000e+02   3.05809000e+02\n",
      "   3.13600000e+02   3.21489000e+02   3.29476000e+02   3.37561000e+02\n",
      "   3.45744000e+02   3.54025000e+02   3.62404000e+02   3.70881000e+02\n",
      "   3.79456000e+02   3.88129000e+02   3.96900000e+02   4.05769000e+02\n",
      "   4.14736000e+02   4.23801000e+02   4.32964000e+02   4.42225000e+02\n",
      "   4.51584000e+02   4.61041000e+02   4.70596000e+02   4.80249000e+02\n",
      "   4.90000000e+02]\n"
     ]
    }
   ],
   "source": [
    "print(timeArray)\n",
    "print\n",
    "print(distArray)"
   ]
  },
  {
   "cell_type": "markdown",
   "metadata": {},
   "source": [
    "#### To plot distArray vs. timeArray with a scatter plot:"
   ]
  },
  {
   "cell_type": "code",
   "execution_count": 85,
   "metadata": {
    "collapsed": false
   },
   "outputs": [
    {
     "data": {
      "text/plain": [
       "<matplotlib.collections.PathCollection at 0x119210b70>"
      ]
     },
     "execution_count": 85,
     "metadata": {},
     "output_type": "execute_result"
    },
    {
     "data": {
      "image/png": "[encoded data removed]",
      "text/plain": [
       "<matplotlib.figure.Figure at 0x1193b6588>"
      ]
     },
     "metadata": {},
     "output_type": "display_data"
    }
   ],
   "source": [
    "pl.scatter(timeArray, distArray, color = 'k')"
   ]
  },
  {
   "cell_type": "markdown",
   "metadata": {},
   "source": [
    "#### To plot just a section to see the discrete nature (and add labels):"
   ]
  },
  {
   "cell_type": "code",
   "execution_count": 86,
   "metadata": {
    "collapsed": false
   },
   "outputs": [
    {
     "data": {
      "text/plain": [
       "<matplotlib.text.Text at 0x119303a20>"
      ]
     },
     "execution_count": 86,
     "metadata": {},
     "output_type": "execute_result"
    },
    {
     "data": {
      "image/png": "[encoded data removed]",
      "text/plain": [
       "<matplotlib.figure.Figure at 0x11921d0b8>"
      ]
     },
     "metadata": {},
     "output_type": "display_data"
    }
   ],
   "source": [
    "pl.scatter(timeArray, distArray, color = 'k')\n",
    "\n",
    "pl.xlim(4, 6)\n",
    "pl.ylim(50, 200)\n",
    "\n",
    "pl.xlabel('time (s)')\n",
    "pl.ylabel('distance (m)')"
   ]
  },
  {
   "cell_type": "markdown",
   "metadata": {},
   "source": [
    "#### Now with the notebook backend:"
   ]
  },
  {
   "cell_type": "code",
   "execution_count": 87,
   "metadata": {
    "collapsed": true
   },
   "outputs": [],
   "source": [
    "%matplotlib notebook"
   ]
  },
  {
   "cell_type": "code",
   "execution_count": 88,
   "metadata": {
    "collapsed": false
   },
   "outputs": [
    {
     "data": {
      "application/javascript": [
       "/* Put everything inside the global mpl namespace */\n",
       "window.mpl = {};\n",
       "\n",
       "mpl.get_websocket_type = function() {\n",
       "    if (typeof(WebSocket) !== 'undefined') {\n",
       "        return WebSocket;\n",
       "    } else if (typeof(MozWebSocket) !== 'undefined') {\n",
       "        return MozWebSocket;\n",
       "    } else {\n",
       "        alert('Your browser does not have WebSocket support.' +\n",
       "              'Please try Chrome, Safari or Firefox ≥ 6. ' +\n",
       "              'Firefox 4 and 5 are also supported but you ' +\n",
       "              'have to enable WebSockets in about:config.');\n",
       "    };\n",
       "}\n",
       "\n",
       "mpl.figure = function(figure_id, websocket, ondownload, parent_element) {\n",
       "    this.id = figure_id;\n",
       "\n",
       "    this.ws = websocket;\n",
       "\n",
       "    this.supports_binary = (this.ws.binaryType != undefined);\n",
       "\n",
       "    if (!this.supports_binary) {\n",
       "        var warnings = document.getElementById(\"mpl-warnings\");\n",
       "        if (warnings) {\n",
       "            warnings.style.display = 'block';\n",
       "            warnings.textContent = (\n",
       "                \"This browser does not support binary websocket messages. \" +\n",
       "                    \"Performance may be slow.\");\n",
       "        }\n",
       "    }\n",
       "\n",
       "    this.imageObj = new Image();\n",
       "\n",
       "    this.context = undefined;\n",
       "    this.message = undefined;\n",
       "    this.canvas = undefined;\n",
       "    this.rubberband_canvas = undefined;\n",
       "    this.rubberband_context = undefined;\n",
       "    this.format_dropdown = undefined;\n",
       "\n",
       "    this.image_mode = 'full';\n",
       "\n",
       "    this.root = $('<div/>');\n",
       "    this._root_extra_style(this.root)\n",
       "    this.root.attr('style', 'display: inline-block');\n",
       "\n",
       "    $(parent_element).append(this.root);\n",
       "\n",
       "    this._init_header(this);\n",
       "    this._init_canvas(this);\n",
       "    this._init_toolbar(this);\n",
       "\n",
       "    var fig = this;\n",
       "\n",
       "    this.waiting = false;\n",
       "\n",
       "    this.ws.onopen =  function () {\n",
       "            fig.send_message(\"supports_binary\", {value: fig.supports_binary});\n",
       "            fig.send_message(\"send_image_mode\", {});\n",
       "            fig.send_message(\"refresh\", {});\n",
       "        }\n",
       "\n",
       "    this.imageObj.onload = function() {\n",
       "            if (fig.image_mode == 'full') {\n",
       "                // Full images could contain transparency (where diff images\n",
       "                // almost always do), so we need to clear the canvas so that\n",
       "                // there is no ghosting.\n",
       "                fig.context.clearRect(0, 0, fig.canvas.width, fig.canvas.height);\n",
       "            }\n",
       "            fig.context.drawImage(fig.imageObj, 0, 0);\n",
       "        };\n",
       "\n",
       "    this.imageObj.onunload = function() {\n",
       "        this.ws.close();\n",
       "    }\n",
       "\n",
       "    this.ws.onmessage = this._make_on_message_function(this);\n",
       "\n",
       "    this.ondownload = ondownload;\n",
       "}\n",
       "\n",
       "mpl.figure.prototype._init_header = function() {\n",
       "    var titlebar = $(\n",
       "        '<div class=\"ui-dialog-titlebar ui-widget-header ui-corner-all ' +\n",
       "        'ui-helper-clearfix\"/>');\n",
       "    var titletext = $(\n",
       "        '<div class=\"ui-dialog-title\" style=\"width: 100%; ' +\n",
       "        'text-align: center; padding: 3px;\"/>');\n",
       "    titlebar.append(titletext)\n",
       "    this.root.append(titlebar);\n",
       "    this.header = titletext[0];\n",
       "}\n",
       "\n",
       "\n",
       "\n",
       "mpl.figure.prototype._canvas_extra_style = function(canvas_div) {\n",
       "\n",
       "}\n",
       "\n",
       "\n",
       "mpl.figure.prototype._root_extra_style = function(canvas_div) {\n",
       "\n",
       "}\n",
       "\n",
       "mpl.figure.prototype._init_canvas = function() {\n",
       "    var fig = this;\n",
       "\n",
       "    var canvas_div = $('<div/>');\n",
       "\n",
       "    canvas_div.attr('style', 'position: relative; clear: both; outline: 0');\n",
       "\n",
       "    function canvas_keyboard_event(event) {\n",
       "        return fig.key_event(event, event['data']);\n",
       "    }\n",
       "\n",
       "    canvas_div.keydown('key_press', canvas_keyboard_event);\n",
       "    canvas_div.keyup('key_release', canvas_keyboard_event);\n",
       "    this.canvas_div = canvas_div\n",
       "    this._canvas_extra_style(canvas_div)\n",
       "    this.root.append(canvas_div);\n",
       "\n",
       "    var canvas = $('<canvas/>');\n",
       "    canvas.addClass('mpl-canvas');\n",
       "    canvas.attr('style', \"left: 0; top: 0; z-index: 0; outline: 0\")\n",
       "\n",
       "    this.canvas = canvas[0];\n",
       "    this.context = canvas[0].getContext(\"2d\");\n",
       "\n",
       "    var rubberband = $('<canvas/>');\n",
       "    rubberband.attr('style', \"position: absolute; left: 0; top: 0; z-index: 1;\")\n",
       "\n",
       "    var pass_mouse_events = true;\n",
       "\n",
       "    canvas_div.resizable({\n",
       "        start: function(event, ui) {\n",
       "            pass_mouse_events = false;\n",
       "        },\n",
       "        resize: function(event, ui) {\n",
       "            fig.request_resize(ui.size.width, ui.size.height);\n",
       "        },\n",
       "        stop: function(event, ui) {\n",
       "            pass_mouse_events = true;\n",
       "            fig.request_resize(ui.size.width, ui.size.height);\n",
       "        },\n",
       "    });\n",
       "\n",
       "    function mouse_event_fn(event) {\n",
       "        if (pass_mouse_events)\n",
       "            return fig.mouse_event(event, event['data']);\n",
       "    }\n",
       "\n",
       "    rubberband.mousedown('button_press', mouse_event_fn);\n",
       "    rubberband.mouseup('button_release', mouse_event_fn);\n",
       "    // Throttle sequential mouse events to 1 every 20ms.\n",
       "    rubberband.mousemove('motion_notify', mouse_event_fn);\n",
       "\n",
       "    rubberband.mouseenter('figure_enter', mouse_event_fn);\n",
       "    rubberband.mouseleave('figure_leave', mouse_event_fn);\n",
       "\n",
       "    canvas_div.on(\"wheel\", function (event) {\n",
       "        event = event.originalEvent;\n",
       "        event['data'] = 'scroll'\n",
       "        if (event.deltaY < 0) {\n",
       "            event.step = 1;\n",
       "        } else {\n",
       "            event.step = -1;\n",
       "        }\n",
       "        mouse_event_fn(event);\n",
       "    });\n",
       "\n",
       "    canvas_div.append(canvas);\n",
       "    canvas_div.append(rubberband);\n",
       "\n",
       "    this.rubberband = rubberband;\n",
       "    this.rubberband_canvas = rubberband[0];\n",
       "    this.rubberband_context = rubberband[0].getContext(\"2d\");\n",
       "    this.rubberband_context.strokeStyle = \"#000000\";\n",
       "\n",
       "    this._resize_canvas = function(width, height) {\n",
       "        // Keep the size of the canvas, canvas container, and rubber band\n",
       "        // canvas in synch.\n",
       "        canvas_div.css('width', width)\n",
       "        canvas_div.css('height', height)\n",
       "\n",
       "        canvas.attr('width', width);\n",
       "        canvas.attr('height', height);\n",
       "\n",
       "        rubberband.attr('width', width);\n",
       "        rubberband.attr('height', height);\n",
       "    }\n",
       "\n",
       "    // Set the figure to an initial 600x600px, this will subsequently be updated\n",
       "    // upon first draw.\n",
       "    this._resize_canvas(600, 600);\n",
       "\n",
       "    // Disable right mouse context menu.\n",
       "    $(this.rubberband_canvas).bind(\"contextmenu\",function(e){\n",
       "        return false;\n",
       "    });\n",
       "\n",
       "    function set_focus () {\n",
       "        canvas.focus();\n",
       "        canvas_div.focus();\n",
       "    }\n",
       "\n",
       "    window.setTimeout(set_focus, 100);\n",
       "}\n",
       "\n",
       "mpl.figure.prototype._init_toolbar = function() {\n",
       "    var fig = this;\n",
       "\n",
       "    var nav_element = $('<div/>')\n",
       "    nav_element.attr('style', 'width: 100%');\n",
       "    this.root.append(nav_element);\n",
       "\n",
       "    // Define a callback function for later on.\n",
       "    function toolbar_event(event) {\n",
       "        return fig.toolbar_button_onclick(event['data']);\n",
       "    }\n",
       "    function toolbar_mouse_event(event) {\n",
       "        return fig.toolbar_button_onmouseover(event['data']);\n",
       "    }\n",
       "\n",
       "    for(var toolbar_ind in mpl.toolbar_items) {\n",
       "        var name = mpl.toolbar_items[toolbar_ind][0];\n",
       "        var tooltip = mpl.toolbar_items[toolbar_ind][1];\n",
       "        var image = mpl.toolbar_items[toolbar_ind][2];\n",
       "        var method_name = mpl.toolbar_items[toolbar_ind][3];\n",
       "\n",
       "        if (!name) {\n",
       "            // put a spacer in here.\n",
       "            continue;\n",
       "        }\n",
       "        var button = $('<button/>');\n",
       "        button.addClass('ui-button ui-widget ui-state-default ui-corner-all ' +\n",
       "                        'ui-button-icon-only');\n",
       "        button.attr('role', 'button');\n",
       "        button.attr('aria-disabled', 'false');\n",
       "        button.click(method_name, toolbar_event);\n",
       "        button.mouseover(tooltip, toolbar_mouse_event);\n",
       "\n",
       "        var icon_img = $('<span/>');\n",
       "        icon_img.addClass('ui-button-icon-primary ui-icon');\n",
       "        icon_img.addClass(image);\n",
       "        icon_img.addClass('ui-corner-all');\n",
       "\n",
       "        var tooltip_span = $('<span/>');\n",
       "        tooltip_span.addClass('ui-button-text');\n",
       "        tooltip_span.html(tooltip);\n",
       "\n",
       "        button.append(icon_img);\n",
       "        button.append(tooltip_span);\n",
       "\n",
       "        nav_element.append(button);\n",
       "    }\n",
       "\n",
       "    var fmt_picker_span = $('<span/>');\n",
       "\n",
       "    var fmt_picker = $('<select/>');\n",
       "    fmt_picker.addClass('mpl-toolbar-option ui-widget ui-widget-content');\n",
       "    fmt_picker_span.append(fmt_picker);\n",
       "    nav_element.append(fmt_picker_span);\n",
       "    this.format_dropdown = fmt_picker[0];\n",
       "\n",
       "    for (var ind in mpl.extensions) {\n",
       "        var fmt = mpl.extensions[ind];\n",
       "        var option = $(\n",
       "            '<option/>', {selected: fmt === mpl.default_extension}).html(fmt);\n",
       "        fmt_picker.append(option)\n",
       "    }\n",
       "\n",
       "    // Add hover states to the ui-buttons\n",
       "    $( \".ui-button\" ).hover(\n",
       "        function() { $(this).addClass(\"ui-state-hover\");},\n",
       "        function() { $(this).removeClass(\"ui-state-hover\");}\n",
       "    );\n",
       "\n",
       "    var status_bar = $('<span class=\"mpl-message\"/>');\n",
       "    nav_element.append(status_bar);\n",
       "    this.message = status_bar[0];\n",
       "}\n",
       "\n",
       "mpl.figure.prototype.request_resize = function(x_pixels, y_pixels) {\n",
       "    // Request matplotlib to resize the figure. Matplotlib will then trigger a resize in the client,\n",
       "    // which will in turn request a refresh of the image.\n",
       "    this.send_message('resize', {'width': x_pixels, 'height': y_pixels});\n",
       "}\n",
       "\n",
       "mpl.figure.prototype.send_message = function(type, properties) {\n",
       "    properties['type'] = type;\n",
       "    properties['figure_id'] = this.id;\n",
       "    this.ws.send(JSON.stringify(properties));\n",
       "}\n",
       "\n",
       "mpl.figure.prototype.send_draw_message = function() {\n",
       "    if (!this.waiting) {\n",
       "        this.waiting = true;\n",
       "        this.ws.send(JSON.stringify({type: \"draw\", figure_id: this.id}));\n",
       "    }\n",
       "}\n",
       "\n",
       "\n",
       "mpl.figure.prototype.handle_save = function(fig, msg) {\n",
       "    var format_dropdown = fig.format_dropdown;\n",
       "    var format = format_dropdown.options[format_dropdown.selectedIndex].value;\n",
       "    fig.ondownload(fig, format);\n",
       "}\n",
       "\n",
       "\n",
       "mpl.figure.prototype.handle_resize = function(fig, msg) {\n",
       "    var size = msg['size'];\n",
       "    if (size[0] != fig.canvas.width || size[1] != fig.canvas.height) {\n",
       "        fig._resize_canvas(size[0], size[1]);\n",
       "        fig.send_message(\"refresh\", {});\n",
       "    };\n",
       "}\n",
       "\n",
       "mpl.figure.prototype.handle_rubberband = function(fig, msg) {\n",
       "    var x0 = msg['x0'];\n",
       "    var y0 = fig.canvas.height - msg['y0'];\n",
       "    var x1 = msg['x1'];\n",
       "    var y1 = fig.canvas.height - msg['y1'];\n",
       "    x0 = Math.floor(x0) + 0.5;\n",
       "    y0 = Math.floor(y0) + 0.5;\n",
       "    x1 = Math.floor(x1) + 0.5;\n",
       "    y1 = Math.floor(y1) + 0.5;\n",
       "    var min_x = Math.min(x0, x1);\n",
       "    var min_y = Math.min(y0, y1);\n",
       "    var width = Math.abs(x1 - x0);\n",
       "    var height = Math.abs(y1 - y0);\n",
       "\n",
       "    fig.rubberband_context.clearRect(\n",
       "        0, 0, fig.canvas.width, fig.canvas.height);\n",
       "\n",
       "    fig.rubberband_context.strokeRect(min_x, min_y, width, height);\n",
       "}\n",
       "\n",
       "mpl.figure.prototype.handle_figure_label = function(fig, msg) {\n",
       "    // Updates the figure title.\n",
       "    fig.header.textContent = msg['label'];\n",
       "}\n",
       "\n",
       "mpl.figure.prototype.handle_cursor = function(fig, msg) {\n",
       "    var cursor = msg['cursor'];\n",
       "    switch(cursor)\n",
       "    {\n",
       "    case 0:\n",
       "        cursor = 'pointer';\n",
       "        break;\n",
       "    case 1:\n",
       "        cursor = 'default';\n",
       "        break;\n",
       "    case 2:\n",
       "        cursor = 'crosshair';\n",
       "        break;\n",
       "    case 3:\n",
       "        cursor = 'move';\n",
       "        break;\n",
       "    }\n",
       "    fig.rubberband_canvas.style.cursor = cursor;\n",
       "}\n",
       "\n",
       "mpl.figure.prototype.handle_message = function(fig, msg) {\n",
       "    fig.message.textContent = msg['message'];\n",
       "}\n",
       "\n",
       "mpl.figure.prototype.handle_draw = function(fig, msg) {\n",
       "    // Request the server to send over a new figure.\n",
       "    fig.send_draw_message();\n",
       "}\n",
       "\n",
       "mpl.figure.prototype.handle_image_mode = function(fig, msg) {\n",
       "    fig.image_mode = msg['mode'];\n",
       "}\n",
       "\n",
       "mpl.figure.prototype.updated_canvas_event = function() {\n",
       "    // Called whenever the canvas gets updated.\n",
       "    this.send_message(\"ack\", {});\n",
       "}\n",
       "\n",
       "// A function to construct a web socket function for onmessage handling.\n",
       "// Called in the figure constructor.\n",
       "mpl.figure.prototype._make_on_message_function = function(fig) {\n",
       "    return function socket_on_message(evt) {\n",
       "        if (evt.data instanceof Blob) {\n",
       "            /* FIXME: We get \"Resource interpreted as Image but\n",
       "             * transferred with MIME type text/plain:\" errors on\n",
       "             * Chrome.  But how to set the MIME type?  It doesn't seem\n",
       "             * to be part of the websocket stream */\n",
       "            evt.data.type = \"image/png\";\n",
       "\n",
       "            /* Free the memory for the previous frames */\n",
       "            if (fig.imageObj.src) {\n",
       "                (window.URL || window.webkitURL).revokeObjectURL(\n",
       "                    fig.imageObj.src);\n",
       "            }\n",
       "\n",
       "            fig.imageObj.src = (window.URL || window.webkitURL).createObjectURL(\n",
       "                evt.data);\n",
       "            fig.updated_canvas_event();\n",
       "            fig.waiting = false;\n",
       "            return;\n",
       "        }\n",
       "        else if (typeof evt.data === 'string' && evt.data.slice(0, 21) == \"data:image/png;base64\") {\n",
       "            fig.imageObj.src = evt.data;\n",
       "            fig.updated_canvas_event();\n",
       "            fig.waiting = false;\n",
       "            return;\n",
       "        }\n",
       "\n",
       "        var msg = JSON.parse(evt.data);\n",
       "        var msg_type = msg['type'];\n",
       "\n",
       "        // Call the  \"handle_{type}\" callback, which takes\n",
       "        // the figure and JSON message as its only arguments.\n",
       "        try {\n",
       "            var callback = fig[\"handle_\" + msg_type];\n",
       "        } catch (e) {\n",
       "            console.log(\"No handler for the '\" + msg_type + \"' message type: \", msg);\n",
       "            return;\n",
       "        }\n",
       "\n",
       "        if (callback) {\n",
       "            try {\n",
       "                // console.log(\"Handling '\" + msg_type + \"' message: \", msg);\n",
       "                callback(fig, msg);\n",
       "            } catch (e) {\n",
       "                console.log(\"Exception inside the 'handler_\" + msg_type + \"' callback:\", e, e.stack, msg);\n",
       "            }\n",
       "        }\n",
       "    };\n",
       "}\n",
       "\n",
       "// from http://stackoverflow.com/questions/1114465/getting-mouse-location-in-canvas\n",
       "mpl.findpos = function(e) {\n",
       "    //this section is from http://www.quirksmode.org/js/events_properties.html\n",
       "    var targ;\n",
       "    if (!e)\n",
       "        e = window.event;\n",
       "    if (e.target)\n",
       "        targ = e.target;\n",
       "    else if (e.srcElement)\n",
       "        targ = e.srcElement;\n",
       "    if (targ.nodeType == 3) // defeat Safari bug\n",
       "        targ = targ.parentNode;\n",
       "\n",
       "    // jQuery normalizes the pageX and pageY\n",
       "    // pageX,Y are the mouse positions relative to the document\n",
       "    // offset() returns the position of the element relative to the document\n",
       "    var x = e.pageX - $(targ).offset().left;\n",
       "    var y = e.pageY - $(targ).offset().top;\n",
       "\n",
       "    return {\"x\": x, \"y\": y};\n",
       "};\n",
       "\n",
       "/*\n",
       " * return a copy of an object with only non-object keys\n",
       " * we need this to avoid circular references\n",
       " * http://stackoverflow.com/a/24161582/3208463\n",
       " */\n",
       "function simpleKeys (original) {\n",
       "  return Object.keys(original).reduce(function (obj, key) {\n",
       "    if (typeof original[key] !== 'object')\n",
       "        obj[key] = original[key]\n",
       "    return obj;\n",
       "  }, {});\n",
       "}\n",
       "\n",
       "mpl.figure.prototype.mouse_event = function(event, name) {\n",
       "    var canvas_pos = mpl.findpos(event)\n",
       "\n",
       "    if (name === 'button_press')\n",
       "    {\n",
       "        this.canvas.focus();\n",
       "        this.canvas_div.focus();\n",
       "    }\n",
       "\n",
       "    var x = canvas_pos.x;\n",
       "    var y = canvas_pos.y;\n",
       "\n",
       "    this.send_message(name, {x: x, y: y, button: event.button,\n",
       "                             step: event.step,\n",
       "                             guiEvent: simpleKeys(event)});\n",
       "\n",
       "    /* This prevents the web browser from automatically changing to\n",
       "     * the text insertion cursor when the button is pressed.  We want\n",
       "     * to control all of the cursor setting manually through the\n",
       "     * 'cursor' event from matplotlib */\n",
       "    event.preventDefault();\n",
       "    return false;\n",
       "}\n",
       "\n",
       "mpl.figure.prototype._key_event_extra = function(event, name) {\n",
       "    // Handle any extra behaviour associated with a key event\n",
       "}\n",
       "\n",
       "mpl.figure.prototype.key_event = function(event, name) {\n",
       "\n",
       "    // Prevent repeat events\n",
       "    if (name == 'key_press')\n",
       "    {\n",
       "        if (event.which === this._key)\n",
       "            return;\n",
       "        else\n",
       "            this._key = event.which;\n",
       "    }\n",
       "    if (name == 'key_release')\n",
       "        this._key = null;\n",
       "\n",
       "    var value = '';\n",
       "    if (event.ctrlKey && event.which != 17)\n",
       "        value += \"ctrl+\";\n",
       "    if (event.altKey && event.which != 18)\n",
       "        value += \"alt+\";\n",
       "    if (event.shiftKey && event.which != 16)\n",
       "        value += \"shift+\";\n",
       "\n",
       "    value += 'k';\n",
       "    value += event.which.toString();\n",
       "\n",
       "    this._key_event_extra(event, name);\n",
       "\n",
       "    this.send_message(name, {key: value,\n",
       "                             guiEvent: simpleKeys(event)});\n",
       "    return false;\n",
       "}\n",
       "\n",
       "mpl.figure.prototype.toolbar_button_onclick = function(name) {\n",
       "    if (name == 'download') {\n",
       "        this.handle_save(this, null);\n",
       "    } else {\n",
       "        this.send_message(\"toolbar_button\", {name: name});\n",
       "    }\n",
       "};\n",
       "\n",
       "mpl.figure.prototype.toolbar_button_onmouseover = function(tooltip) {\n",
       "    this.message.textContent = tooltip;\n",
       "};\n",
       "mpl.toolbar_items = [[\"Home\", \"Reset original view\", \"fa fa-home icon-home\", \"home\"], [\"Back\", \"Back to  previous view\", \"fa fa-arrow-left icon-arrow-left\", \"back\"], [\"Forward\", \"Forward to next view\", \"fa fa-arrow-right icon-arrow-right\", \"forward\"], [\"\", \"\", \"\", \"\"], [\"Pan\", \"Pan axes with left mouse, zoom with right\", \"fa fa-arrows icon-move\", \"pan\"], [\"Zoom\", \"Zoom to rectangle\", \"fa fa-square-o icon-check-empty\", \"zoom\"], [\"\", \"\", \"\", \"\"], [\"Download\", \"Download plot\", \"fa fa-floppy-o icon-save\", \"download\"]];\n",
       "\n",
       "mpl.extensions = [\"eps\", \"jpeg\", \"pdf\", \"png\", \"ps\", \"raw\", \"svg\", \"tif\"];\n",
       "\n",
       "mpl.default_extension = \"png\";var comm_websocket_adapter = function(comm) {\n",
       "    // Create a \"websocket\"-like object which calls the given IPython comm\n",
       "    // object with the appropriate methods. Currently this is a non binary\n",
       "    // socket, so there is still some room for performance tuning.\n",
       "    var ws = {};\n",
       "\n",
       "    ws.close = function() {\n",
       "        comm.close()\n",
       "    };\n",
       "    ws.send = function(m) {\n",
       "        //console.log('sending', m);\n",
       "        comm.send(m);\n",
       "    };\n",
       "    // Register the callback with on_msg.\n",
       "    comm.on_msg(function(msg) {\n",
       "        //console.log('receiving', msg['content']['data'], msg);\n",
       "        // Pass the mpl event to the overriden (by mpl) onmessage function.\n",
       "        ws.onmessage(msg['content']['data'])\n",
       "    });\n",
       "    return ws;\n",
       "}\n",
       "\n",
       "mpl.mpl_figure_comm = function(comm, msg) {\n",
       "    // This is the function which gets called when the mpl process\n",
       "    // starts-up an IPython Comm through the \"matplotlib\" channel.\n",
       "\n",
       "    var id = msg.content.data.id;\n",
       "    // Get hold of the div created by the display call when the Comm\n",
       "    // socket was opened in Python.\n",
       "    var element = $(\"#\" + id);\n",
       "    var ws_proxy = comm_websocket_adapter(comm)\n",
       "\n",
       "    function ondownload(figure, format) {\n",
       "        window.open(figure.imageObj.src);\n",
       "    }\n",
       "\n",
       "    var fig = new mpl.figure(id, ws_proxy,\n",
       "                           ondownload,\n",
       "                           element.get(0));\n",
       "\n",
       "    // Call onopen now - mpl needs it, as it is assuming we've passed it a real\n",
       "    // web socket which is closed, not our websocket->open comm proxy.\n",
       "    ws_proxy.onopen();\n",
       "\n",
       "    fig.parent_element = element.get(0);\n",
       "    fig.cell_info = mpl.find_output_cell(\"<div id='\" + id + \"'></div>\");\n",
       "    if (!fig.cell_info) {\n",
       "        console.error(\"Failed to find cell for figure\", id, fig);\n",
       "        return;\n",
       "    }\n",
       "\n",
       "    var output_index = fig.cell_info[2]\n",
       "    var cell = fig.cell_info[0];\n",
       "\n",
       "};\n",
       "\n",
       "mpl.figure.prototype.handle_close = function(fig, msg) {\n",
       "    fig.root.unbind('remove')\n",
       "\n",
       "    // Update the output cell to use the data from the current canvas.\n",
       "    fig.push_to_output();\n",
       "    var dataURL = fig.canvas.toDataURL();\n",
       "    // Re-enable the keyboard manager in IPython - without this line, in FF,\n",
       "    // the notebook keyboard shortcuts fail.\n",
       "    IPython.keyboard_manager.enable()\n",
       "    $(fig.parent_element).html('<img src=\"' + dataURL + '\">');\n",
       "    fig.close_ws(fig, msg);\n",
       "}\n",
       "\n",
       "mpl.figure.prototype.close_ws = function(fig, msg){\n",
       "    fig.send_message('closing', msg);\n",
       "    // fig.ws.close()\n",
       "}\n",
       "\n",
       "mpl.figure.prototype.push_to_output = function(remove_interactive) {\n",
       "    // Turn the data on the canvas into data in the output cell.\n",
       "    var dataURL = this.canvas.toDataURL();\n",
       "    this.cell_info[1]['text/html'] = '<img src=\"' + dataURL + '\">';\n",
       "}\n",
       "\n",
       "mpl.figure.prototype.updated_canvas_event = function() {\n",
       "    // Tell IPython that the notebook contents must change.\n",
       "    IPython.notebook.set_dirty(true);\n",
       "    this.send_message(\"ack\", {});\n",
       "    var fig = this;\n",
       "    // Wait a second, then push the new image to the DOM so\n",
       "    // that it is saved nicely (might be nice to debounce this).\n",
       "    setTimeout(function () { fig.push_to_output() }, 1000);\n",
       "}\n",
       "\n",
       "mpl.figure.prototype._init_toolbar = function() {\n",
       "    var fig = this;\n",
       "\n",
       "    var nav_element = $('<div/>')\n",
       "    nav_element.attr('style', 'width: 100%');\n",
       "    this.root.append(nav_element);\n",
       "\n",
       "    // Define a callback function for later on.\n",
       "    function toolbar_event(event) {\n",
       "        return fig.toolbar_button_onclick(event['data']);\n",
       "    }\n",
       "    function toolbar_mouse_event(event) {\n",
       "        return fig.toolbar_button_onmouseover(event['data']);\n",
       "    }\n",
       "\n",
       "    for(var toolbar_ind in mpl.toolbar_items){\n",
       "        var name = mpl.toolbar_items[toolbar_ind][0];\n",
       "        var tooltip = mpl.toolbar_items[toolbar_ind][1];\n",
       "        var image = mpl.toolbar_items[toolbar_ind][2];\n",
       "        var method_name = mpl.toolbar_items[toolbar_ind][3];\n",
       "\n",
       "        if (!name) { continue; };\n",
       "\n",
       "        var button = $('<button class=\"btn btn-default\" href=\"#\" title=\"' + name + '\"><i class=\"fa ' + image + ' fa-lg\"></i></button>');\n",
       "        button.click(method_name, toolbar_event);\n",
       "        button.mouseover(tooltip, toolbar_mouse_event);\n",
       "        nav_element.append(button);\n",
       "    }\n",
       "\n",
       "    // Add the status bar.\n",
       "    var status_bar = $('<span class=\"mpl-message\" style=\"text-align:right; float: right;\"/>');\n",
       "    nav_element.append(status_bar);\n",
       "    this.message = status_bar[0];\n",
       "\n",
       "    // Add the close button to the window.\n",
       "    var buttongrp = $('<div class=\"btn-group inline pull-right\"></div>');\n",
       "    var button = $('<button class=\"btn btn-mini btn-primary\" href=\"#\" title=\"Stop Interaction\"><i class=\"fa fa-power-off icon-remove icon-large\"></i></button>');\n",
       "    button.click(function (evt) { fig.handle_close(fig, {}); } );\n",
       "    button.mouseover('Stop Interaction', toolbar_mouse_event);\n",
       "    buttongrp.append(button);\n",
       "    var titlebar = this.root.find($('.ui-dialog-titlebar'));\n",
       "    titlebar.prepend(buttongrp);\n",
       "}\n",
       "\n",
       "mpl.figure.prototype._root_extra_style = function(el){\n",
       "    var fig = this\n",
       "    el.on(\"remove\", function(){\n",
       "\tfig.close_ws(fig, {});\n",
       "    });\n",
       "}\n",
       "\n",
       "mpl.figure.prototype._canvas_extra_style = function(el){\n",
       "    // this is important to make the div 'focusable\n",
       "    el.attr('tabindex', 0)\n",
       "    // reach out to IPython and tell the keyboard manager to turn it's self\n",
       "    // off when our div gets focus\n",
       "\n",
       "    // location in version 3\n",
       "    if (IPython.notebook.keyboard_manager) {\n",
       "        IPython.notebook.keyboard_manager.register_events(el);\n",
       "    }\n",
       "    else {\n",
       "        // location in version 2\n",
       "        IPython.keyboard_manager.register_events(el);\n",
       "    }\n",
       "\n",
       "}\n",
       "\n",
       "mpl.figure.prototype._key_event_extra = function(event, name) {\n",
       "    var manager = IPython.notebook.keyboard_manager;\n",
       "    if (!manager)\n",
       "        manager = IPython.keyboard_manager;\n",
       "\n",
       "    // Check for shift+enter\n",
       "    if (event.shiftKey && event.which == 13) {\n",
       "        this.canvas_div.blur();\n",
       "        event.shiftKey = false;\n",
       "        // Send a \"J\" for go to next cell\n",
       "        event.which = 74;\n",
       "        event.keyCode = 74;\n",
       "        manager.command_mode();\n",
       "        manager.handle_keydown(event);\n",
       "    }\n",
       "}\n",
       "\n",
       "mpl.figure.prototype.handle_save = function(fig, msg) {\n",
       "    fig.ondownload(fig, null);\n",
       "}\n",
       "\n",
       "\n",
       "mpl.find_output_cell = function(html_output) {\n",
       "    // Return the cell and output element which can be found *uniquely* in the notebook.\n",
       "    // Note - this is a bit hacky, but it is done because the \"notebook_saving.Notebook\"\n",
       "    // IPython event is triggered only after the cells have been serialised, which for\n",
       "    // our purposes (turning an active figure into a static one), is too late.\n",
       "    var cells = IPython.notebook.get_cells();\n",
       "    var ncells = cells.length;\n",
       "    for (var i=0; i<ncells; i++) {\n",
       "        var cell = cells[i];\n",
       "        if (cell.cell_type === 'code'){\n",
       "            for (var j=0; j<cell.output_area.outputs.length; j++) {\n",
       "                var data = cell.output_area.outputs[j];\n",
       "                if (data.data) {\n",
       "                    // IPython >= 3 moved mimebundle to data attribute of output\n",
       "                    data = data.data;\n",
       "                }\n",
       "                if (data['text/html'] == html_output) {\n",
       "                    return [cell, data, j];\n",
       "                }\n",
       "            }\n",
       "        }\n",
       "    }\n",
       "}\n",
       "\n",
       "// Register the function which deals with the matplotlib target/channel.\n",
       "// The kernel may be null if the page has been refreshed.\n",
       "if (IPython.notebook.kernel != null) {\n",
       "    IPython.notebook.kernel.comm_manager.register_target('matplotlib', mpl.mpl_figure_comm);\n",
       "}\n"
      ],
      "text/plain": [
       "<IPython.core.display.Javascript object>"
      ]
     },
     "metadata": {},
     "output_type": "display_data"
    },
    {
     "data": {
      "text/html": [
       "<img src=\"data:image/png;base64,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\">"
      ],
      "text/plain": [
       "<IPython.core.display.HTML object>"
      ]
     },
     "metadata": {},
     "output_type": "display_data"
    },
    {
     "data": {
      "text/plain": [
       "<matplotlib.text.Text at 0x118e07e80>"
      ]
     },
     "execution_count": 88,
     "metadata": {},
     "output_type": "execute_result"
    }
   ],
   "source": [
    "pl.scatter(timeArray, distArray, color = 'k')\n",
    "\n",
    "pl.xlim(4, 6)\n",
    "pl.ylim(50, 200)\n",
    "\n",
    "pl.xlabel('time (s)')\n",
    "pl.ylabel('distance (m)')"
   ]
  },
  {
   "cell_type": "code",
   "execution_count": 89,
   "metadata": {
    "collapsed": true
   },
   "outputs": [],
   "source": [
    "%matplotlib inline"
   ]
  },
  {
   "cell_type": "markdown",
   "metadata": {},
   "source": [
    "#### To plot distArray vs. timeArray with a blue solid line: "
   ]
  },
  {
   "cell_type": "code",
   "execution_count": 94,
   "metadata": {
    "collapsed": false
   },
   "outputs": [
    {
     "data": {
      "text/plain": [
       "<matplotlib.text.Text at 0x1190f4d30>"
      ]
     },
     "execution_count": 94,
     "metadata": {},
     "output_type": "execute_result"
    },
    {
     "data": {
      "image/png": "[encoded data removed]",
      "text/plain": [
       "<matplotlib.figure.Figure at 0x11906ff28>"
      ]
     },
     "metadata": {},
     "output_type": "display_data"
    }
   ],
   "source": [
    "pl.plot(timeArray, distArray, color='b', ls='-')\n",
    "pl.xlabel('time (s)')           # xlabel is the abscissa\n",
    "pl.ylabel('distance (m)')       # ylabel is the ordinate"
   ]
  },
  {
   "cell_type": "markdown",
   "metadata": {},
   "source": [
    "To save the figure, use savefig('filename') and the .pdf, or .eps, or .png, or ...\n",
    "extension (which Python interprets for you!):"
   ]
  },
  {
   "cell_type": "code",
   "execution_count": 96,
   "metadata": {
    "collapsed": false
   },
   "outputs": [
    {
     "data": {
      "image/png": "[encoded data removed]",
      "text/plain": [
       "<matplotlib.figure.Figure at 0x1192c6a58>"
      ]
     },
     "metadata": {},
     "output_type": "display_data"
    }
   ],
   "source": [
    "pl.xlabel('time1 (s)')\n",
    "pl.plot(timeArray, distArray, color='b', ls='-')\n",
    "\n",
    "pl.ylabel('distance (m)')\n",
    "pl.title('Position vs. Time')\n",
    "\n",
    "pl.savefig('position_v_time.pdf')        # In the same cell as pl.plot\n",
    "pl.savefig('position_v_time.eps')\n",
    "pl.savefig('position_v_time.png')"
   ]
  },
  {
   "cell_type": "markdown",
   "metadata": {},
   "source": [
    "#### Q. Where will these files be saved on our computer?"
   ]
  },
  {
   "cell_type": "raw",
   "metadata": {},
   "source": [
    "\n",
    "\n",
    "\n",
    "\n",
    "\n",
    "\n",
    "\n",
    "\n",
    "\n",
    "\n",
    "\n",
    "\n",
    "\n"
   ]
  },
  {
   "cell_type": "code",
   "execution_count": 98,
   "metadata": {
    "collapsed": false
   },
   "outputs": [
    {
     "name": "stdout",
     "output_type": "stream",
     "text": [
      "position_v_time.eps  position_v_time.pdf  position_v_time.png\r\n"
     ]
    }
   ],
   "source": [
    "ls position_v_time*"
   ]
  },
  {
   "cell_type": "markdown",
   "metadata": {},
   "source": [
    "### More array methods"
   ]
  },
  {
   "cell_type": "markdown",
   "metadata": {},
   "source": [
    "Three topics today:\n",
    "\n",
    "1. Array slicing vs. copying\n",
    "2. \"Allocating\" or \"initializing\" arrays\n",
    "3. Boolean logic on arrays \n",
    "    "
   ]
  },
  {
   "cell_type": "markdown",
   "metadata": {},
   "source": [
    "### Making copies of arrays"
   ]
  },
  {
   "cell_type": "code",
   "execution_count": 99,
   "metadata": {
    "collapsed": false
   },
   "outputs": [
    {
     "name": "stdout",
     "output_type": "stream",
     "text": [
      "[ 0.  1.  2.  3.  4.  5.] [ 1.  2.  3.]\n"
     ]
    }
   ],
   "source": [
    "yArray = np.linspace(0, 5, 6)   # take care of differences of interval determination here!\n",
    "zArray = yArray[1:4]\n",
    "\n",
    "print(yArray, zArray)\n",
    "\n",
    "# Q. What will y and z contain?"
   ]
  },
  {
   "cell_type": "code",
   "execution_count": 100,
   "metadata": {
    "collapsed": false
   },
   "outputs": [],
   "source": [
    "yArray[3] = 10"
   ]
  },
  {
   "cell_type": "markdown",
   "metadata": {},
   "source": [
    "#### Q. What does the next command yield?"
   ]
  },
  {
   "cell_type": "code",
   "execution_count": 101,
   "metadata": {
    "collapsed": false
   },
   "outputs": [
    {
     "name": "stdout",
     "output_type": "stream",
     "text": [
      "[  0.   1.   2.  10.   4.   5.] [  1.   2.  10.]\n"
     ]
    }
   ],
   "source": [
    "print(yArray, zArray)"
   ]
  },
  {
   "cell_type": "code",
   "execution_count": null,
   "metadata": {
    "collapsed": false
   },
   "outputs": [],
   "source": [
    "\n",
    "\n",
    "\n",
    "\n",
    "\n",
    "\n",
    "\n",
    "\n",
    "\n",
    "\n",
    "\n"
   ]
  },
  {
   "cell_type": "markdown",
   "metadata": {},
   "source": [
    "**zArray is not a copy of yArray, it is a slice of yArray!**\n",
    "\n",
    "**AND**:\n",
    "> All arrays generated by basic slicing are always views of the original array.\n",
    "\n",
    "In other words, the variable zArray is a **reference** to three elements within yArray, elements 1, 2, and 3."
   ]
  },
  {
   "cell_type": "markdown",
   "metadata": {},
   "source": [
    "If this is not the desired behavior, copy arrays:"
   ]
  },
  {
   "cell_type": "code",
   "execution_count": 102,
   "metadata": {
    "collapsed": false
   },
   "outputs": [
    {
     "name": "stdout",
     "output_type": "stream",
     "text": [
      "[ 0.  1.  2.  3.  4.  5.] [ 0.  1.  2.  3.  4.  5.]\n"
     ]
    }
   ],
   "source": [
    "yArray = np.linspace(0, 5, 6)\n",
    "zArray = yArray.copy()\n",
    "print(yArray, zArray)"
   ]
  },
  {
   "cell_type": "code",
   "execution_count": 104,
   "metadata": {
    "collapsed": false
   },
   "outputs": [
    {
     "name": "stdout",
     "output_type": "stream",
     "text": [
      "[ 0.  1.  2.  3.  4.  5.] [ 1.  2.  3.]\n"
     ]
    }
   ],
   "source": [
    "zArray = yArray.copy()[1:4]   # you only `catch` the slice into new variable, rest of copy NOT\n",
    "print(yArray, zArray)"
   ]
  },
  {
   "cell_type": "code",
   "execution_count": 105,
   "metadata": {
    "collapsed": false
   },
   "outputs": [
    {
     "name": "stdout",
     "output_type": "stream",
     "text": [
      "[  0.   1.   2.  10.   4.   5.] [ 1.  2.  3.]\n"
     ]
    }
   ],
   "source": [
    "yArray[3] = 10\n",
    "print(yArray, zArray)"
   ]
  },
  {
   "cell_type": "markdown",
   "metadata": {},
   "source": [
    "\"copy\" is an *attribute* of every numpy array, as are \"shape\", \"size\", \"min\", \"max\", etc."
   ]
  },
  {
   "cell_type": "markdown",
   "metadata": {},
   "source": [
    "### Allocating Arrays"
   ]
  },
  {
   "cell_type": "markdown",
   "metadata": {},
   "source": [
    "If we want an array with the same \"shape\" as another array, we've seen that we can copy an array with:"
   ]
  },
  {
   "cell_type": "code",
   "execution_count": 106,
   "metadata": {
    "collapsed": false
   },
   "outputs": [
    {
     "data": {
      "text/plain": [
       "array([1, 2, 3])"
      ]
     },
     "execution_count": 106,
     "metadata": {},
     "output_type": "execute_result"
    }
   ],
   "source": [
    "xArray = np.array([1, 2, 3])\n",
    "aArray = xArray.copy()\n",
    "aArray"
   ]
  },
  {
   "cell_type": "markdown",
   "metadata": {},
   "source": [
    "then fill the array with the appropriate values.\n",
    "\n",
    "However, we could also use numpy.zeros with the attributes xArray.shape and xArray.dtype:"
   ]
  },
  {
   "cell_type": "code",
   "execution_count": 108,
   "metadata": {
    "collapsed": false
   },
   "outputs": [
    {
     "name": "stdout",
     "output_type": "stream",
     "text": [
      "(3,)\n",
      "1\n"
     ]
    },
    {
     "data": {
      "text/plain": [
       "array([1, 2, 3])"
      ]
     },
     "execution_count": 108,
     "metadata": {},
     "output_type": "execute_result"
    }
   ],
   "source": [
    "print(xArray.shape)  # this is a 1D vector\n",
    "print(xArray.ndim)\n",
    "xArray"
   ]
  },
  {
   "cell_type": "code",
   "execution_count": 109,
   "metadata": {
    "collapsed": true
   },
   "outputs": [],
   "source": [
    "xArray.shape = (3,1)"
   ]
  },
  {
   "cell_type": "code",
   "execution_count": 110,
   "metadata": {
    "collapsed": false
   },
   "outputs": [
    {
     "name": "stdout",
     "output_type": "stream",
     "text": [
      "(3, 1)\n",
      "2\n"
     ]
    },
    {
     "data": {
      "text/plain": [
       "array([[1],\n",
       "       [2],\n",
       "       [3]])"
      ]
     },
     "execution_count": 110,
     "metadata": {},
     "output_type": "execute_result"
    }
   ],
   "source": [
    "print(xArray.shape)  # Now it's a 3x1 2D matrix!\n",
    "print(xArray.ndim)\n",
    "xArray"
   ]
  },
  {
   "cell_type": "code",
   "execution_count": 112,
   "metadata": {
    "collapsed": true
   },
   "outputs": [],
   "source": [
    "xArray.shape = (3,)"
   ]
  },
  {
   "cell_type": "code",
   "execution_count": 113,
   "metadata": {
    "collapsed": false
   },
   "outputs": [
    {
     "name": "stdout",
     "output_type": "stream",
     "text": [
      "(3,)\n"
     ]
    },
    {
     "data": {
      "text/plain": [
       "array([0, 0, 0])"
      ]
     },
     "execution_count": 113,
     "metadata": {},
     "output_type": "execute_result"
    }
   ],
   "source": [
    "aArray = np.zeros(xArray.shape, xArray.dtype)\n",
    "print(aArray.shape)\n",
    "aArray"
   ]
  },
  {
   "cell_type": "markdown",
   "metadata": {},
   "source": [
    "Which gives aArray the same \"shape\" and data type as xArray."
   ]
  },
  {
   "cell_type": "markdown",
   "metadata": {},
   "source": [
    "#### Q. What do I mean by the \"shape\" of the array?"
   ]
  },
  {
   "cell_type": "code",
   "execution_count": 116,
   "metadata": {
    "collapsed": false
   },
   "outputs": [
    {
     "data": {
      "text/plain": [
       "array([[[ 0.,  0.,  0.,  0.],\n",
       "        [ 0.,  0.,  0.,  0.],\n",
       "        [ 0.,  0.,  0.,  0.]],\n",
       "\n",
       "       [[ 0.,  0.,  0.,  0.],\n",
       "        [ 0.,  0.,  0.,  0.],\n",
       "        [ 0.,  0.,  0.,  0.]]])"
      ]
     },
     "execution_count": 116,
     "metadata": {},
     "output_type": "execute_result"
    }
   ],
   "source": [
    "np.zeros((2,3,4))"
   ]
  },
  {
   "cell_type": "markdown",
   "metadata": {},
   "source": [
    "#### Q. And what is the data type (dtype)?"
   ]
  },
  {
   "cell_type": "markdown",
   "metadata": {},
   "source": [
    "Alternatively we could do:"
   ]
  },
  {
   "cell_type": "code",
   "execution_count": 117,
   "metadata": {
    "collapsed": false
   },
   "outputs": [],
   "source": [
    "aArray = np.zeros_like(xArray)"
   ]
  },
  {
   "cell_type": "code",
   "execution_count": 119,
   "metadata": {
    "collapsed": true
   },
   "outputs": [],
   "source": [
    "np.zeros??"
   ]
  },
  {
   "cell_type": "code",
   "execution_count": 120,
   "metadata": {
    "collapsed": false
   },
   "outputs": [],
   "source": [
    "bArray = np.ones_like(xArray)"
   ]
  },
  {
   "cell_type": "code",
   "execution_count": 121,
   "metadata": {
    "collapsed": false
   },
   "outputs": [
    {
     "name": "stdout",
     "output_type": "stream",
     "text": [
      "[0 0 0] [1 1 1]\n"
     ]
    }
   ],
   "source": [
    "print(aArray, bArray)"
   ]
  },
  {
   "cell_type": "markdown",
   "metadata": {},
   "source": [
    "### Generalized Indexing"
   ]
  },
  {
   "cell_type": "markdown",
   "metadata": {},
   "source": [
    "Subarrays can be sliced too, with or without range:"
   ]
  },
  {
   "cell_type": "code",
   "execution_count": 123,
   "metadata": {
    "collapsed": false
   },
   "outputs": [
    {
     "data": {
      "text/plain": [
       "array([  1.,   2.,   3.,   4.,   5.,   6.,   7.,   8.,   9.,  10.])"
      ]
     },
     "execution_count": 123,
     "metadata": {},
     "output_type": "execute_result"
    }
   ],
   "source": [
    "# remember, we already imported numpy (as np)!\n",
    "xArray = np.linspace(1, 10, 10)  \n",
    "xArray"
   ]
  },
  {
   "cell_type": "markdown",
   "metadata": {},
   "source": [
    "#### Q. What will xArray contain?"
   ]
  },
  {
   "cell_type": "code",
   "execution_count": 124,
   "metadata": {
    "collapsed": false
   },
   "outputs": [
    {
     "data": {
      "text/plain": [
       "array([  1.,  -1.,   3.,   4.,   5.,  -1.,  -1.,   8.,   9.,  10.])"
      ]
     },
     "execution_count": 124,
     "metadata": {},
     "output_type": "execute_result"
    }
   ],
   "source": [
    "# Note the double brackets indicating a subarray\n",
    "xArray[[1, 5, 6]] = -1\n",
    "xArray"
   ]
  },
  {
   "cell_type": "code",
   "execution_count": 125,
   "metadata": {
    "collapsed": false
   },
   "outputs": [
    {
     "data": {
      "text/plain": [
       "array([ 1.,  2.,  3., -1.,  5.,  6., -1.,  8.,  9., -1.])"
      ]
     },
     "execution_count": 125,
     "metadata": {},
     "output_type": "execute_result"
    }
   ],
   "source": [
    "# Using range instead:\n",
    "\n",
    "xArray = np.linspace(1, 10, 10)\n",
    "xArray[range(3, 10, 3)] = -1 \n",
    "xArray"
   ]
  },
  {
   "cell_type": "markdown",
   "metadata": {},
   "source": [
    "#### Q. What will xArray contain?"
   ]
  },
  {
   "cell_type": "code",
   "execution_count": 126,
   "metadata": {
    "collapsed": false
   },
   "outputs": [
    {
     "data": {
      "text/plain": [
       "array([ 1.,  2.,  3., -1.,  5.,  6., -1.,  8.,  9., -1.])"
      ]
     },
     "execution_count": 126,
     "metadata": {},
     "output_type": "execute_result"
    }
   ],
   "source": [
    "# Compare\n",
    "xArray = np.linspace(1, 10, 10)\n",
    "xArray[[3, 6, 9]] = -1\n",
    "xArray"
   ]
  },
  {
   "cell_type": "markdown",
   "metadata": {},
   "source": [
    "### Boolean Logic\n",
    "\n",
    "When do I use that?\n",
    "* missing or invalid data\n",
    "* investigating subset of a dataset\n",
    "* masking/filtering etc.\n",
    "\n",
    "Complementary methods for dealing with missing or invalid data: numpy masked arrays\n",
    "\n",
    "    http://docs.scipy.org/doc/numpy/reference/maskedarray.html\n",
    "    \n",
    "(masked arrays are a bit harder to use, but offer more powerful features)"
   ]
  },
  {
   "cell_type": "markdown",
   "metadata": {},
   "source": [
    "For example, return a slice of the array consisting of negative elements only:"
   ]
  },
  {
   "cell_type": "code",
   "execution_count": 127,
   "metadata": {
    "collapsed": false
   },
   "outputs": [
    {
     "data": {
      "text/plain": [
       "array([ 1.,  2.,  3., -1.,  5.,  6., -1.,  8.,  9., -1.])"
      ]
     },
     "execution_count": 127,
     "metadata": {},
     "output_type": "execute_result"
    }
   ],
   "source": [
    "xArray"
   ]
  },
  {
   "cell_type": "code",
   "execution_count": 128,
   "metadata": {
    "collapsed": false
   },
   "outputs": [
    {
     "data": {
      "text/plain": [
       "array([False, False, False,  True, False, False,  True, False, False,  True], dtype=bool)"
      ]
     },
     "execution_count": 128,
     "metadata": {},
     "output_type": "execute_result"
    }
   ],
   "source": [
    "myArray = xArray < 0\n",
    "myArray"
   ]
  },
  {
   "cell_type": "code",
   "execution_count": 129,
   "metadata": {
    "collapsed": false
   },
   "outputs": [
    {
     "data": {
      "text/plain": [
       "array([-1., -1., -1.])"
      ]
     },
     "execution_count": 129,
     "metadata": {},
     "output_type": "execute_result"
    }
   ],
   "source": [
    "xArray[xArray < 0]"
   ]
  },
  {
   "cell_type": "markdown",
   "metadata": {},
   "source": [
    "This will replace the elements of a new xArray with values less than zero with the maximum of xArray:"
   ]
  },
  {
   "cell_type": "code",
   "execution_count": 130,
   "metadata": {
    "collapsed": false
   },
   "outputs": [
    {
     "data": {
      "text/plain": [
       "array([-5, -4, -3, -2, -1,  0,  1,  2,  3,  4])"
      ]
     },
     "execution_count": 130,
     "metadata": {},
     "output_type": "execute_result"
    }
   ],
   "source": [
    "xArray = np.arange(-5, 5)\n",
    "xArray"
   ]
  },
  {
   "cell_type": "code",
   "execution_count": 131,
   "metadata": {
    "collapsed": false
   },
   "outputs": [
    {
     "data": {
      "text/plain": [
       "array([4, 4, 4, 4, 4, 0, 1, 2, 3, 4])"
      ]
     },
     "execution_count": 131,
     "metadata": {},
     "output_type": "execute_result"
    }
   ],
   "source": [
    "xArray[xArray < 0] = xArray.max()\n",
    "xArray"
   ]
  },
  {
   "cell_type": "markdown",
   "metadata": {},
   "source": [
    "### Compound Conditionals & Arrays"
   ]
  },
  {
   "cell_type": "markdown",
   "metadata": {},
   "source": [
    "numpy has routines for doing boolean logic:"
   ]
  },
  {
   "cell_type": "code",
   "execution_count": 132,
   "metadata": {
    "collapsed": false
   },
   "outputs": [
    {
     "data": {
      "text/plain": [
       "array([-5, -4, -3, -2, -1,  0,  1,  2,  3,  4])"
      ]
     },
     "execution_count": 132,
     "metadata": {},
     "output_type": "execute_result"
    }
   ],
   "source": [
    "xArray = np.arange(-5, 5)\n",
    "xArray"
   ]
  },
  {
   "cell_type": "markdown",
   "metadata": {},
   "source": [
    "#### \"and\""
   ]
  },
  {
   "cell_type": "code",
   "execution_count": 133,
   "metadata": {
    "collapsed": false
   },
   "outputs": [
    {
     "data": {
      "text/plain": [
       "array([False, False, False, False, False, False,  True, False,  True, False], dtype=bool)"
      ]
     },
     "execution_count": 133,
     "metadata": {},
     "output_type": "execute_result"
    }
   ],
   "source": [
    "np.logical_and(xArray > 0, xArray % 2 == 1)\n",
    "\n",
    "# % is the modulus:  x % 2 == 1 means the remainder of x/2 is 1\n",
    "\n",
    "# Q. So, what should running this cell give us?"
   ]
  },
  {
   "cell_type": "markdown",
   "metadata": {},
   "source": [
    "#### \"or\""
   ]
  },
  {
   "cell_type": "code",
   "execution_count": 134,
   "metadata": {
    "collapsed": false
   },
   "outputs": [
    {
     "data": {
      "text/plain": [
       "array([ True, False, False, False, False, False, False, False, False,  True], dtype=bool)"
      ]
     },
     "execution_count": 134,
     "metadata": {},
     "output_type": "execute_result"
    }
   ],
   "source": [
    "np.logical_or(xArray == xArray.min(), xArray == xArray.max())"
   ]
  },
  {
   "cell_type": "raw",
   "metadata": {},
   "source": [
    "#### \"not\""
   ]
  },
  {
   "cell_type": "code",
   "execution_count": 135,
   "metadata": {
    "collapsed": false
   },
   "outputs": [
    {
     "data": {
      "text/plain": [
       "array([False,  True,  True,  True,  True,  True,  True,  True,  True,  True], dtype=bool)"
      ]
     },
     "execution_count": 135,
     "metadata": {},
     "output_type": "execute_result"
    }
   ],
   "source": [
    "np.logical_not(xArray == xArray.min())"
   ]
  },
  {
   "cell_type": "raw",
   "metadata": {},
   "source": [
    "#### \"any\" or \"all\""
   ]
  },
  {
   "cell_type": "code",
   "execution_count": 136,
   "metadata": {
    "collapsed": false
   },
   "outputs": [
    {
     "name": "stdout",
     "output_type": "stream",
     "text": [
      "False\n",
      "True\n"
     ]
    }
   ],
   "source": [
    "print(np.any(xArray > 10))\n",
    "print(np.any(xArray < -2))"
   ]
  },
  {
   "cell_type": "code",
   "execution_count": 137,
   "metadata": {
    "collapsed": false
   },
   "outputs": [
    {
     "name": "stdout",
     "output_type": "stream",
     "text": [
      "True\n",
      "False\n"
     ]
    }
   ],
   "source": [
    "print(np.all(xArray > -10))\n",
    "print(np.all(xArray > -2))"
   ]
  },
  {
   "cell_type": "code",
   "execution_count": null,
   "metadata": {
    "collapsed": true
   },
   "outputs": [],
   "source": []
  }
 ],
 "metadata": {
  "kernelspec": {
   "display_name": "Python3 (stable)",
   "language": "python",
   "name": "stable"
  },
  "language_info": {
   "codemirror_mode": {
    "name": "ipython",
    "version": 3
   },
   "file_extension": ".py",
   "mimetype": "text/x-python",
   "name": "python",
   "nbconvert_exporter": "python",
   "pygments_lexer": "ipython3",
   "version": "3.5.1"
  }
 },
 "nbformat": 4,
 "nbformat_minor": 0
}
